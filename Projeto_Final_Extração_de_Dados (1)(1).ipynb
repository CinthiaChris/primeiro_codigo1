{
  "nbformat": 4,
  "nbformat_minor": 0,
  "metadata": {
    "colab": {
      "name": "Projeto Final - Extração de Dados.ipynb",
      "provenance": [],
      "toc_visible": true
    },
    "kernelspec": {
      "name": "python3",
      "display_name": "Python 3"
    }
  },
  "cells": [
    {
      "cell_type": "markdown",
      "metadata": {
        "id": "_PSKbQN95PS_"
      },
      "source": [
        "# Preparação do ambiente"
      ]
    },
    {
      "cell_type": "markdown",
      "metadata": {
        "id": "RfykOVml5dq5"
      },
      "source": [
        "## Montando o drive"
      ]
    },
    {
      "cell_type": "code",
      "metadata": {
        "colab": {
          "base_uri": "https://localhost:8080/"
        },
        "id": "R9x6RVX_IriD",
        "outputId": "6b84f2ed-d7b4-4aaf-e673-c48dba11ee97"
      },
      "source": [
        "from google.colab import drive\n",
        "drive.mount('/content/drive')"
      ],
      "execution_count": null,
      "outputs": [
        {
          "output_type": "stream",
          "text": [
            "Mounted at /content/drive\n"
          ],
          "name": "stdout"
        }
      ]
    },
    {
      "cell_type": "markdown",
      "metadata": {
        "id": "I0LcIjIU5ft6"
      },
      "source": [
        "## Importando as libs"
      ]
    },
    {
      "cell_type": "code",
      "metadata": {
        "colab": {
          "base_uri": "https://localhost:8080/"
        },
        "id": "JpQTnjo5oBIH",
        "outputId": "e655e113-fba1-4862-96b4-28e762cbdeef"
      },
      "source": [
        "!pip install geopandas"
      ],
      "execution_count": null,
      "outputs": [
        {
          "output_type": "stream",
          "text": [
            "Collecting geopandas\n",
            "\u001b[?25l  Downloading https://files.pythonhosted.org/packages/f7/a4/e66aafbefcbb717813bf3a355c8c4fc3ed04ea1dd7feb2920f2f4f868921/geopandas-0.8.1-py2.py3-none-any.whl (962kB)\n",
            "\r\u001b[K     |▍                               | 10kB 16.1MB/s eta 0:00:01\r\u001b[K     |▊                               | 20kB 21.6MB/s eta 0:00:01\r\u001b[K     |█                               | 30kB 9.2MB/s eta 0:00:01\r\u001b[K     |█▍                              | 40kB 10.2MB/s eta 0:00:01\r\u001b[K     |█▊                              | 51kB 4.4MB/s eta 0:00:01\r\u001b[K     |██                              | 61kB 4.6MB/s eta 0:00:01\r\u001b[K     |██▍                             | 71kB 4.9MB/s eta 0:00:01\r\u001b[K     |██▊                             | 81kB 5.3MB/s eta 0:00:01\r\u001b[K     |███                             | 92kB 5.4MB/s eta 0:00:01\r\u001b[K     |███▍                            | 102kB 5.9MB/s eta 0:00:01\r\u001b[K     |███▊                            | 112kB 5.9MB/s eta 0:00:01\r\u001b[K     |████                            | 122kB 5.9MB/s eta 0:00:01\r\u001b[K     |████▍                           | 133kB 5.9MB/s eta 0:00:01\r\u001b[K     |████▊                           | 143kB 5.9MB/s eta 0:00:01\r\u001b[K     |█████                           | 153kB 5.9MB/s eta 0:00:01\r\u001b[K     |█████▌                          | 163kB 5.9MB/s eta 0:00:01\r\u001b[K     |█████▉                          | 174kB 5.9MB/s eta 0:00:01\r\u001b[K     |██████▏                         | 184kB 5.9MB/s eta 0:00:01\r\u001b[K     |██████▌                         | 194kB 5.9MB/s eta 0:00:01\r\u001b[K     |██████▉                         | 204kB 5.9MB/s eta 0:00:01\r\u001b[K     |███████▏                        | 215kB 5.9MB/s eta 0:00:01\r\u001b[K     |███████▌                        | 225kB 5.9MB/s eta 0:00:01\r\u001b[K     |███████▉                        | 235kB 5.9MB/s eta 0:00:01\r\u001b[K     |████████▏                       | 245kB 5.9MB/s eta 0:00:01\r\u001b[K     |████████▌                       | 256kB 5.9MB/s eta 0:00:01\r\u001b[K     |████████▉                       | 266kB 5.9MB/s eta 0:00:01\r\u001b[K     |█████████▏                      | 276kB 5.9MB/s eta 0:00:01\r\u001b[K     |█████████▌                      | 286kB 5.9MB/s eta 0:00:01\r\u001b[K     |█████████▉                      | 296kB 5.9MB/s eta 0:00:01\r\u001b[K     |██████████▏                     | 307kB 5.9MB/s eta 0:00:01\r\u001b[K     |██████████▌                     | 317kB 5.9MB/s eta 0:00:01\r\u001b[K     |███████████                     | 327kB 5.9MB/s eta 0:00:01\r\u001b[K     |███████████▎                    | 337kB 5.9MB/s eta 0:00:01\r\u001b[K     |███████████▋                    | 348kB 5.9MB/s eta 0:00:01\r\u001b[K     |████████████                    | 358kB 5.9MB/s eta 0:00:01\r\u001b[K     |████████████▎                   | 368kB 5.9MB/s eta 0:00:01\r\u001b[K     |████████████▋                   | 378kB 5.9MB/s eta 0:00:01\r\u001b[K     |█████████████                   | 389kB 5.9MB/s eta 0:00:01\r\u001b[K     |█████████████▎                  | 399kB 5.9MB/s eta 0:00:01\r\u001b[K     |█████████████▋                  | 409kB 5.9MB/s eta 0:00:01\r\u001b[K     |██████████████                  | 419kB 5.9MB/s eta 0:00:01\r\u001b[K     |██████████████▎                 | 430kB 5.9MB/s eta 0:00:01\r\u001b[K     |██████████████▋                 | 440kB 5.9MB/s eta 0:00:01\r\u001b[K     |███████████████                 | 450kB 5.9MB/s eta 0:00:01\r\u001b[K     |███████████████▎                | 460kB 5.9MB/s eta 0:00:01\r\u001b[K     |███████████████▋                | 471kB 5.9MB/s eta 0:00:01\r\u001b[K     |████████████████                | 481kB 5.9MB/s eta 0:00:01\r\u001b[K     |████████████████▍               | 491kB 5.9MB/s eta 0:00:01\r\u001b[K     |████████████████▊               | 501kB 5.9MB/s eta 0:00:01\r\u001b[K     |█████████████████               | 512kB 5.9MB/s eta 0:00:01\r\u001b[K     |█████████████████▍              | 522kB 5.9MB/s eta 0:00:01\r\u001b[K     |█████████████████▊              | 532kB 5.9MB/s eta 0:00:01\r\u001b[K     |██████████████████              | 542kB 5.9MB/s eta 0:00:01\r\u001b[K     |██████████████████▍             | 552kB 5.9MB/s eta 0:00:01\r\u001b[K     |██████████████████▊             | 563kB 5.9MB/s eta 0:00:01\r\u001b[K     |███████████████████             | 573kB 5.9MB/s eta 0:00:01\r\u001b[K     |███████████████████▍            | 583kB 5.9MB/s eta 0:00:01\r\u001b[K     |███████████████████▊            | 593kB 5.9MB/s eta 0:00:01\r\u001b[K     |████████████████████            | 604kB 5.9MB/s eta 0:00:01\r\u001b[K     |████████████████████▍           | 614kB 5.9MB/s eta 0:00:01\r\u001b[K     |████████████████████▊           | 624kB 5.9MB/s eta 0:00:01\r\u001b[K     |█████████████████████           | 634kB 5.9MB/s eta 0:00:01\r\u001b[K     |█████████████████████▍          | 645kB 5.9MB/s eta 0:00:01\r\u001b[K     |█████████████████████▉          | 655kB 5.9MB/s eta 0:00:01\r\u001b[K     |██████████████████████▏         | 665kB 5.9MB/s eta 0:00:01\r\u001b[K     |██████████████████████▌         | 675kB 5.9MB/s eta 0:00:01\r\u001b[K     |██████████████████████▉         | 686kB 5.9MB/s eta 0:00:01\r\u001b[K     |███████████████████████▏        | 696kB 5.9MB/s eta 0:00:01\r\u001b[K     |███████████████████████▌        | 706kB 5.9MB/s eta 0:00:01\r\u001b[K     |███████████████████████▉        | 716kB 5.9MB/s eta 0:00:01\r\u001b[K     |████████████████████████▏       | 727kB 5.9MB/s eta 0:00:01\r\u001b[K     |████████████████████████▌       | 737kB 5.9MB/s eta 0:00:01\r\u001b[K     |████████████████████████▉       | 747kB 5.9MB/s eta 0:00:01\r\u001b[K     |█████████████████████████▏      | 757kB 5.9MB/s eta 0:00:01\r\u001b[K     |█████████████████████████▌      | 768kB 5.9MB/s eta 0:00:01\r\u001b[K     |█████████████████████████▉      | 778kB 5.9MB/s eta 0:00:01\r\u001b[K     |██████████████████████████▏     | 788kB 5.9MB/s eta 0:00:01\r\u001b[K     |██████████████████████████▌     | 798kB 5.9MB/s eta 0:00:01\r\u001b[K     |██████████████████████████▉     | 808kB 5.9MB/s eta 0:00:01\r\u001b[K     |███████████████████████████▎    | 819kB 5.9MB/s eta 0:00:01\r\u001b[K     |███████████████████████████▋    | 829kB 5.9MB/s eta 0:00:01\r\u001b[K     |████████████████████████████    | 839kB 5.9MB/s eta 0:00:01\r\u001b[K     |████████████████████████████▎   | 849kB 5.9MB/s eta 0:00:01\r\u001b[K     |████████████████████████████▋   | 860kB 5.9MB/s eta 0:00:01\r\u001b[K     |█████████████████████████████   | 870kB 5.9MB/s eta 0:00:01\r\u001b[K     |█████████████████████████████▎  | 880kB 5.9MB/s eta 0:00:01\r\u001b[K     |█████████████████████████████▋  | 890kB 5.9MB/s eta 0:00:01\r\u001b[K     |██████████████████████████████  | 901kB 5.9MB/s eta 0:00:01\r\u001b[K     |██████████████████████████████▎ | 911kB 5.9MB/s eta 0:00:01\r\u001b[K     |██████████████████████████████▋ | 921kB 5.9MB/s eta 0:00:01\r\u001b[K     |███████████████████████████████ | 931kB 5.9MB/s eta 0:00:01\r\u001b[K     |███████████████████████████████▎| 942kB 5.9MB/s eta 0:00:01\r\u001b[K     |███████████████████████████████▋| 952kB 5.9MB/s eta 0:00:01\r\u001b[K     |████████████████████████████████| 962kB 5.9MB/s eta 0:00:01\r\u001b[K     |████████████████████████████████| 972kB 5.9MB/s \n",
            "\u001b[?25hRequirement already satisfied: shapely in /usr/local/lib/python3.6/dist-packages (from geopandas) (1.7.1)\n",
            "Requirement already satisfied: pandas>=0.23.0 in /usr/local/lib/python3.6/dist-packages (from geopandas) (1.1.5)\n",
            "Collecting pyproj>=2.2.0\n",
            "\u001b[?25l  Downloading https://files.pythonhosted.org/packages/e4/ab/280e80a67cfc109d15428c0ec56391fc03a65857b7727cf4e6e6f99a4204/pyproj-3.0.0.post1-cp36-cp36m-manylinux2010_x86_64.whl (6.4MB)\n",
            "\u001b[K     |████████████████████████████████| 6.5MB 28.9MB/s \n",
            "\u001b[?25hCollecting fiona\n",
            "\u001b[?25l  Downloading https://files.pythonhosted.org/packages/37/94/4910fd55246c1d963727b03885ead6ef1cd3748a465f7b0239ab25dfc9a3/Fiona-1.8.18-cp36-cp36m-manylinux1_x86_64.whl (14.8MB)\n",
            "\u001b[K     |████████████████████████████████| 14.8MB 241kB/s \n",
            "\u001b[?25hRequirement already satisfied: python-dateutil>=2.7.3 in /usr/local/lib/python3.6/dist-packages (from pandas>=0.23.0->geopandas) (2.8.1)\n",
            "Requirement already satisfied: pytz>=2017.2 in /usr/local/lib/python3.6/dist-packages (from pandas>=0.23.0->geopandas) (2018.9)\n",
            "Requirement already satisfied: numpy>=1.15.4 in /usr/local/lib/python3.6/dist-packages (from pandas>=0.23.0->geopandas) (1.19.4)\n",
            "Requirement already satisfied: certifi in /usr/local/lib/python3.6/dist-packages (from pyproj>=2.2.0->geopandas) (2020.12.5)\n",
            "Collecting cligj>=0.5\n",
            "  Downloading https://files.pythonhosted.org/packages/42/1e/947eadf10d6804bf276eb8a038bd5307996dceaaa41cfd21b7a15ec62f5d/cligj-0.7.1-py3-none-any.whl\n",
            "Collecting munch\n",
            "  Downloading https://files.pythonhosted.org/packages/cc/ab/85d8da5c9a45e072301beb37ad7f833cd344e04c817d97e0cc75681d248f/munch-2.5.0-py2.py3-none-any.whl\n",
            "Requirement already satisfied: six>=1.7 in /usr/local/lib/python3.6/dist-packages (from fiona->geopandas) (1.15.0)\n",
            "Collecting click-plugins>=1.0\n",
            "  Downloading https://files.pythonhosted.org/packages/e9/da/824b92d9942f4e472702488857914bdd50f73021efea15b4cad9aca8ecef/click_plugins-1.1.1-py2.py3-none-any.whl\n",
            "Requirement already satisfied: attrs>=17 in /usr/local/lib/python3.6/dist-packages (from fiona->geopandas) (20.3.0)\n",
            "Requirement already satisfied: click<8,>=4.0 in /usr/local/lib/python3.6/dist-packages (from fiona->geopandas) (7.1.2)\n",
            "Installing collected packages: pyproj, cligj, munch, click-plugins, fiona, geopandas\n",
            "Successfully installed click-plugins-1.1.1 cligj-0.7.1 fiona-1.8.18 geopandas-0.8.1 munch-2.5.0 pyproj-3.0.0.post1\n"
          ],
          "name": "stdout"
        }
      ]
    },
    {
      "cell_type": "code",
      "metadata": {
        "id": "YtgqJaA-I1cj"
      },
      "source": [
        "import pandas as pd\n",
        "import plotly.offline as py\n",
        "import plotly.graph_objects as go\n",
        "import numpy as np\n",
        "import matplotlib.pyplot as plt\n",
        "import geopandas\n",
        "\n",
        "from scipy import stats\n",
        "from datetime import datetime as dt\n",
        "from sklearn.ensemble import RandomForestRegressor, GradientBoostingRegressor\n",
        "from sklearn.feature_selection import SelectKBest\n",
        "from sklearn.feature_selection import f_regression, chi2\n",
        "from sklearn.feature_selection import RFE\n",
        "from sklearn.linear_model import LogisticRegression\n",
        "from sklearn.tree import DecisionTreeClassifier, ExtraTreeClassifier"
      ],
      "execution_count": null,
      "outputs": []
    },
    {
      "cell_type": "markdown",
      "metadata": {
        "id": "lcZOYK2G5jK8"
      },
      "source": [
        "## Leitura do Dataset - Rose"
      ]
    },
    {
      "cell_type": "code",
      "metadata": {
        "id": "ePxE-WD7K6K5",
        "colab": {
          "base_uri": "https://localhost:8080/",
          "height": 419
        },
        "outputId": "6718e232-0ed2-413a-9d03-9aacf5e86f7e"
      },
      "source": [
        "df = pd.read_csv('/content/drive/My Drive/Datasets/caso_full.csv')\n",
        "df.info()"
      ],
      "execution_count": null,
      "outputs": [
        {
          "output_type": "error",
          "ename": "FileNotFoundError",
          "evalue": "ignored",
          "traceback": [
            "\u001b[0;31m---------------------------------------------------------------------------\u001b[0m",
            "\u001b[0;31mFileNotFoundError\u001b[0m                         Traceback (most recent call last)",
            "\u001b[0;32m<ipython-input-7-2678b90cd70f>\u001b[0m in \u001b[0;36m<module>\u001b[0;34m()\u001b[0m\n\u001b[0;32m----> 1\u001b[0;31m \u001b[0mdf\u001b[0m \u001b[0;34m=\u001b[0m \u001b[0mpd\u001b[0m\u001b[0;34m.\u001b[0m\u001b[0mread_csv\u001b[0m\u001b[0;34m(\u001b[0m\u001b[0;34m'/content/drive/My Drive/Datasets/caso_full.csv'\u001b[0m\u001b[0;34m)\u001b[0m\u001b[0;34m\u001b[0m\u001b[0;34m\u001b[0m\u001b[0m\n\u001b[0m\u001b[1;32m      2\u001b[0m \u001b[0mdf\u001b[0m\u001b[0;34m.\u001b[0m\u001b[0minfo\u001b[0m\u001b[0;34m(\u001b[0m\u001b[0;34m)\u001b[0m\u001b[0;34m\u001b[0m\u001b[0;34m\u001b[0m\u001b[0m\n",
            "\u001b[0;32m/usr/local/lib/python3.6/dist-packages/pandas/io/parsers.py\u001b[0m in \u001b[0;36mread_csv\u001b[0;34m(filepath_or_buffer, sep, delimiter, header, names, index_col, usecols, squeeze, prefix, mangle_dupe_cols, dtype, engine, converters, true_values, false_values, skipinitialspace, skiprows, skipfooter, nrows, na_values, keep_default_na, na_filter, verbose, skip_blank_lines, parse_dates, infer_datetime_format, keep_date_col, date_parser, dayfirst, cache_dates, iterator, chunksize, compression, thousands, decimal, lineterminator, quotechar, quoting, doublequote, escapechar, comment, encoding, dialect, error_bad_lines, warn_bad_lines, delim_whitespace, low_memory, memory_map, float_precision)\u001b[0m\n\u001b[1;32m    686\u001b[0m     )\n\u001b[1;32m    687\u001b[0m \u001b[0;34m\u001b[0m\u001b[0m\n\u001b[0;32m--> 688\u001b[0;31m     \u001b[0;32mreturn\u001b[0m \u001b[0m_read\u001b[0m\u001b[0;34m(\u001b[0m\u001b[0mfilepath_or_buffer\u001b[0m\u001b[0;34m,\u001b[0m \u001b[0mkwds\u001b[0m\u001b[0;34m)\u001b[0m\u001b[0;34m\u001b[0m\u001b[0;34m\u001b[0m\u001b[0m\n\u001b[0m\u001b[1;32m    689\u001b[0m \u001b[0;34m\u001b[0m\u001b[0m\n\u001b[1;32m    690\u001b[0m \u001b[0;34m\u001b[0m\u001b[0m\n",
            "\u001b[0;32m/usr/local/lib/python3.6/dist-packages/pandas/io/parsers.py\u001b[0m in \u001b[0;36m_read\u001b[0;34m(filepath_or_buffer, kwds)\u001b[0m\n\u001b[1;32m    452\u001b[0m \u001b[0;34m\u001b[0m\u001b[0m\n\u001b[1;32m    453\u001b[0m     \u001b[0;31m# Create the parser.\u001b[0m\u001b[0;34m\u001b[0m\u001b[0;34m\u001b[0m\u001b[0;34m\u001b[0m\u001b[0m\n\u001b[0;32m--> 454\u001b[0;31m     \u001b[0mparser\u001b[0m \u001b[0;34m=\u001b[0m \u001b[0mTextFileReader\u001b[0m\u001b[0;34m(\u001b[0m\u001b[0mfp_or_buf\u001b[0m\u001b[0;34m,\u001b[0m \u001b[0;34m**\u001b[0m\u001b[0mkwds\u001b[0m\u001b[0;34m)\u001b[0m\u001b[0;34m\u001b[0m\u001b[0;34m\u001b[0m\u001b[0m\n\u001b[0m\u001b[1;32m    455\u001b[0m \u001b[0;34m\u001b[0m\u001b[0m\n\u001b[1;32m    456\u001b[0m     \u001b[0;32mif\u001b[0m \u001b[0mchunksize\u001b[0m \u001b[0;32mor\u001b[0m \u001b[0miterator\u001b[0m\u001b[0;34m:\u001b[0m\u001b[0;34m\u001b[0m\u001b[0;34m\u001b[0m\u001b[0m\n",
            "\u001b[0;32m/usr/local/lib/python3.6/dist-packages/pandas/io/parsers.py\u001b[0m in \u001b[0;36m__init__\u001b[0;34m(self, f, engine, **kwds)\u001b[0m\n\u001b[1;32m    946\u001b[0m             \u001b[0mself\u001b[0m\u001b[0;34m.\u001b[0m\u001b[0moptions\u001b[0m\u001b[0;34m[\u001b[0m\u001b[0;34m\"has_index_names\"\u001b[0m\u001b[0;34m]\u001b[0m \u001b[0;34m=\u001b[0m \u001b[0mkwds\u001b[0m\u001b[0;34m[\u001b[0m\u001b[0;34m\"has_index_names\"\u001b[0m\u001b[0;34m]\u001b[0m\u001b[0;34m\u001b[0m\u001b[0;34m\u001b[0m\u001b[0m\n\u001b[1;32m    947\u001b[0m \u001b[0;34m\u001b[0m\u001b[0m\n\u001b[0;32m--> 948\u001b[0;31m         \u001b[0mself\u001b[0m\u001b[0;34m.\u001b[0m\u001b[0m_make_engine\u001b[0m\u001b[0;34m(\u001b[0m\u001b[0mself\u001b[0m\u001b[0;34m.\u001b[0m\u001b[0mengine\u001b[0m\u001b[0;34m)\u001b[0m\u001b[0;34m\u001b[0m\u001b[0;34m\u001b[0m\u001b[0m\n\u001b[0m\u001b[1;32m    949\u001b[0m \u001b[0;34m\u001b[0m\u001b[0m\n\u001b[1;32m    950\u001b[0m     \u001b[0;32mdef\u001b[0m \u001b[0mclose\u001b[0m\u001b[0;34m(\u001b[0m\u001b[0mself\u001b[0m\u001b[0;34m)\u001b[0m\u001b[0;34m:\u001b[0m\u001b[0;34m\u001b[0m\u001b[0;34m\u001b[0m\u001b[0m\n",
            "\u001b[0;32m/usr/local/lib/python3.6/dist-packages/pandas/io/parsers.py\u001b[0m in \u001b[0;36m_make_engine\u001b[0;34m(self, engine)\u001b[0m\n\u001b[1;32m   1178\u001b[0m     \u001b[0;32mdef\u001b[0m \u001b[0m_make_engine\u001b[0m\u001b[0;34m(\u001b[0m\u001b[0mself\u001b[0m\u001b[0;34m,\u001b[0m \u001b[0mengine\u001b[0m\u001b[0;34m=\u001b[0m\u001b[0;34m\"c\"\u001b[0m\u001b[0;34m)\u001b[0m\u001b[0;34m:\u001b[0m\u001b[0;34m\u001b[0m\u001b[0;34m\u001b[0m\u001b[0m\n\u001b[1;32m   1179\u001b[0m         \u001b[0;32mif\u001b[0m \u001b[0mengine\u001b[0m \u001b[0;34m==\u001b[0m \u001b[0;34m\"c\"\u001b[0m\u001b[0;34m:\u001b[0m\u001b[0;34m\u001b[0m\u001b[0;34m\u001b[0m\u001b[0m\n\u001b[0;32m-> 1180\u001b[0;31m             \u001b[0mself\u001b[0m\u001b[0;34m.\u001b[0m\u001b[0m_engine\u001b[0m \u001b[0;34m=\u001b[0m \u001b[0mCParserWrapper\u001b[0m\u001b[0;34m(\u001b[0m\u001b[0mself\u001b[0m\u001b[0;34m.\u001b[0m\u001b[0mf\u001b[0m\u001b[0;34m,\u001b[0m \u001b[0;34m**\u001b[0m\u001b[0mself\u001b[0m\u001b[0;34m.\u001b[0m\u001b[0moptions\u001b[0m\u001b[0;34m)\u001b[0m\u001b[0;34m\u001b[0m\u001b[0;34m\u001b[0m\u001b[0m\n\u001b[0m\u001b[1;32m   1181\u001b[0m         \u001b[0;32melse\u001b[0m\u001b[0;34m:\u001b[0m\u001b[0;34m\u001b[0m\u001b[0;34m\u001b[0m\u001b[0m\n\u001b[1;32m   1182\u001b[0m             \u001b[0;32mif\u001b[0m \u001b[0mengine\u001b[0m \u001b[0;34m==\u001b[0m \u001b[0;34m\"python\"\u001b[0m\u001b[0;34m:\u001b[0m\u001b[0;34m\u001b[0m\u001b[0;34m\u001b[0m\u001b[0m\n",
            "\u001b[0;32m/usr/local/lib/python3.6/dist-packages/pandas/io/parsers.py\u001b[0m in \u001b[0;36m__init__\u001b[0;34m(self, src, **kwds)\u001b[0m\n\u001b[1;32m   2008\u001b[0m         \u001b[0mkwds\u001b[0m\u001b[0;34m[\u001b[0m\u001b[0;34m\"usecols\"\u001b[0m\u001b[0;34m]\u001b[0m \u001b[0;34m=\u001b[0m \u001b[0mself\u001b[0m\u001b[0;34m.\u001b[0m\u001b[0musecols\u001b[0m\u001b[0;34m\u001b[0m\u001b[0;34m\u001b[0m\u001b[0m\n\u001b[1;32m   2009\u001b[0m \u001b[0;34m\u001b[0m\u001b[0m\n\u001b[0;32m-> 2010\u001b[0;31m         \u001b[0mself\u001b[0m\u001b[0;34m.\u001b[0m\u001b[0m_reader\u001b[0m \u001b[0;34m=\u001b[0m \u001b[0mparsers\u001b[0m\u001b[0;34m.\u001b[0m\u001b[0mTextReader\u001b[0m\u001b[0;34m(\u001b[0m\u001b[0msrc\u001b[0m\u001b[0;34m,\u001b[0m \u001b[0;34m**\u001b[0m\u001b[0mkwds\u001b[0m\u001b[0;34m)\u001b[0m\u001b[0;34m\u001b[0m\u001b[0;34m\u001b[0m\u001b[0m\n\u001b[0m\u001b[1;32m   2011\u001b[0m         \u001b[0mself\u001b[0m\u001b[0;34m.\u001b[0m\u001b[0munnamed_cols\u001b[0m \u001b[0;34m=\u001b[0m \u001b[0mself\u001b[0m\u001b[0;34m.\u001b[0m\u001b[0m_reader\u001b[0m\u001b[0;34m.\u001b[0m\u001b[0munnamed_cols\u001b[0m\u001b[0;34m\u001b[0m\u001b[0;34m\u001b[0m\u001b[0m\n\u001b[1;32m   2012\u001b[0m \u001b[0;34m\u001b[0m\u001b[0m\n",
            "\u001b[0;32mpandas/_libs/parsers.pyx\u001b[0m in \u001b[0;36mpandas._libs.parsers.TextReader.__cinit__\u001b[0;34m()\u001b[0m\n",
            "\u001b[0;32mpandas/_libs/parsers.pyx\u001b[0m in \u001b[0;36mpandas._libs.parsers.TextReader._setup_parser_source\u001b[0;34m()\u001b[0m\n",
            "\u001b[0;31mFileNotFoundError\u001b[0m: [Errno 2] No such file or directory: '/content/drive/My Drive/Datasets/caso_full.csv'"
          ]
        }
      ]
    },
    {
      "cell_type": "markdown",
      "metadata": {
        "id": "YHNChNu35-ba"
      },
      "source": [
        "**Metadados:**\n",
        "\n",
        "* city: nome do município.\n",
        "* city_ibge_code: código IBGE do local.\n",
        "* date: data de coleta dos dados no formato YYYY-MM-DD.\n",
        "* epidemiological_week: número da semana epidemiológica.\n",
        "* estimated_population: população estimada para esse município/estado em 2020, segundo o IBGE.\n",
        "* estimated_population_2019: população estimada para esse município/estado em 2019, segundo o IBGE.\n",
        "* is_last: campo pré-computado que diz se esse registro é o mais novo para esse local, pode ser True ou False.\n",
        "* is_repeated: campo pré-computado que diz se as informações nesse registro foram publicadas pela Secretaria Estadual de Saúde no dia date ou se o dado é repetido do último dia em que o dado está disponível (igual ou anterior a date). Isso ocorre pois nem todas as secretarias publicam boletins todos os dias. Veja também o campo last_available_date.\n",
        "* last_available_confirmed: número de casos confirmados do último dia disponível igual ou anterior à data date.\n",
        "* last_available_confirmed_per_100k_inhabitants: número de casos confirmados por 100.000 habitantes do último dia disponível igual ou anterior à data date.\n",
        "* last_available_date: data da qual o dado se refere.\n",
        "last_available_death_rate: taxa de mortalidade (mortes / confirmados) do último dia disponível igual ou anterior à data date.\n",
        "* last_available_deaths: número de mortes do último dia disponível igual ou anterior à data date.\n",
        "* order_for_place: número que identifica a ordem do registro para este local. O registro referente ao primeiro boletim em que esse local aparecer será contabilizado como 1 e os demais boletins incrementarão esse valor.\n",
        "* place_type: tipo de local que esse registro descreve, pode ser city ou state.\n",
        "* state: sigla da unidade federativa, exemplo: SP.\n",
        "* new_confirmed: número de novos casos confirmados desde o último dia (note que caso is_repeated seja True, esse valor sempre será 0 e que esse valor pode ser negativo caso a SES remaneje os casos desse município para outro).\n",
        "* new_deaths: número de novos óbitos desde o último dia (note que caso is_repeated seja True, esse valor sempre será 0 e que esse valor pode ser negativo caso a SES remaneje os casos desse município para outro)d\n",
        "\n"
      ]
    },
    {
      "cell_type": "markdown",
      "metadata": {
        "id": "gy8qyRWc1DZT"
      },
      "source": [
        "### Análise exploratória"
      ]
    },
    {
      "cell_type": "markdown",
      "metadata": {
        "id": "4OLXcAqyN5rk"
      },
      "source": [
        "Amostra do dataset"
      ]
    },
    {
      "cell_type": "code",
      "metadata": {
        "colab": {
          "base_uri": "https://localhost:8080/",
          "height": 606
        },
        "id": "0gdXT4kcqvbQ",
        "outputId": "9d0e16d3-32a6-4ce3-a572-c161af088d13"
      },
      "source": [
        "df.head(100)"
      ],
      "execution_count": null,
      "outputs": [
        {
          "output_type": "execute_result",
          "data": {
            "text/html": [
              "<div>\n",
              "<style scoped>\n",
              "    .dataframe tbody tr th:only-of-type {\n",
              "        vertical-align: middle;\n",
              "    }\n",
              "\n",
              "    .dataframe tbody tr th {\n",
              "        vertical-align: top;\n",
              "    }\n",
              "\n",
              "    .dataframe thead th {\n",
              "        text-align: right;\n",
              "    }\n",
              "</style>\n",
              "<table border=\"1\" class=\"dataframe\">\n",
              "  <thead>\n",
              "    <tr style=\"text-align: right;\">\n",
              "      <th></th>\n",
              "      <th>city</th>\n",
              "      <th>city_ibge_code</th>\n",
              "      <th>date</th>\n",
              "      <th>epidemiological_week</th>\n",
              "      <th>estimated_population</th>\n",
              "      <th>estimated_population_2019</th>\n",
              "      <th>is_last</th>\n",
              "      <th>is_repeated</th>\n",
              "      <th>last_available_confirmed</th>\n",
              "      <th>last_available_confirmed_per_100k_inhabitants</th>\n",
              "      <th>last_available_date</th>\n",
              "      <th>last_available_death_rate</th>\n",
              "      <th>last_available_deaths</th>\n",
              "      <th>order_for_place</th>\n",
              "      <th>place_type</th>\n",
              "      <th>state</th>\n",
              "      <th>new_confirmed</th>\n",
              "      <th>new_deaths</th>\n",
              "    </tr>\n",
              "  </thead>\n",
              "  <tbody>\n",
              "    <tr>\n",
              "      <th>0</th>\n",
              "      <td>São Paulo</td>\n",
              "      <td>3550308.0</td>\n",
              "      <td>2020-02-25</td>\n",
              "      <td>9</td>\n",
              "      <td>12325232.0</td>\n",
              "      <td>12252023.0</td>\n",
              "      <td>False</td>\n",
              "      <td>False</td>\n",
              "      <td>1</td>\n",
              "      <td>0.00811</td>\n",
              "      <td>2020-02-25</td>\n",
              "      <td>0.0</td>\n",
              "      <td>0</td>\n",
              "      <td>1</td>\n",
              "      <td>city</td>\n",
              "      <td>SP</td>\n",
              "      <td>1</td>\n",
              "      <td>0</td>\n",
              "    </tr>\n",
              "    <tr>\n",
              "      <th>1</th>\n",
              "      <td>NaN</td>\n",
              "      <td>35.0</td>\n",
              "      <td>2020-02-25</td>\n",
              "      <td>9</td>\n",
              "      <td>46289333.0</td>\n",
              "      <td>45919049.0</td>\n",
              "      <td>False</td>\n",
              "      <td>False</td>\n",
              "      <td>1</td>\n",
              "      <td>0.00216</td>\n",
              "      <td>2020-02-25</td>\n",
              "      <td>0.0</td>\n",
              "      <td>0</td>\n",
              "      <td>1</td>\n",
              "      <td>state</td>\n",
              "      <td>SP</td>\n",
              "      <td>1</td>\n",
              "      <td>0</td>\n",
              "    </tr>\n",
              "    <tr>\n",
              "      <th>2</th>\n",
              "      <td>São Paulo</td>\n",
              "      <td>3550308.0</td>\n",
              "      <td>2020-02-26</td>\n",
              "      <td>9</td>\n",
              "      <td>12325232.0</td>\n",
              "      <td>12252023.0</td>\n",
              "      <td>False</td>\n",
              "      <td>False</td>\n",
              "      <td>1</td>\n",
              "      <td>0.00811</td>\n",
              "      <td>2020-02-26</td>\n",
              "      <td>0.0</td>\n",
              "      <td>0</td>\n",
              "      <td>2</td>\n",
              "      <td>city</td>\n",
              "      <td>SP</td>\n",
              "      <td>0</td>\n",
              "      <td>0</td>\n",
              "    </tr>\n",
              "    <tr>\n",
              "      <th>3</th>\n",
              "      <td>NaN</td>\n",
              "      <td>35.0</td>\n",
              "      <td>2020-02-26</td>\n",
              "      <td>9</td>\n",
              "      <td>46289333.0</td>\n",
              "      <td>45919049.0</td>\n",
              "      <td>False</td>\n",
              "      <td>False</td>\n",
              "      <td>1</td>\n",
              "      <td>0.00216</td>\n",
              "      <td>2020-02-26</td>\n",
              "      <td>0.0</td>\n",
              "      <td>0</td>\n",
              "      <td>2</td>\n",
              "      <td>state</td>\n",
              "      <td>SP</td>\n",
              "      <td>0</td>\n",
              "      <td>0</td>\n",
              "    </tr>\n",
              "    <tr>\n",
              "      <th>4</th>\n",
              "      <td>São Paulo</td>\n",
              "      <td>3550308.0</td>\n",
              "      <td>2020-02-27</td>\n",
              "      <td>9</td>\n",
              "      <td>12325232.0</td>\n",
              "      <td>12252023.0</td>\n",
              "      <td>False</td>\n",
              "      <td>False</td>\n",
              "      <td>1</td>\n",
              "      <td>0.00811</td>\n",
              "      <td>2020-02-27</td>\n",
              "      <td>0.0</td>\n",
              "      <td>0</td>\n",
              "      <td>3</td>\n",
              "      <td>city</td>\n",
              "      <td>SP</td>\n",
              "      <td>0</td>\n",
              "      <td>0</td>\n",
              "    </tr>\n",
              "    <tr>\n",
              "      <th>...</th>\n",
              "      <td>...</td>\n",
              "      <td>...</td>\n",
              "      <td>...</td>\n",
              "      <td>...</td>\n",
              "      <td>...</td>\n",
              "      <td>...</td>\n",
              "      <td>...</td>\n",
              "      <td>...</td>\n",
              "      <td>...</td>\n",
              "      <td>...</td>\n",
              "      <td>...</td>\n",
              "      <td>...</td>\n",
              "      <td>...</td>\n",
              "      <td>...</td>\n",
              "      <td>...</td>\n",
              "      <td>...</td>\n",
              "      <td>...</td>\n",
              "      <td>...</td>\n",
              "    </tr>\n",
              "    <tr>\n",
              "      <th>95</th>\n",
              "      <td>Campo Bom</td>\n",
              "      <td>4303905.0</td>\n",
              "      <td>2020-03-11</td>\n",
              "      <td>11</td>\n",
              "      <td>69458.0</td>\n",
              "      <td>66712.0</td>\n",
              "      <td>False</td>\n",
              "      <td>False</td>\n",
              "      <td>1</td>\n",
              "      <td>1.43972</td>\n",
              "      <td>2020-03-11</td>\n",
              "      <td>0.0</td>\n",
              "      <td>0</td>\n",
              "      <td>2</td>\n",
              "      <td>city</td>\n",
              "      <td>RS</td>\n",
              "      <td>0</td>\n",
              "      <td>0</td>\n",
              "    </tr>\n",
              "    <tr>\n",
              "      <th>96</th>\n",
              "      <td>Porto Alegre</td>\n",
              "      <td>4314902.0</td>\n",
              "      <td>2020-03-11</td>\n",
              "      <td>11</td>\n",
              "      <td>1488252.0</td>\n",
              "      <td>1483771.0</td>\n",
              "      <td>False</td>\n",
              "      <td>False</td>\n",
              "      <td>1</td>\n",
              "      <td>0.06719</td>\n",
              "      <td>2020-03-11</td>\n",
              "      <td>0.0</td>\n",
              "      <td>0</td>\n",
              "      <td>1</td>\n",
              "      <td>city</td>\n",
              "      <td>RS</td>\n",
              "      <td>1</td>\n",
              "      <td>0</td>\n",
              "    </tr>\n",
              "    <tr>\n",
              "      <th>97</th>\n",
              "      <td>Santana de Parnaíba</td>\n",
              "      <td>3547304.0</td>\n",
              "      <td>2020-03-11</td>\n",
              "      <td>11</td>\n",
              "      <td>142301.0</td>\n",
              "      <td>139447.0</td>\n",
              "      <td>False</td>\n",
              "      <td>False</td>\n",
              "      <td>1</td>\n",
              "      <td>0.70274</td>\n",
              "      <td>2020-03-11</td>\n",
              "      <td>0.0</td>\n",
              "      <td>0</td>\n",
              "      <td>5</td>\n",
              "      <td>city</td>\n",
              "      <td>SP</td>\n",
              "      <td>0</td>\n",
              "      <td>0</td>\n",
              "    </tr>\n",
              "    <tr>\n",
              "      <th>98</th>\n",
              "      <td>São Paulo</td>\n",
              "      <td>3550308.0</td>\n",
              "      <td>2020-03-11</td>\n",
              "      <td>11</td>\n",
              "      <td>12325232.0</td>\n",
              "      <td>12252023.0</td>\n",
              "      <td>False</td>\n",
              "      <td>False</td>\n",
              "      <td>29</td>\n",
              "      <td>0.23529</td>\n",
              "      <td>2020-03-11</td>\n",
              "      <td>0.0</td>\n",
              "      <td>0</td>\n",
              "      <td>16</td>\n",
              "      <td>city</td>\n",
              "      <td>SP</td>\n",
              "      <td>11</td>\n",
              "      <td>0</td>\n",
              "    </tr>\n",
              "    <tr>\n",
              "      <th>99</th>\n",
              "      <td>NaN</td>\n",
              "      <td>27.0</td>\n",
              "      <td>2020-03-11</td>\n",
              "      <td>11</td>\n",
              "      <td>3351543.0</td>\n",
              "      <td>3337357.0</td>\n",
              "      <td>False</td>\n",
              "      <td>True</td>\n",
              "      <td>1</td>\n",
              "      <td>0.02984</td>\n",
              "      <td>2020-03-10</td>\n",
              "      <td>0.0</td>\n",
              "      <td>0</td>\n",
              "      <td>4</td>\n",
              "      <td>state</td>\n",
              "      <td>AL</td>\n",
              "      <td>0</td>\n",
              "      <td>0</td>\n",
              "    </tr>\n",
              "  </tbody>\n",
              "</table>\n",
              "<p>100 rows × 18 columns</p>\n",
              "</div>"
            ],
            "text/plain": [
              "                   city  city_ibge_code  ... new_confirmed  new_deaths\n",
              "0             São Paulo       3550308.0  ...             1           0\n",
              "1                   NaN            35.0  ...             1           0\n",
              "2             São Paulo       3550308.0  ...             0           0\n",
              "3                   NaN            35.0  ...             0           0\n",
              "4             São Paulo       3550308.0  ...             0           0\n",
              "..                  ...             ...  ...           ...         ...\n",
              "95            Campo Bom       4303905.0  ...             0           0\n",
              "96         Porto Alegre       4314902.0  ...             1           0\n",
              "97  Santana de Parnaíba       3547304.0  ...             0           0\n",
              "98            São Paulo       3550308.0  ...            11           0\n",
              "99                  NaN            27.0  ...             0           0\n",
              "\n",
              "[100 rows x 18 columns]"
            ]
          },
          "metadata": {
            "tags": []
          },
          "execution_count": 98
        }
      ]
    },
    {
      "cell_type": "markdown",
      "metadata": {
        "id": "5BHO6ifWN-u_"
      },
      "source": [
        "Análise descritiva do dataset"
      ]
    },
    {
      "cell_type": "code",
      "metadata": {
        "colab": {
          "base_uri": "https://localhost:8080/",
          "height": 393
        },
        "id": "SctcIKtNC_0m",
        "outputId": "70024adf-6379-4d9d-d793-3bfa4ffb8c50"
      },
      "source": [
        "# Identificando algumas questões importantes a partir do describe do dataset\n",
        "# - que o contagio do virus começou por volta da semana 9 do ano ( final de fevereiro);\n",
        "# - valores negativos nos atributos 'new_confirmed' e 'new_deaths' indicam que alguns casos foram remanejados para outros municipios\n",
        "# - a média dos casos confirmados é menor que a média dos casos de morte.\n",
        "# - - Ou muitas pessoas que morreram de covid nao fizeram o teste antes\n",
        "# - - Ou é uma inflação dos números de mortes por covid\n",
        "# - existem cidades com menos de 1 mil habitantes - Serra da Saudade / MG\n",
        "# - cidade mais populosa com mais de 40 milhoes de habitantes - ###### / SP\n",
        "# - a maior taxa de mortos/confirmados aculados foi 1, \n",
        "# - - indicando que existiu um momento em que o numero total de mortos foi igual ao numero total de confirmados\n",
        "# - maior numero de mortes em um unico dia (455 mortes) - ###### / SP\n",
        "# - maior numero de confirmados em um unico dia (30913) - ###### / SC\n",
        "df.describe().transpose()"
      ],
      "execution_count": null,
      "outputs": [
        {
          "output_type": "execute_result",
          "data": {
            "text/html": [
              "<div>\n",
              "<style scoped>\n",
              "    .dataframe tbody tr th:only-of-type {\n",
              "        vertical-align: middle;\n",
              "    }\n",
              "\n",
              "    .dataframe tbody tr th {\n",
              "        vertical-align: top;\n",
              "    }\n",
              "\n",
              "    .dataframe thead th {\n",
              "        text-align: right;\n",
              "    }\n",
              "</style>\n",
              "<table border=\"1\" class=\"dataframe\">\n",
              "  <thead>\n",
              "    <tr style=\"text-align: right;\">\n",
              "      <th></th>\n",
              "      <th>count</th>\n",
              "      <th>mean</th>\n",
              "      <th>std</th>\n",
              "      <th>min</th>\n",
              "      <th>25%</th>\n",
              "      <th>50%</th>\n",
              "      <th>75%</th>\n",
              "      <th>max</th>\n",
              "    </tr>\n",
              "  </thead>\n",
              "  <tbody>\n",
              "    <tr>\n",
              "      <th>city_ibge_code</th>\n",
              "      <td>1192447.0</td>\n",
              "      <td>3.207092e+06</td>\n",
              "      <td>1.012613e+06</td>\n",
              "      <td>11.00000</td>\n",
              "      <td>2.505709e+06</td>\n",
              "      <td>3.141900e+06</td>\n",
              "      <td>4.114401e+06</td>\n",
              "      <td>5.300108e+06</td>\n",
              "    </tr>\n",
              "    <tr>\n",
              "      <th>epidemiological_week</th>\n",
              "      <td>1197106.0</td>\n",
              "      <td>3.454301e+01</td>\n",
              "      <td>9.280022e+00</td>\n",
              "      <td>9.00000</td>\n",
              "      <td>2.700000e+01</td>\n",
              "      <td>3.500000e+01</td>\n",
              "      <td>4.200000e+01</td>\n",
              "      <td>5.000000e+01</td>\n",
              "    </tr>\n",
              "    <tr>\n",
              "      <th>estimated_population</th>\n",
              "      <td>1192447.0</td>\n",
              "      <td>9.338124e+04</td>\n",
              "      <td>9.937708e+05</td>\n",
              "      <td>776.00000</td>\n",
              "      <td>5.981000e+03</td>\n",
              "      <td>1.310400e+04</td>\n",
              "      <td>2.912700e+04</td>\n",
              "      <td>4.628933e+07</td>\n",
              "    </tr>\n",
              "    <tr>\n",
              "      <th>estimated_population_2019</th>\n",
              "      <td>1192447.0</td>\n",
              "      <td>9.266501e+04</td>\n",
              "      <td>9.865870e+05</td>\n",
              "      <td>781.00000</td>\n",
              "      <td>5.971000e+03</td>\n",
              "      <td>1.308100e+04</td>\n",
              "      <td>2.893500e+04</td>\n",
              "      <td>4.591905e+07</td>\n",
              "    </tr>\n",
              "    <tr>\n",
              "      <th>last_available_confirmed</th>\n",
              "      <td>1197106.0</td>\n",
              "      <td>1.219864e+03</td>\n",
              "      <td>1.499225e+04</td>\n",
              "      <td>0.00000</td>\n",
              "      <td>1.600000e+01</td>\n",
              "      <td>7.900000e+01</td>\n",
              "      <td>3.170000e+02</td>\n",
              "      <td>1.306585e+06</td>\n",
              "    </tr>\n",
              "    <tr>\n",
              "      <th>last_available_confirmed_per_100k_inhabitants</th>\n",
              "      <td>1177091.0</td>\n",
              "      <td>1.270545e+03</td>\n",
              "      <td>1.529872e+03</td>\n",
              "      <td>0.00216</td>\n",
              "      <td>1.856853e+02</td>\n",
              "      <td>7.797271e+02</td>\n",
              "      <td>1.808013e+03</td>\n",
              "      <td>2.527765e+04</td>\n",
              "    </tr>\n",
              "    <tr>\n",
              "      <th>last_available_death_rate</th>\n",
              "      <td>1197106.0</td>\n",
              "      <td>3.357678e-02</td>\n",
              "      <td>8.483316e-02</td>\n",
              "      <td>0.00000</td>\n",
              "      <td>0.000000e+00</td>\n",
              "      <td>1.600000e-02</td>\n",
              "      <td>3.410000e-02</td>\n",
              "      <td>1.000000e+00</td>\n",
              "    </tr>\n",
              "    <tr>\n",
              "      <th>last_available_deaths</th>\n",
              "      <td>1197106.0</td>\n",
              "      <td>3.830974e+01</td>\n",
              "      <td>5.470176e+02</td>\n",
              "      <td>0.00000</td>\n",
              "      <td>0.000000e+00</td>\n",
              "      <td>2.000000e+00</td>\n",
              "      <td>7.000000e+00</td>\n",
              "      <td>4.346100e+04</td>\n",
              "    </tr>\n",
              "    <tr>\n",
              "      <th>order_for_place</th>\n",
              "      <td>1197106.0</td>\n",
              "      <td>1.092073e+02</td>\n",
              "      <td>6.491211e+01</td>\n",
              "      <td>1.00000</td>\n",
              "      <td>5.400000e+01</td>\n",
              "      <td>1.070000e+02</td>\n",
              "      <td>1.610000e+02</td>\n",
              "      <td>2.890000e+02</td>\n",
              "    </tr>\n",
              "    <tr>\n",
              "      <th>new_confirmed</th>\n",
              "      <td>1197106.0</td>\n",
              "      <td>1.121435e+01</td>\n",
              "      <td>1.471798e+02</td>\n",
              "      <td>-6791.00000</td>\n",
              "      <td>0.000000e+00</td>\n",
              "      <td>0.000000e+00</td>\n",
              "      <td>2.000000e+00</td>\n",
              "      <td>3.091300e+04</td>\n",
              "    </tr>\n",
              "    <tr>\n",
              "      <th>new_deaths</th>\n",
              "      <td>1197106.0</td>\n",
              "      <td>2.986736e-01</td>\n",
              "      <td>4.516356e+00</td>\n",
              "      <td>-187.00000</td>\n",
              "      <td>0.000000e+00</td>\n",
              "      <td>0.000000e+00</td>\n",
              "      <td>0.000000e+00</td>\n",
              "      <td>4.550000e+02</td>\n",
              "    </tr>\n",
              "  </tbody>\n",
              "</table>\n",
              "</div>"
            ],
            "text/plain": [
              "                                                   count  ...           max\n",
              "city_ibge_code                                 1192447.0  ...  5.300108e+06\n",
              "epidemiological_week                           1197106.0  ...  5.000000e+01\n",
              "estimated_population                           1192447.0  ...  4.628933e+07\n",
              "estimated_population_2019                      1192447.0  ...  4.591905e+07\n",
              "last_available_confirmed                       1197106.0  ...  1.306585e+06\n",
              "last_available_confirmed_per_100k_inhabitants  1177091.0  ...  2.527765e+04\n",
              "last_available_death_rate                      1197106.0  ...  1.000000e+00\n",
              "last_available_deaths                          1197106.0  ...  4.346100e+04\n",
              "order_for_place                                1197106.0  ...  2.890000e+02\n",
              "new_confirmed                                  1197106.0  ...  3.091300e+04\n",
              "new_deaths                                     1197106.0  ...  4.550000e+02\n",
              "\n",
              "[11 rows x 8 columns]"
            ]
          },
          "metadata": {
            "tags": []
          },
          "execution_count": 99
        }
      ]
    },
    {
      "cell_type": "code",
      "metadata": {
        "colab": {
          "base_uri": "https://localhost:8080/"
        },
        "id": "U2t2DsZJI_ye",
        "outputId": "d7866de3-1bd6-49e1-f1b2-69c86f469499"
      },
      "source": [
        "# menor população\n",
        "print((df[df.estimated_population == df.estimated_population.min()]).drop_duplicates(subset='city'))\n",
        "print('\\n')\n",
        "\n",
        "# maior população\n",
        "print((df[df.estimated_population == df.estimated_population.max()]).drop_duplicates(subset='city'))\n",
        "print('\\n')\n",
        "\n",
        "# maior numero de confirmador por covid\n",
        "print((df[df.new_confirmed == df.new_confirmed.max()]).drop_duplicates(subset='city'))\n",
        "print('\\n')\n",
        "\n",
        "# maior numero de mortes por covid\n",
        "print((df[df.new_deaths == df.new_deaths.max()]).drop_duplicates(subset='city'))\n",
        "print('\\n')\n",
        "\n",
        "print((df[df.last_available_death_rate == df.last_available_death_rate.max()]).drop_duplicates(subset='city'))"
      ],
      "execution_count": null,
      "outputs": [
        {
          "output_type": "stream",
          "text": [
            "                    city  city_ibge_code  ... new_confirmed  new_deaths\n",
            "272166  Serra da Saudade       3166600.0  ...             0           0\n",
            "\n",
            "[1 rows x 18 columns]\n",
            "\n",
            "\n",
            "  city  city_ibge_code        date  ...  state  new_confirmed  new_deaths\n",
            "1  NaN            35.0  2020-02-25  ...     SP              1           0\n",
            "\n",
            "[1 rows x 18 columns]\n",
            "\n",
            "\n",
            "       city  city_ibge_code        date  ...  state  new_confirmed  new_deaths\n",
            "635773  NaN            42.0  2020-08-31  ...     SC          30913          25\n",
            "\n",
            "[1 rows x 18 columns]\n",
            "\n",
            "\n",
            "       city  city_ibge_code        date  ...  state  new_confirmed  new_deaths\n",
            "534992  NaN            35.0  2020-08-13  ...     SP          19274         455\n",
            "\n",
            "[1 rows x 18 columns]\n",
            "\n",
            "\n",
            "                          city  city_ibge_code  ... new_confirmed  new_deaths\n",
            "553             Miguel Pereira       3302908.0  ...             1           1\n",
            "1773           Taboão da Serra       3552809.0  ...             1           1\n",
            "1856                  Luziânia       5212501.0  ...             0           1\n",
            "2043            Ribeirão Preto       3543402.0  ...             1           1\n",
            "2058    Vargem Grande Paulista       3556453.0  ...             1           0\n",
            "...                        ...             ...  ...           ...         ...\n",
            "648491             Casa Grande       3114907.0  ...             0           1\n",
            "684821   Nova Esperança do Sul       4313037.0  ...             1           1\n",
            "710531             Novorizonte       3145372.0  ...             0           1\n",
            "767910             Riacho Frio       2208858.0  ...             0           1\n",
            "789140                 Pequeri       3149507.0  ...             0           1\n",
            "\n",
            "[391 rows x 18 columns]\n"
          ],
          "name": "stdout"
        }
      ]
    },
    {
      "cell_type": "markdown",
      "metadata": {
        "id": "rJOz-epKvzO3"
      },
      "source": [
        "### Valores Faltantes"
      ]
    },
    {
      "cell_type": "code",
      "metadata": {
        "colab": {
          "base_uri": "https://localhost:8080/"
        },
        "id": "No-I-MidzSCE",
        "outputId": "ce4f2f7b-4e6a-4fa4-87e8-176657f47ede"
      },
      "source": [
        "# Explicações para os dados faltantes:\n",
        "# - ciy: alguns registros fazem referência ao estado e por isso o campo 'city' nao tem valor;\n",
        "# - - Ou seja, neste caso o atributo é do tipo faltando aleatorio - MAR\n",
        "# - city_ibge_code: o mesmo do atributo anterior;\n",
        "# - estimated_population: alguns registros não foram computados devido ao dados desatualizados do ibge;\n",
        "# - estimated_poplation_2019: o mesmo do atributo anterior;\n",
        "# - last_availble_confirmed_per_100k_inhabitants: dados computados referents à 'estimated_population', que possuem registros faltantes também.\n",
        "# - - formula para calcular o valor do atributo: (numero de casos confirmados * 100000) / numero estimado da população\n",
        "# Tratando valores ausentes\n",
        "# - como nao existe como saber de qual cidade pertence tal registro, o mesmo sera retirado\n",
        "df.isnull().sum()"
      ],
      "execution_count": null,
      "outputs": [
        {
          "output_type": "execute_result",
          "data": {
            "text/plain": [
              "city                                              7348\n",
              "city_ibge_code                                    4659\n",
              "date                                                 0\n",
              "epidemiological_week                                 0\n",
              "estimated_population                              4659\n",
              "estimated_population_2019                         4659\n",
              "is_last                                              0\n",
              "is_repeated                                          0\n",
              "last_available_confirmed                             0\n",
              "last_available_confirmed_per_100k_inhabitants    20015\n",
              "last_available_date                                  0\n",
              "last_available_death_rate                            0\n",
              "last_available_deaths                                0\n",
              "order_for_place                                      0\n",
              "place_type                                           0\n",
              "state                                                0\n",
              "new_confirmed                                        0\n",
              "new_deaths                                           0\n",
              "dtype: int64"
            ]
          },
          "metadata": {
            "tags": []
          },
          "execution_count": 101
        }
      ]
    },
    {
      "cell_type": "markdown",
      "metadata": {
        "id": "OJfizUWrO8Wp"
      },
      "source": [
        "Tratando os valores faltantes"
      ]
    },
    {
      "cell_type": "code",
      "metadata": {
        "id": "OiLNjmcCO-ul"
      },
      "source": [
        "# atributo 'last_available_confirmed_per_100k_inhabitants'\n",
        "# recalculando os valores do atributo para preencher a partir do atributo 'last_available_confirmed'\n",
        "# MCAR - completamente aleatório\n",
        "\n",
        "df['last_available_confirmed_per_100k_inhabitants'].fillna((df.last_available_confirmed * 100000) / df.estimated_population, inplace=True)"
      ],
      "execution_count": null,
      "outputs": []
    },
    {
      "cell_type": "code",
      "metadata": {
        "colab": {
          "base_uri": "https://localhost:8080/"
        },
        "id": "VJAslKESX-tr",
        "outputId": "819fb1f3-f06e-400f-cbfe-f69b4adadcfe"
      },
      "source": [
        "# atributo 'city'\n",
        "# retirar todos os registro que possuem o valor 'Importados/Indefinidos' ou valor nulo do atributo 'city',\n",
        "#   pois é um registro que faz referencia ao estado como um todo e nao apenas a uma cidade específica\n",
        "# MAR - aleatório\n",
        "df = df[(df.city.isnull() == False) & (df.city != 'Importados/Indefinidos')]\n",
        "df.info()"
      ],
      "execution_count": null,
      "outputs": [
        {
          "output_type": "stream",
          "text": [
            "<class 'pandas.core.frame.DataFrame'>\n",
            "Int64Index: 1185099 entries, 0 to 1197078\n",
            "Data columns (total 18 columns):\n",
            " #   Column                                         Non-Null Count    Dtype  \n",
            "---  ------                                         --------------    -----  \n",
            " 0   city                                           1185099 non-null  object \n",
            " 1   city_ibge_code                                 1185099 non-null  float64\n",
            " 2   date                                           1185099 non-null  object \n",
            " 3   epidemiological_week                           1185099 non-null  int64  \n",
            " 4   estimated_population                           1185099 non-null  float64\n",
            " 5   estimated_population_2019                      1185099 non-null  float64\n",
            " 6   is_last                                        1185099 non-null  bool   \n",
            " 7   is_repeated                                    1185099 non-null  bool   \n",
            " 8   last_available_confirmed                       1185099 non-null  int64  \n",
            " 9   last_available_confirmed_per_100k_inhabitants  1185099 non-null  float64\n",
            " 10  last_available_date                            1185099 non-null  object \n",
            " 11  last_available_death_rate                      1185099 non-null  float64\n",
            " 12  last_available_deaths                          1185099 non-null  int64  \n",
            " 13  order_for_place                                1185099 non-null  int64  \n",
            " 14  place_type                                     1185099 non-null  object \n",
            " 15  state                                          1185099 non-null  object \n",
            " 16  new_confirmed                                  1185099 non-null  int64  \n",
            " 17  new_deaths                                     1185099 non-null  int64  \n",
            "dtypes: bool(2), float64(5), int64(6), object(5)\n",
            "memory usage: 156.0+ MB\n"
          ],
          "name": "stdout"
        }
      ]
    },
    {
      "cell_type": "markdown",
      "metadata": {
        "id": "X3jCrLl3lO0Z"
      },
      "source": [
        "### Análise descritiva - dados não-nulos"
      ]
    },
    {
      "cell_type": "code",
      "metadata": {
        "colab": {
          "base_uri": "https://localhost:8080/",
          "height": 393
        },
        "id": "1tYe6OW2lOdN",
        "outputId": "c0f0b5e0-58aa-4d55-f32d-346ce1a1e5ff"
      },
      "source": [
        "# Identificando algumas questões importantes a partir do describe do dataset sem valores nulos\n",
        "# - existem cidades com menos de 1 mil habitantes - Serra da Saudade / MG\n",
        "# - cidade mais populosa com mais de 12 milhoes de habitantes - Sao Paulo / SP\n",
        "# - maior numero de mortes em um unico dia (438 mortes) - Cuiaba / SC\n",
        "# - maior numero de confirmados em um unico dia (19345) - Cuiaba / SC\n",
        "df.describe().transpose()"
      ],
      "execution_count": null,
      "outputs": [
        {
          "output_type": "execute_result",
          "data": {
            "text/html": [
              "<div>\n",
              "<style scoped>\n",
              "    .dataframe tbody tr th:only-of-type {\n",
              "        vertical-align: middle;\n",
              "    }\n",
              "\n",
              "    .dataframe tbody tr th {\n",
              "        vertical-align: top;\n",
              "    }\n",
              "\n",
              "    .dataframe thead th {\n",
              "        text-align: right;\n",
              "    }\n",
              "</style>\n",
              "<table border=\"1\" class=\"dataframe\">\n",
              "  <thead>\n",
              "    <tr style=\"text-align: right;\">\n",
              "      <th></th>\n",
              "      <th>count</th>\n",
              "      <th>mean</th>\n",
              "      <th>std</th>\n",
              "      <th>min</th>\n",
              "      <th>25%</th>\n",
              "      <th>50%</th>\n",
              "      <th>75%</th>\n",
              "      <th>max</th>\n",
              "    </tr>\n",
              "  </thead>\n",
              "  <tbody>\n",
              "    <tr>\n",
              "      <th>city_ibge_code</th>\n",
              "      <td>1185099.0</td>\n",
              "      <td>3.226976e+06</td>\n",
              "      <td>983653.778548</td>\n",
              "      <td>1100015.0</td>\n",
              "      <td>2.508208e+06</td>\n",
              "      <td>3.143450e+06</td>\n",
              "      <td>4.115200e+06</td>\n",
              "      <td>5.300108e+06</td>\n",
              "    </tr>\n",
              "    <tr>\n",
              "      <th>epidemiological_week</th>\n",
              "      <td>1185099.0</td>\n",
              "      <td>3.457646e+01</td>\n",
              "      <td>9.254734</td>\n",
              "      <td>9.0</td>\n",
              "      <td>2.700000e+01</td>\n",
              "      <td>3.500000e+01</td>\n",
              "      <td>4.200000e+01</td>\n",
              "      <td>5.000000e+01</td>\n",
              "    </tr>\n",
              "    <tr>\n",
              "      <th>estimated_population</th>\n",
              "      <td>1185099.0</td>\n",
              "      <td>4.445060e+04</td>\n",
              "      <td>255915.769243</td>\n",
              "      <td>776.0</td>\n",
              "      <td>5.946000e+03</td>\n",
              "      <td>1.301400e+04</td>\n",
              "      <td>2.870400e+04</td>\n",
              "      <td>1.232523e+07</td>\n",
              "    </tr>\n",
              "    <tr>\n",
              "      <th>estimated_population_2019</th>\n",
              "      <td>1185099.0</td>\n",
              "      <td>4.410541e+04</td>\n",
              "      <td>254277.955496</td>\n",
              "      <td>781.0</td>\n",
              "      <td>5.949000e+03</td>\n",
              "      <td>1.295700e+04</td>\n",
              "      <td>2.851600e+04</td>\n",
              "      <td>1.225202e+07</td>\n",
              "    </tr>\n",
              "    <tr>\n",
              "      <th>last_available_confirmed</th>\n",
              "      <td>1185099.0</td>\n",
              "      <td>6.079910e+02</td>\n",
              "      <td>4599.402958</td>\n",
              "      <td>0.0</td>\n",
              "      <td>1.600000e+01</td>\n",
              "      <td>7.800000e+01</td>\n",
              "      <td>3.080000e+02</td>\n",
              "      <td>3.634950e+05</td>\n",
              "    </tr>\n",
              "    <tr>\n",
              "      <th>last_available_confirmed_per_100k_inhabitants</th>\n",
              "      <td>1185099.0</td>\n",
              "      <td>1.251243e+03</td>\n",
              "      <td>1524.403925</td>\n",
              "      <td>0.0</td>\n",
              "      <td>1.704546e+02</td>\n",
              "      <td>7.582833e+02</td>\n",
              "      <td>1.782747e+03</td>\n",
              "      <td>2.527765e+04</td>\n",
              "    </tr>\n",
              "    <tr>\n",
              "      <th>last_available_death_rate</th>\n",
              "      <td>1185099.0</td>\n",
              "      <td>3.354734e-02</td>\n",
              "      <td>0.084749</td>\n",
              "      <td>0.0</td>\n",
              "      <td>0.000000e+00</td>\n",
              "      <td>1.590000e-02</td>\n",
              "      <td>3.410000e-02</td>\n",
              "      <td>1.000000e+00</td>\n",
              "    </tr>\n",
              "    <tr>\n",
              "      <th>last_available_deaths</th>\n",
              "      <td>1185099.0</td>\n",
              "      <td>1.922976e+01</td>\n",
              "      <td>217.097694</td>\n",
              "      <td>0.0</td>\n",
              "      <td>0.000000e+00</td>\n",
              "      <td>2.000000e+00</td>\n",
              "      <td>7.000000e+00</td>\n",
              "      <td>1.476100e+04</td>\n",
              "    </tr>\n",
              "    <tr>\n",
              "      <th>order_for_place</th>\n",
              "      <td>1185099.0</td>\n",
              "      <td>1.089732e+02</td>\n",
              "      <td>64.734998</td>\n",
              "      <td>1.0</td>\n",
              "      <td>5.400000e+01</td>\n",
              "      <td>1.070000e+02</td>\n",
              "      <td>1.610000e+02</td>\n",
              "      <td>2.890000e+02</td>\n",
              "    </tr>\n",
              "    <tr>\n",
              "      <th>new_confirmed</th>\n",
              "      <td>1185099.0</td>\n",
              "      <td>5.595520e+00</td>\n",
              "      <td>48.982970</td>\n",
              "      <td>-906.0</td>\n",
              "      <td>0.000000e+00</td>\n",
              "      <td>0.000000e+00</td>\n",
              "      <td>2.000000e+00</td>\n",
              "      <td>1.934500e+04</td>\n",
              "    </tr>\n",
              "    <tr>\n",
              "      <th>new_deaths</th>\n",
              "      <td>1185099.0</td>\n",
              "      <td>1.500204e-01</td>\n",
              "      <td>1.897362</td>\n",
              "      <td>-38.0</td>\n",
              "      <td>0.000000e+00</td>\n",
              "      <td>0.000000e+00</td>\n",
              "      <td>0.000000e+00</td>\n",
              "      <td>4.380000e+02</td>\n",
              "    </tr>\n",
              "  </tbody>\n",
              "</table>\n",
              "</div>"
            ],
            "text/plain": [
              "                                                   count  ...           max\n",
              "city_ibge_code                                 1185099.0  ...  5.300108e+06\n",
              "epidemiological_week                           1185099.0  ...  5.000000e+01\n",
              "estimated_population                           1185099.0  ...  1.232523e+07\n",
              "estimated_population_2019                      1185099.0  ...  1.225202e+07\n",
              "last_available_confirmed                       1185099.0  ...  3.634950e+05\n",
              "last_available_confirmed_per_100k_inhabitants  1185099.0  ...  2.527765e+04\n",
              "last_available_death_rate                      1185099.0  ...  1.000000e+00\n",
              "last_available_deaths                          1185099.0  ...  1.476100e+04\n",
              "order_for_place                                1185099.0  ...  2.890000e+02\n",
              "new_confirmed                                  1185099.0  ...  1.934500e+04\n",
              "new_deaths                                     1185099.0  ...  4.380000e+02\n",
              "\n",
              "[11 rows x 8 columns]"
            ]
          },
          "metadata": {
            "tags": []
          },
          "execution_count": 104
        }
      ]
    },
    {
      "cell_type": "code",
      "metadata": {
        "colab": {
          "base_uri": "https://localhost:8080/"
        },
        "id": "_7S8pWkUlcuO",
        "outputId": "4e9c9e4b-4bda-4e20-e9f7-d2fe917df2e3"
      },
      "source": [
        "print((df[df.estimated_population == df.estimated_population.min()]).drop_duplicates(subset='city'))\n",
        "print('\\n')\n",
        "print((df[df.estimated_population == df.estimated_population.max()]).drop_duplicates(subset='city'))\n",
        "print('\\n')\n",
        "print((df[df.new_confirmed == df.new_confirmed.max()]).drop_duplicates(subset='city'))\n",
        "print('\\n')\n",
        "print((df[df.new_deaths == df.new_deaths.max()]).drop_duplicates(subset='city'))"
      ],
      "execution_count": null,
      "outputs": [
        {
          "output_type": "stream",
          "text": [
            "                    city  city_ibge_code  ... new_confirmed  new_deaths\n",
            "272166  Serra da Saudade       3166600.0  ...             0           0\n",
            "\n",
            "[1 rows x 18 columns]\n",
            "\n",
            "\n",
            "        city  city_ibge_code        date  ...  state  new_confirmed  new_deaths\n",
            "0  São Paulo       3550308.0  2020-02-25  ...     SP              1           0\n",
            "\n",
            "[1 rows x 18 columns]\n",
            "\n",
            "\n",
            "           city  city_ibge_code        date  ...  state  new_confirmed  new_deaths\n",
            "1087124  Cuiabá       5103403.0  2020-11-20  ...     MT          19345         438\n",
            "\n",
            "[1 rows x 18 columns]\n",
            "\n",
            "\n",
            "           city  city_ibge_code        date  ...  state  new_confirmed  new_deaths\n",
            "1087124  Cuiabá       5103403.0  2020-11-20  ...     MT          19345         438\n",
            "\n",
            "[1 rows x 18 columns]\n"
          ],
          "name": "stdout"
        }
      ]
    },
    {
      "cell_type": "markdown",
      "metadata": {
        "id": "P736cjkm4CiW"
      },
      "source": [
        "Analise da correlação dos atributos nominais"
      ]
    },
    {
      "cell_type": "code",
      "metadata": {
        "colab": {
          "base_uri": "https://localhost:8080/"
        },
        "id": "bkW0k4674X3A",
        "outputId": "bee8c3df-2126-4333-8f9d-c16006ec5b41"
      },
      "source": [
        "# Os atributos 'city' e 'city_ibge_code' estão ALTAMENTE relacionados com o atributos 'state'\n",
        "#   portanto, esses atributos são redundantes para nossa análise\n",
        "# - teste chi quadrado, p < 0,05\n",
        "\n",
        "df_cross_city_state=pd.crosstab(df.city, df.state)\n",
        "df_cross_ibge_state=pd.crosstab(df.city_ibge_code, df.city)\n",
        "print(f'Correlação entre os atributos \\'city\\' e \\'state\\': {stats.chi2_contingency(df_cross_city_state)[1]}')\n",
        "print(f'Correlação entre os atributos \\'city_ibge_code \\' e \\'city\\': {stats.chi2_contingency(df_cross_ibge_state)[1]}')"
      ],
      "execution_count": null,
      "outputs": [
        {
          "output_type": "stream",
          "text": [
            "Correlação entre os atributos 'city' e 'state': 0.0\n",
            "Correlação entre os atributos 'city_ibge_code ' e 'city': 0.0\n"
          ],
          "name": "stdout"
        }
      ]
    },
    {
      "cell_type": "markdown",
      "metadata": {
        "id": "ZOm53MIV7smk"
      },
      "source": [
        "Análise da correlação dos atributos numericos"
      ]
    },
    {
      "cell_type": "code",
      "metadata": {
        "colab": {
          "base_uri": "https://localhost:8080/",
          "height": 630
        },
        "id": "IQCvsNig6gBu",
        "outputId": "6d322607-0af4-466e-84e4-27f603b25b92"
      },
      "source": [
        "# last_available_confirmed X new_confirmed\n",
        "#   estão correlacionados positivamente\n",
        "# - função de correlação pelo método de pearson\n",
        "\n",
        "df_01 = df[['new_confirmed', 'last_available_confirmed']]\n",
        "print(df_01.corr(method='pearson'))\n",
        "print('\\n')\n",
        "\n",
        "trace_01 = go.Scatter(x=df['new_confirmed'][:10000], y=df['last_available_confirmed'][:10000], mode='markers')\n",
        "py.iplot([trace_01])\n"
      ],
      "execution_count": null,
      "outputs": [
        {
          "output_type": "stream",
          "text": [
            "                          new_confirmed  last_available_confirmed\n",
            "new_confirmed                   1.00000                   0.53202\n",
            "last_available_confirmed        0.53202                   1.00000\n",
            "\n",
            "\n"
          ],
          "name": "stdout"
        },
        {
          "output_type": "display_data",
          "data": {
            "text/html": [
              "<html>\n",
              "<head><meta charset=\"utf-8\" /></head>\n",
              "<body>\n",
              "    <div>\n",
              "            <script src=\"https://cdnjs.cloudflare.com/ajax/libs/mathjax/2.7.5/MathJax.js?config=TeX-AMS-MML_SVG\"></script><script type=\"text/javascript\">if (window.MathJax) {MathJax.Hub.Config({SVG: {font: \"STIX-Web\"}});}</script>\n",
              "                <script type=\"text/javascript\">window.PlotlyConfig = {MathJaxConfig: 'local'};</script>\n",
              "        <script src=\"https://cdn.plot.ly/plotly-latest.min.js\"></script>    \n",
              "            <div id=\"b1c7e1a7-de9a-44f6-be28-c02d5561ba97\" class=\"plotly-graph-div\" style=\"height:525px; width:100%;\"></div>\n",
              "            <script type=\"text/javascript\">\n",
              "                \n",
              "                    window.PLOTLYENV=window.PLOTLYENV || {};\n",
              "                    \n",
              "                if (document.getElementById(\"b1c7e1a7-de9a-44f6-be28-c02d5561ba97\")) {\n",
              "                    Plotly.newPlot(\n",
              "                        'b1c7e1a7-de9a-44f6-be28-c02d5561ba97',\n",
              "                        [{\"mode\": \"markers\", \"type\": \"scatter\", \"x\": [1, 0, 0, 1, 0, 0, 0, 0, 1, 1, 3, 1, 0, 1, 0, 1, 1, 0, 0, 1, 6, 1, 0, 0, 1, 0, 1, 0, 3, 0, 0, 0, 0, 0, 0, 0, 0, 0, 0, 0, 0, 0, 0, 1, 0, 3, 0, 1, 1, 0, 0, 0, 0, 1, 0, 11, 0, 0, 0, 2, 1, 0, 1, 2, 1, 5, 0, 1, 11, 1, 0, 1, 1, 2, 1, 0, 15, 0, 2, 1, 3, 0, 0, 0, 0, 0, 0, 0, 0, 0, 0, 0, 0, 0, 0, 0, 0, 1, 0, 0, 0, 0, 0, 0, 0, 6, 1, 0, 0, 0, 1, 1, 2, 4, 0, 0, 0, 0, 0, 0, 0, 0, 0, 0, 0, 2, 1, 1, 0, 0, 18, 0, 0, 1, 1, 6, 0, 0, 0, 0, 0, 0, 0, 1, 0, 0, 0, 0, 9, 0, 0, 0, 0, 1, 0, 0, 0, 0, 0, 0, 0, 0, 0, 0, 0, 1, 0, 1, 8, 5, 2, 2, 1, 1, 0, 0, 1, 0, 2, 0, 0, 0, 0, 0, 1, 0, 0, 0, 4, 0, 1, 0, 0, 4, 0, 0, 1, 0, 1, 1, 1, 83, 3, 0, 0, 0, 2, 1, 1, 0, 1, 0, 0, 0, 1, 4, 1, 0, 0, 0, 1, 0, 1, 1, 2, 1, 2, 6, 1, 1, 2, 1, 1, 0, 0, 0, 0, 0, 0, 0, 0, 0, 0, 0, 0, 0, 0, 1, 0, 0, 0, 0, 0, 11, 0, 0, 0, 0, 1, 0, 12, 0, 8, 1, 15, 0, 1, 0, 1, 0, 5, 0, 0, 0, 0, 0, 0, 0, 0, 1, 1, 1, 0, -1, 1, 0, 0, 1, 1, 0, 1, 0, 0, 1, 5, 32, 0, 0, 1, 9, 1, 2, 1, 2, 0, 0, 2, 0, 1, 1, 1, 0, 1, 0, 0, 1, 0, 1, 0, 5, 2, 5, 1, 1, 58, 1, 1, 3, 1, 0, 1, 2, 0, 0, 1, 0, 0, 0, 8, 1, 7, 5, 0, 0, 2, 0, 0, 8, 0, 0, 0, 0, 1, 0, 0, 1, 1, 1, 0, 0, 0, 0, 0, 3, 0, 0, 9, 0, 0, 0, 0, 0, 0, 1, 1, 1, 0, 1, 2, 1, 0, 1, 1, 5, 0, 1, 2, 2, 1, 1, 0, 1, 0, 0, 0, 0, 0, 1, 1, 0, 0, 0, 0, 0, 0, -4, 1, 0, -5, 0, 0, 45, 1, 1, 0, 3, 2, 4, 1, 1, 1, 0, 1, 0, 0, 0, 0, 46, 1, 1, 0, 45, 1, 1, 0, 0, 1, 0, 1, 2, 0, 0, 1, 2, 0, 0, 0, 3, 1, 2, 0, 1, 0, 1, -1, 3, 0, 1, 1, 0, 0, 0, 0, 1, 0, 0, 10, 0, 1, 2, 0, 0, 0, 0, 0, 0, 0, 4, 1, 1, 0, 0, 0, 0, 0, 2, 0, 2, 5, 2, 1, 0, 0, 0, 1, 3, 4, 2, 1, 1, 1, 1, 0, 0, 4, 0, 1, 0, 0, 0, 0, 0, 0, 1, 0, 0, 1, 0, 1, 1, 0, 1, 3, 0, 0, 47, 0, 0, 0, 4, 1, 4, 0, 0, 0, 0, 0, 1, 1, 5, 3, 13, 0, 0, 0, 21, 0, 0, 1, 4, 5, 0, 0, 0, 0, 0, 1, 10, 1, 0, 0, -1, 0, 0, 0, 0, 0, 2, 2, 3, 1, 0, 0, 0, 0, 0, 2, 11, 0, 0, 0, 4, 0, 0, 0, 0, 1, 0, 1, 1, 0, 0, 0, 3, 3, 43, 1, 1, 1, 0, 2, 2, 1, 1, 2, 0, 2, 1, 0, 1, 1, 1, 0, 1, 0, 0, 1, 10, 0, 0, 1, 1, 1, 1, 2, 2, 1, 3, 0, 1, 0, 6, 1, 0, 1, 0, 0, 0, 1, 0, 2, 1, 0, 0, 0, 0, 0, 0, 0, 0, 0, 0, 0, 0, 0, 0, 0, 0, 0, 0, 0, 0, 0, 0, 1, 0, 0, 14, 1, 0, 1, 0, 1, 0, 0, 0, 2, 0, 10, 1, 40, 0, 0, 0, 9, 0, 0, 0, 0, 0, 0, -1, 1, 2, 0, 2, 0, 0, 0, 0, 0, 0, 0, 0, 0, 0, 0, 0, 0, 5, 0, 0, 0, 2, 0, 0, 0, 1, 3, 2, 0, 2, 1, 0, 3, 0, 0, 0, 0, 1, 0, -1, 0, 0, 0, 0, 0, 69, 0, 3, 1, 0, 0, 0, 0, 0, 0, 0, 1, 0, 0, 0, 0, 0, 0, 0, 1, 0, 0, 1, 3, 0, 1, 1, 0, 0, 0, 0, 0, 0, 6, 1, 0, 1, 0, 0, 0, 1, 0, 0, 0, 1, 0, 0, 0, 1, 0, 0, 0, 0, 0, 0, 0, 0, 0, 0, 0, 0, 0, 0, 0, 0, 0, 0, 0, 0, 0, 0, 0, 0, 0, 3, 6, 1, 6, 0, 0, 0, 1, 0, 0, 0, 0, 1, 1, 0, 1, 0, 4, 1, 35, 0, 0, 2, 21, 0, 0, 0, 1, 1, 2, 3, 0, 1, 0, 1, 0, 0, 6, 30, 1, 1, 1, 2, -1, 0, 0, 4, 1, 1, 3, 0, 0, 1, 1, 0, 3, 0, 0, 0, 4, 1, 0, 1, 1, 0, 0, 1, 0, 1, 1, 2, 0, 0, 1, 2, 0, 3, 0, 0, 0, 0, 0, 0, 0, 0, 0, 0, 0, 0, 0, 44, 3, 0, 0, 0, 0, 0, 0, 0, 4, 0, 0, 2, 1, 0, 0, 0, 1, 0, 0, 0, 0, 0, 0, 0, 1, 1, 3, 1, 1, 1, 1, 0, -1, 1, 0, -1, 2, 1, 0, 1, 2, 0, 2, 5, 1, 1, 0, 0, 1, 0, 1, 0, 0, 0, 0, 2, 0, 1, 1, 0, 0, 0, 0, 0, 0, 0, 0, 0, 0, 0, 0, 0, 0, 0, 0, 0, 0, 0, 0, 0, 0, 0, 0, 2, 4, 2, 14, 1, 0, 0, 0, 0, 0, 1, 2, 0, 0, 1, 0, 0, 0, 8, 1, 0, 19, 0, 0, 1, 1, 23, 0, 0, 1, 0, 0, 4, 1, 1, 0, 0, 3, 0, 0, 2, 0, 27, 0, 0, 0, 0, 0, 0, 0, 0, 0, 0, 0, 0, 0, 0, 0, 0, 1, 3, 0, 0, 0, 1, 0, 0, 0, 0, 1, 0, 0, 0, 0, 0, 0, 2, 0, 1, 0, 0, 6, 0, 0, 0, 0, 1, 0, 0, 0, 1, 0, 0, 1, 1, 0, 0, 2, 0, 64, 0, 4, 0, 0, 1, 0, 2, 5, 1, 0, 1, 0, 0, 1, 0, 1, 1, 0, 0, 0, 0, 0, 0, 0, 0, 0, 0, 1, 0, 2, 0, 1, 6, 0, 0, 0, 0, 0, 0, 1, 0, 0, 1, 0, 3, 0, 0, 1, 0, 5, 0, 0, 2, 3, 0, 1, 0, 0, 0, 1, 2, 0, 0, 0, 2, 1, 2, 5, 0, 0, 0, 0, 0, 0, 0, 0, 0, 0, 0, 0, 0, 0, 0, 0, 0, 0, 0, 0, 0, 0, 0, 0, 2, 0, 1, 7, 0, 1, 0, 0, 0, 1, 0, 0, 0, 1, 0, 0, 0, 0, 0, 0, 9, 1, 0, 0, 26, 0, 0, 0, 0, 34, 0, 0, 0, 0, 0, 0, 0, 0, 0, 0, 0, 0, 1, 1, 1, 0, 0, 3, 0, 0, 0, 0, 0, 0, 0, 0, 0, 0, 0, 0, 0, 0, 0, 0, 0, 0, 0, 0, 1, 0, 1, 2, 0, 0, 0, 2, 0, 0, 0, 1, 1, 1, 1, 0, 1, 0, 0, 1, 20, 1, 1, 0, 0, 1, 0, 0, 1, 2, 0, 0, 0, 0, 1, 0, 0, 7, 0, 1, 55, 0, 1, 2, 0, 0, 0, 0, 0, 0, 0, 0, 1, 0, 0, -1, 0, 0, 0, 0, 1, 1, 0, 0, 0, 1, 0, 0, 0, 0, 0, 0, 1, 0, 0, 0, 0, 1, 40, 1, 1, 0, 0, 0, 1, 0, 0, 0, 2, 0, 1, -2, 2, 0, 2, 1, -1, 2, -4, 0, 1, 0, 2, 0, 0, 0, 1, 0, 0, 0, 0, 0, 0, -1, 1, 1, 0, -1, 1, 0, 0, 0, 1, 3, 0, 4, 1, 0, 4, 1, 1, 0, 1, 1, 3, 2, 1, 1, 1, 2, 14, 0, 9, 12, 0, 1, 416, 2, 1, 0, 1, -1, 0, 0, 0, 0, 1, 11, 0, 1, 0, 1, 0, 0, 0, 0, 0, 0, 1, 0, 1, 0, 0, 2, 2, 0, 6, 0, 0, 0, 28, 0, 0, 0, 0, -24, 0, 0, 1, 0, 0, 2, 3, 2, 0, 0, 0, 6, 0, 0, 0, 0, 0, 2, 6, 2, 1, 0, 0, 0, 0, 1, 1, 0, 0, 1, 0, 4, 0, 0, 0, 1, 0, 0, 0, 1, 0, 0, 2, 0, 0, 2, 2, 1, 1, 0, 0, 1, 0, 0, 0, 0, 0, 2, 0, 0, 0, 0, 0, 0, 6, 0, 0, 0, 0, 1, 0, 1, 0, 0, 0, 1, 0, 1, 0, 0, 0, 0, 12, 0, 0, 37, 0, 0, 1, 1, 4, 0, 0, 1, 2, 0, 0, 0, 2, 0, 0, 0, 1, 0, 0, 3, 0, 0, 0, 0, 0, 0, 0, 0, 1, 0, 0, 0, 0, 0, 1, 1, 0, 0, 1, 1, 1, 16, 0, 1, 0, 0, 0, 0, -1, 0, 0, 0, 0, 0, 0, 1, 3, 0, 2, 0, 2, 1, 4, 0, 0, 1, 4, 1, 0, 0, 0, 2, 0, -1, 0, 0, 1, 0, 2, 3, 0, 0, 0, 1, 0, 0, 0, 0, 1, 2, 1, 0, 0, -1, 0, 0, 4, -1, 0, 0, 1, 2, 1, 0, 3, 0, 0, 0, 1, 0, 2, -1, 1, 0, 1, 0, 0, 177, 0, 1, 1, 0, 0, 1, 1, 2, 1, 0, 0, 2, 12, 0, 0, 1, 0, 0, 0, 0, 0, 0, 0, 0, 1, 1, 0, 0, 0, 2, 0, 0, 18, 0, 0, 0, 44, 0, 0, 1, 0, 0, 40, 0, 0, 0, 1, 0, 2, 1, 1, 1, 0, 0, 0, 5, 1, 0, 0, 0, 0, 0, 3, 22, 1, 0, 0, 1, 0, 1, 1, 0, 3, 0, 1, 0, 3, 0, 0, 2, 0, 0, 1, 0, 0, 0, 0, 0, 1, 1, 0, 1, 0, 0, 0, 0, 0, 3, 0, 0, 0, 1, 0, 2, 1, 0, 1, 0, 1, 1, 1, 0, 0, 5, 1, 0, 0, 1, 3, 1, 0, 5, 0, 0, 1, 1, 1, 0, 4, 0, 0, 0, 0, 1, 0, 0, 1, 0, 0, 0, 1, 0, 1, 0, 5, 0, -1, 63, 1, 0, 2, 3, 6, 0, 0, 0, 0, 2, 0, 0, 0, 0, 1, 0, 0, 0, 0, 0, 0, 0, 0, 0, 0, 0, 0, 0, 0, 0, 0, 0, 0, 0, 0, 0, 0, 0, 0, 0, 0, 0, 4, 0, 0, 0, 0, 1, 0, 0, 0, 0, 1, 0, 0, 0, 1, 0, 1, 0, 0, 0, 0, 0, 0, 7, 0, 0, 0, 2, 0, 0, 0, 0, 1, 0, 1, 0, 0, 0, 0, 0, 0, 1, 0, 0, 0, 0, 0, 0, 0, 0, 0, 0, 0, 1, 0, 1, 1, 0, 1, 4, 0, 0, 0, 1, -1, 1, 0, 1, 1, 0, 0, 2, 0, 0, 1, 1, -1, 2, -1, 0, 2, 145, 0, 0, 0, 0, 0, 1, 1, 0, 0, 2, 0, 0, 0, 30, 0, 0, 1, 0, 0, 0, 0, 0, 0, 0, 0, 0, -1, 0, 1, 0, 0, 0, 0, 1, 3, 0, 0, 1, 1, 36, 0, 0, 0, 0, 2, 0, 14, 0, 0, 0, 1, 1, 0, 0, 0, 0, 3, 2, 1, 0, 0, 1, 7, 0, 1, 0, 1, 0, 0, 1, 2, 11, 0, 0, 0, 0, 0, 0, 1, 0, 0, 0, 0, 0, 0, 0, 0, 3, 0, 0, 2, 0, 1, 0, 0, 0, 0, 1, 2, 0, 0, 0, 0, 0, 0, 0, 1, 0, 0, 0, 1, 1, 0, 3, 0, 0, 0, 0, 0, 0, 1, 1, 0, 8, 1, 1, 0, 0, 1, 0, 2, 0, -1, 3, 0, 2, 0, 0, 0, 2, 0, 1, 1, 0, 0, 0, 1, 0, 0, 0, 0, 0, 0, 0, 0, 0, 1, 1, 0, 1, 1, 0, 1, 58, 0, 0, 2, 1, 1, 1, 1, 11, 15, 5, 1, 1, 1, 1, 0, 0, 4, 0, 0, 0, 0, 0, 0, 0, 0, 1, 0, 0, 0, 0, 0, 0, 0, 0, 0, 0, 0, 0, 0, 0, 0, 0, 1, 0, 0, 0, 0, 0, 0, 0, 0, 0, 0, 0, 0, 0, 0, 0, 0, 0, 0, 1, 0, 0, 0, 0, 0, 0, 0, 3, 2, 3, 0, 1, 1, 3, 1, 0, 0, 0, 0, 0, 0, 0, 1, 0, 0, 0, 2, 0, 1, 0, 0, 1, 1, 0, 0, 0, 0, 0, 0, 1, 0, 0, 0, 0, 0, 0, 0, 0, 0, 0, 0, 0, 0, 0, 0, 0, 0, 0, 0, 0, 0, 0, 0, 0, 0, 0, 0, 0, 0, 0, 0, 0, 0, 0, 0, 0, 0, 0, 0, 0, 0, 0, 0, 2, 1, 6, -1, 0, 1, 0, 2, 0, 26, 0, 0, 4, 0, 0, 0, 0, 0, 0, 0, 0, 0, 0, 0, 0, 1, 1, 0, 0, 4, 1, 0, 0, 22, 0, 0, 0, 0, 34, 0, 1, 0, 1, 0, 0, 0, 1, 45, 0, 1, 0, 0, 0, 0, 0, 4, 1, 0, 4, 1, 0, 0, 0, 0, 0, 0, 0, 0, 0, 0, 0, 0, 6, 14, 1, 0, 0, 0, 0, 0, 0, 0, 2, 1, 1, 0, 0, 0, 0, 0, 1, 3, 0, 1, 0, 1, 1, 0, 0, 0, 0, 0, 1, 4, 0, 0, 0, 0, 0, 0, 0, 0, 2, 0, 0, 0, 0, 0, 0, 0, 0, 0, 0, 0, 0, 0, 1, 0, 0, 4, 0, 0, 0, 5, 0, 0, 1, 1, 0, 0, 1, -1, 0, 3, 0, 0, 0, 2, 1, 1, 0, 1, 0, 0, 1, 0, 0, 0, 0, 1, 0, 1, 1, 0, 0, 1, 0, 2, 0, 1, 0, 1, 0, 2, 2, 1, 0, 2, 27, 1, 2, 0, 0, 0, 0, 0, 0, 0, 0, 0, 0, 0, 0, 0, 0, 0, 0, 0, 0, 0, 0, 0, 0, 0, 0, 0, 0, 0, 0, 0, 0, 0, 0, 0, 0, 0, 0, 0, 0, 0, 0, 0, 0, 0, 0, 0, 1, 0, 0, 0, 0, 0, 28, 0, 0, 0, 0, 0, 0, 0, 0, 0, 0, 0, 1, 0, 0, 0, 0, 0, 0, 0, 0, 0, 0, 0, 10, 0, 0, 0, 1, 0, 0, 0, 0, 0, 0, 0, 0, 0, 0, 0, 0, 0, 0, 0, 1, 0, 0, 0, 0, 0, 1, 0, 0, 0, 0, 0, 0, 0, 0, 0, 0, 0, 0, 0, 0, 0, 0, 0, 0, 0, 0, 0, 0, 0, 0, 0, 0, 0, 0, 0, 0, 0, 0, 0, 0, 0, 0, 0, 0, 0, 0, 0, 0, 0, 1, 4, 0, 3, 0, 0, 0, 0, 0, 0, 9, 1, 1, 0, 0, 0, 0, 0, 0, 0, 0, 0, 1, 3, 0, 0, 0, 0, 0, 0, 0, 0, 1, 1, 0, 0, 0, 14, 0, 0, 7, 1, 0, 15, 0, 0, 0, 0, 0, 0, 0, 0, 15, 0, 1, 0, 0, 0, 0, 0, 4, 0, 0, 3, 5, 0, 0, 0, 0, 2, 0, 2, 0, 0, 0, 0, 0, 0, 9, 20, 0, 0, 0, 0, 0, 0, 1, 0, 2, 0, 0, 0, 0, 2, 0, 1, 0, 0, 0, 0, 0, 0, 0, 0, 0, 0, 0, 0, 3, 1, 1, 7, 0, 0, 0, 0, 4, 0, 3, 0, 1, 5, 0, 0, 0, 0, 0, 0, 2, 1, 0, 0, 0, 0, 0, 0, 0, 1, 1, 0, 2, 0, 0, 0, 2, 2, 1, 0, 0, 0, 0, -1, 0, 4, 0, 0, 0, 0, 0, 0, 0, 0, 0, 1, 0, 0, 0, 0, 0, 0, 0, 1, 0, 0, 0, 0, 0, 0, 1, 0, 0, 0, 0, 0, 0, 0, 0, 0, 8, 4, 0, 1, 1, 2, 0, 37, 0, 1, 1, 1, 0, 0, 1, 0, 1, 1, 1, 0, 0, 0, 2, 1, 0, 1, 0, 0, 1, 0, 1, 0, 0, 0, 0, 6, 0, 0, 0, 0, 0, 1, 0, 0, 7, 0, 0, 0, 0, 0, 0, 0, 0, 0, 0, 0, 0, 0, 0, 0, 0, 1, 0, 0, 0, 0, 0, 8, 0, 0, 0, 0, 0, 0, 0, 0, 0, 0, 0, 1, 0, 0, 0, 0, 0, 2, 0, 0, 0, 0, 0, 2, 10, 0, 0, 0, 0, 0, 1, 0, 0, 1, 5, 0, 0, 0, 0, 1, 0, 0, 0, 0, 0, 0, 0, 0, 0, 0, 0, 0, 0, 2, 0, 0, 0, 3, 1, 1, 1, 6, 1, 0, 1, 2, 1, 1, 0, 0, 1, 1, 0, 1, 0, 0, 0, 0, 1, 11, 1, 1, 3, 1, 0, 0, 2, 0, 1, 23, 1, 2, 0, 18, 11, 2, 1, 189, 1, 0, 1, 0, 0, 0, 0, 1, 0, 1, 0, 0, 1, 0, 0, 0, 1, 2, 2, 19, 0, 0, 0, 2, 2, 1, 0, 3, 1, 0, 1, 1, 1, 0, 0, 0, 6, 4, 0, 2, 0, 3, 0, 0, 0, 0, 0, 1, 0, 0, 0, 0, 15, 0, 0, 0, 0, 0, 18, 0, 0, 0, 0, 0, 0, 0, 1, 0, 20, 1, 0, 2, 0, 1, 0, 0, 0, 1, 0, 0, 1, 4, 2, 0, 0, 0, 0, 4, -1, 0, 0, 0, 1, 0, 0, 1, 0, 21, 1, 0, 0, 0, 0, 0, 0, 0, 0, 0, 0, 0, 0, 0, 0, 10, 0, 0, 0, 0, 1, 0, 0, 0, 0, 0, 0, 0, 0, 0, 0, 0, 1, 0, 1, 0, 2, 0, 0, 0, 6, 0, 1, 0, 1, 1, 4, 0, 0, 0, 1, 0, 1, 0, 0, 1, 0, 0, 0, 0, 0, 1, 0, 1, 0, 0, 0, 0, 6, 2, 0, 0, 0, 0, 0, 1, 2, 0, 0, 0, 0, 10, 0, 0, 1, 0, 0, 0, 1, 2, 0, 1, 0, 0, 0, 0, 0, 0, 1, 0, 0, 1, 0, 0, 2, 1, 0, 0, 0, 1, 0, 1, 0, 0, 0, 0, 0, 1, 0, 1, 0, 10, 0, 1, 0, 0, 0, 0, 33, 0, 2, 0, 1, 0, 0, 1, 0, 0, -1, 0, 0, 0, 0, 1, 6, 0, 0, -1, 0, 0, 0, 0, 1, 0, 0, 0, 0, 0, 0, 0, 1, 0, 0, 0, 0, 0, 1, 0, 0, 0, 0, 0, 0, 0, 0, 0, 0, 0, 0, 0, 0, 0, 0, 0, 0, 0, 0, 0, 0, 0, 0, 47, 0, 0, 0, 0, 0, 0, 0, 0, 0, 1, 1, 0, 0, 0, 0, 0, 0, 0, 5, 0, 1, 0, 0, 0, 2, 8, 0, 0, 0, 0, 0, 0, 0, 0, 0, 0, 0, 0, 0, 0, 0, 0, 0, 0, 0, 0, 0, 0, 0, 0, 0, 0, 0, 0, 1, 0, 0, 2, 1, 1, 14, 1, 0, 1, 6, 0, 4, 3, 6, 3, 4, 2, 3, 1, 7, 0, 0, 3, 5, 1, 0, 0, 1, 0, 1, 0, 0, 1, 1, 1, 1, 1, 18, 0, 0, 2, 1, -1, 0, 0, 1, 0, 1, 1, 10, 8, 13, 0, 0, 11, 3, 1, 3, 4, 652, 0, 0, 1, 9, 0, 0, 0, 0, 1, 1, 1, 1, 0, 1, 0, 0, 0, 0, 0, 0, 0, 0, 2, 20, 0, 0, 3, 1, 0, 0, 1, 0, 1, 2, 0, 0, -1, 0, 0, 0, 0, 1, 1, 1, 0, 0, 0, 0, 0, 0, 0, 0, 0, 0, 0, 0, 0, 21, 0, 1, 1, 0, 0, 0, 1, 42, 0, 0, 0, 0, 0, 0, 0, 0, 0, 1, 24, 1, -1, 1, 0, 2, 1, 0, 0, 3, 0, 8, 2, 0, 0, 1, 6, 0, 0, 1, 1, 0, 1, 0, 3, 0, 0, 0, 0, 0, 0, 0, 1, 1, 0, 1, 1, 17, 0, 1, 25, 0, 0, 0, 0, 0, 1, 0, 2, 0, 4, 0, 0, 0, 0, 1, 2, 1, 0, 0, 0, -1, 0, 1, 0, 1, 0, 0, 0, 0, 0, 0, 4, 0, 0, 0, 1, 1, 0, 0, 0, 0, 1, 1, 0, 1, 1, 0, 0, 1, 1, 4, 0, 0, 0, 0, 0, 1, 0, 1, 0, 0, 2, 0, 0, 1, 0, 1, 0, 0, 0, 0, 0, 0, 0, 0, 6, 0, 0, 0, 1, 1, 2, 1, 1, 1, 1, 1, 0, 0, 1, 0, 0, 10, 0, 1, 2, 0, 1, 0, 0, 1, 0, 0, 17, 0, 1, 0, 0, 0, 0, 0, 0, 1, 0, 1, 0, 0, 0, 1, 0, 0, 0, 0, 0, 0, 1, 0, 1, 0, 1, 0, 1, 0, 0, 0, 0, 5, 0, 0, 0, 0, 0, 1, 111, 0, 2, 1, 0, 0, 0, 0, 0, 0, -1, 0, 1, 0, 0, 0, 3, 6, 1, 0, 0, 0, 0, 0, 0, 0, 10, 0, 1, 0, 0, 0, 0, 0, 0, 0, 0, 0, 0, 0, 0, 0, 0, 0, 0, 0, 0, 0, 0, 0, 0, 0, 0, 0, 3, 0, 0, 1, 0, 1, 0, 0, 0, 0, 0, 0, 0, 0, 1, 0, 0, 0, 0, 0, 0, 0, 0, 2, 0, 0, 0, 2, 0, 0, 1, 3, 0, 0, 0, 0, 0, 4, 2, 0, 0, 0, 0, 0, 0, 0, 0, 1, 0, 0, 0, 0, 0, 0, 0, 0, 0, 0, 0, 0, 0, 0, 0, 0, 0, 1, 0, 3, 0, 0, 0, 1, 0, 1, 1, 0, 0, 2, 0, 7, 1, 9, 3, 1, 4, 1, 0, 4, 0, 2, 0, 2, 1, 0, 2, 0, 0, 0, 2, 0, 2, 0, 0, 0, 0, 0, 1, 0, 10, 0, 0, 0, 0, 1, 0, 1, 0, 2, 0, 0, 0, 1, 3, 9, 0, 3, 8, 2, 0, 1, 3, 533, 0, 1, 1, 10, 0, 0, 0, 0, 0, 0, 0, 0, 0, 0, 0, 2, 0, 0, 0, 0, 0, 0, 0, 26, 0, 0, 0, 3, 1, 0, 0, 0, 0, 1, 0, 0, 0, 0, 0, 0, 0, 0, 0, 3, 1, 0, 0, 0, 0, 0, 0, 0, 0, 0, 0, 0, 0, 0, 0, 14, 2, 0, 0, 0, -1, 0, 0, 0, 113, 0, 2, 0, 1, 1, 1, 0, 1, 1, 0, 0, 0, 0, 1, 44, 0, 0, 0, 0, 4, 0, 1, 1, 0, 0, 0, 1, 2, 0, 0, 0, 8, 2, 0, 0, -1, 0, 0, 0, 0, 1, 0, 0, 0, 0, 0, 0, 0, 0, 0, 0, 0, 0, 10, 0, 0, 1, 1, 22, 0, 0, 0, 0, 0, 0, 0, 2, 0, -4, 0, 0, 0, 0, 6, 1, 0, 0, 1, 2, 3, 2, 2, 0, 2, 0, 0, 1, 2, 0, 0, 1, 0, 1, 1, 8, 0, 0, 1, 0, 1, 0, 0, 0, 0, 0, 6, 1, 0, 0, 3, 1, 2, 0, 2, 0, 3, 0, 0, 0, 0, 0, 3, 0, 0, 0, 0, 8, 0, 0, 0, 0, 0, 0, 0, 0, 0, 1, 0, 0, 0, 10, 0, 0, 0, 0, 0, 0, 0, 0, 0, 1, 4, 3, 0, 3, 0, 0, 1, 2, 0, 0, 0, 0, 0, 0, 0, 0, 0, 0, 1, 1, 1, 1, 3, 0, 0, 0, 1, 1, 1, 0, 0, 0, 1, 0, 0, 0, 0, 0, 1, 1, 1, 0, 0, 0, 0, 0, 0, 0, 0, 0, 3, 0, 2, 1, 0, 3, 0, 1, 1, 0, 1, 1, 8, 0, 0, 0, 0, 101, 0, -1, 1, 0, 0, 0, 31, 0, 0, 1, 0, 1, 0, 0, 0, 1, 8, 2, 0, 0, 0, 0, 0, 0, 1, 1, 0, 3, 0, 1, 0, 1, 2, 0, 1, 0, 0, 0, 0, 0, 0, 0, 0, 0, 0, 0, 1, 0, 0, 0, 0, 1, 0, 0, 5, 1, 1, 1, 1, 0, 1, 0, 0, 1, 0, 0, 42, 0, 0, 0, 0, 0, 0, 0, 0, 1, 0, 0, 1, 4, 0, 0, 0, 0, 1, 1, 1, 1, 7, 0, 0, 1, 0, 0, 0, 0, 0, 0, 2, 11, 0, 0, 0, 0, 1, 0, 0, 0, 0, 1, 2, 0, 0, 1, 0, 1, 0, 0, 0, 0, 0, 0, 2, 0, 1, 0, 0, 0, 4, 0, 1, 1, 0, 0, 1, 0, 1, 0, 2, 1, 5, -2, 0, 0, 4, 0, 1, 4, 2, -8, 1, 6, 3, 1, 3, 2, 2, 10, 0, 0, 0, 0, 0, 0, 2, 1, 1, 0, 0, 0, 1, 0, 0, 0, 0, 1, 1, 4, 0, 2, 0, 8, 0, 0, 1, 0, 0, 1, 0, 1, 3, -1, 0, 0, 2, 8, 14, 0, 1, 7, 1, 0, 0, 2, 397, -1, 0, 1, 7, 0, 0, 2, 1, 0, 1, 0, 1, 0, 0, 1, 0, 0, 4, 1, 0, 0, 0, 0, 0, 4, 27, 0, 0, 0, 0, 7, 0, 0, 0, 0, 0, 0, 0, 0, 0, 0, 0, 0, 0, 0, 0, 0, 0, 1, 0, 0, 0, 3, 0, 0, 0, 0, 0, 0, 0, 1, 16, 0, 0, 1, 1, 0, 2, 0, 1, 3, 0, 1, 74, 0, 0, 1, 0, 0, 0, 0, 0, 0, 0, 0, 0, 0, 0, -1, 9, 0, 0, 1, 0, 3, 0, 1, 0, 0, 0, 0, 0, 4, 0, 0, 0, 0, 2, 3, 0, 2, 1, 0, 0, 0, 0, 0, 7, 0, 0, 0, 0, 1, 0, 0, 1, 0, 1, 0, 1, 0, 0, 0, 1, 2, 4, 0, 0, 0, 0, 15, 0, 0, 0, 0, 0, 0, 0, 1, 0, 3, 1, 0, 0, 0, 0, 1, 0, 0, 0, 0, 0, 0, 8, 0, 0, 0, -1, 0, 0, 0, 0, 0, 0, 0, 0, 0, 0, 2, 0, 0, 0, 5, 2, 0, 0, 0, 0, 0, 0, 0, 0, 1, 0, 2, 0, 0, 1, 0, 0, 14, 1, 1, 1, 2, 1, 0, 1, 1, 1, 1, 1, 0, 0, 0, 0, 1, 1, 0, 1, 0, 0, 0, 2, 2, 0, 3, 0, 0, 1, 1, 0, 3, 0, 18, 0, 1, 0, 0, 2, 0, 0, 1, 1, 0, 1, 1, 0, 1, 1, 2, 0, 0, 1, 0, 0, 15, 0, 0, 10, 0, 0, 0, 0, 0, 0, 0, 0, 3, 0, 0, 2, 0, 0, 2, 0, 1, 0, 0, 0, 1, 1, 0, 0, 0, 0, 0, 1, 2, 0, 1, 0, 0, 0, 1, 0, 0, 1, 0, 1, 2, 0, 0, 0, 0, 1, 0, 1, 1, 1, 0, 2, -1, 0, 1, 2, 3, 0, 1, 1, 0, 0, 0, 69, 0, 0, 0, 0, 0, 1, 0, 1, 0, 5, 1, -1, 1, 0, 1, 5, 0, 0, 0, 22, 21, 4, 0, 1, 8, 0, 0, 0, 0, 0, 7, 0, 0, 0, 0, 0, 2, 5, 0, 0, 0, 1, 0, 0, 0, 0, 0, 0, 0, 0, 0, 0, 0, 0, 0, 0, 0, 1, 0, 0, 0, 0, 0, 0, 0, 10, 0, 0, 1, 1, 0, 1, 0, 0, 0, 0, 1, 0, 0, 0, 0, 0, 0, 0, 0, 0, 0, 0, 1, 0, 0, 0, 0, 0, 1, 0, 0, 0, 2, 0, 0, 0, 0, 0, 0, 7, 0, 1, 0, 1, 0, 1, 0, 0, 0, 0, 1, 0, 1, 0, 0, 1, 1, 0, 1, 0, 0, 0, 0, 0, 0, 0, 0, 0, 0, 1, 0, 0, 0, 1, 0, 3, 0, 0, 0, 1, 0, 0, 1, 0, 0, 0, 2, 2, 2, 0, 0, 4, 0, 1, 0, 4, 1, 20, 0, 4, 2, 1, 4, 0, 0, 17, 0, 0, 0, 0, 2, 0, 4, 0, 0, 0, 3, 0, 0, 0, 1, 0, 0, 0, 0, 1, 0, 3, 0, 3, -1, 6, 0, 0, -1, 0, 0, 1, 1, 1, 2, 4, 1, 0, 0, 2, 11, 18, 5, 1, 11, 3, 0, 0, 6, 387, 0, 0, 1, 5, 0, 0, 0, 1, 0, 0, 0, 0, 0, 1, 0, 0, 0, 0, 0, 0, 0, 0, 0, 0, 0, 51, 0, 0, 0, 0, 9, 1, 1, 1, 0, 0, 0, 0, 0, 1, 1, 0, 0, 0, 0, 0, 0, 0, 1, 1, 2, 0, 1, 1, 0, 0, 1, 0, 0, 0, 0, 0, 0, 0, 0, 0, 32, 0, 1, 0, 0, 1, 0, 1, 0, 0, 0, 0, 0, 0, 81, 0, 4, 0, 0, 0, 0, 0, 0, 0, 0, 0, 0, 0, 0, 0, 0, 36, 0, 0, 2, 0, 0, 0, 0, 0, 0, 0, 1, 0, 1, 0, 1, 0, 0, 4, 4, 2, -3, 0, 0, 0, 0, 0, 0, 15, 0, 0, 0, 0, 0, 0, 0, 0, 0, 0, 0, 0, 0, 0, 0, 1, 1, 4, 2, 0, 0, 0, 0, 12, 0, 0, 0, 0, 0, 0, 1, 0, 1, 0, 2, 0, 0, 0, 0, 0, 0, 0, 0, 1, 0, 0, 0, 2, 2, 1, 0, 0, 0, 0, 0, 0, 0, 0, 0, 0, 0, 0, 0, 0, 2, 0, 3, 0, 1, 0, 0, 1, 0, 0, 0, 0, 1, 1, 13, 0, 0, 1, 0, 0, 0, 0, 0, 0, 1, 2, 3, 0, 0, 0, 0, 0, 1, 0, 0, 0, 0, 0, 0, 0, 0, 0, 2, 0, 0, 0, 0, 0, 0, 2, 2, 1, 2, 0, 0, 3, 2, 0, 0, 0, 27, 0, 0, 0, 0, 2, 0, 0, 1, 0, 1, 0, 1, 3, 0, 2, 14, 1, 1, 0, 3, 0, 0, 39, 0, 1, 2, 0, 0, 2, 0, 0, 0, 1, 0, 1, 0, 7, 0, 0, 4, 0, 1, 0, 1, 1, 2, 0, 1, 0, 0, 1, 0, 1, 0, -1, 0, 0, 1, 1, 1, 0, 0, 0, 0, 0, 0, 0, 1, 0, 0, 0, 0, 4, 0, 4, 1, 0, 7, 0, 4, 1, 1, 2, 1, 0, 0, 14, 1, 8, 2, 0, 0, 0, 0, 0, 0, 115, 0, 0, 1, 0, 3, 0, 1, 1, 0, 0, 0, 0, 0, 0, 0, 0, 0, 0, 0, 0, 0, 0, 0, 0, 0, 0, 0, 0, 0, 1, 5, 0, 0, 0, 0, 0, 0, 0, 0, 0, 0, 0, 0, 0, 0, 0, 0, 0, 0, 0, 0, 0, 0, 0, 0, 0, 0, 0, 0, 0, 0, 0, 0, 0, 0, 0, 0, 0, 0, 0, 0, 8, 0, 0, 0, 0, 0, 0, 0, 0, 0, 0, 0, 0, 0, 0, 0, 0, 0, 0, 0, 0, 0, 0, 1, 0, 2, 1, 0, 2, 3, 3, 0, 0, 0, 4, 13, 0, 0, 1, 0, 0, 0, 1, 1, 1, 0, 0, 1, 0, 3, 2, 1, 0, 0, 0, 2, 0, 0, 1, 0, 0, 0, 0, 1, 2, 1, 3, 0, 0, 0, 0, 0, 3, 1, 4, 0, 1, 0, 0, 0, 0, 1, 0, 2, 1, 0, 1, 1, 0, 7, 0, 0, 0, 0, 2, 0, 1, 1, 1, 3, 0, 1, 1, 0, 1, 1, 2, 0, 10, 0, 0, 0, 0, 3, 1, 1, 1, 0, 0, 0, 0, 0, 0, 0, 1, 0, 0, 0, 0, 1, 0, 0, 5, 0, 1, 1, 1, 5, 1, 1, 0, 1, 0, -1, 0, 2, 0, 0, 9, 1, 0, 2, 0, 2, 6, 11, 0, 2, 7, 2, 0, 2, 4, 1, 294, 0, 0, 1, 5, 0, 0, 0, 0, 0, 0, 0, 0, 1, 1, 1, 0, 0, 2, 3, 1, 0, 0, 0, 0, 2, 1, 6, 96, 0, 0, 1, 0, 1, 0, 2, 0, 1, 0, 0, 0, 0, 0, 0, 2, 0, 0, 0, 0, 0, 0, 0, 7, 0, 2, 2, 5, 1, 0, 0, 0, 0, 1, 0, 0, 1, 5, 0, 0, 1, 1, 1, 0, 0, 0, 29, 2, 1, 0, 0, 0, 1, 0, 2, 4, 0, 0, 0, 0, 5, 0, 0, 188, 0, 2, 0, 2, 0, 1, 0, 0, 0, 1, 2, 1, 12, -1, 0, 2, 1, 1, 1, 2, 1, 0, 2, 0, 10, 0, 0, 0, 0, 2, 0, 1, 0, 0, 0, 0, 0, 3, 0, 0, 0, 0, 3, 19, 2, 0, 0, 0, 0, 0, 0, 0, 8, 0, 0, 1, 0, 0, 0, 1, 0, 0, 0, 0, 0, 0, 0, 0, 0, 2, 35, 0, 0, 1, 0, 0, 25, 0, 0, 0, 0, 0, 0, 0, 0, 2, 0, 1, 0, 0, 0, 0, 0, 0, 1, 7, 0, 0, 0, 0, 1, 0, 5, 1, 1, 2, 0, 1, 0, 0, 0, 0, 0, 0, 1, 0, 1, 0, 2, 0, 7, 8, 0, 0, 0, 0, 0, 1, 0, 0, 0, 0, 0, 2, 0, 0, 0, 0, 0, 0, 0, 0, 0, 0, 0, 0, 0, 0, 4, 0, 0, 0, 0, 0, 0, 0, 0, 0, 0, 0, 0, 0, 1, 0, 0, 0, 0, 0, 0, 0, 0, 1, 0, 0, 0, 0, 0, 1, 1, 0, 2, 0, 20, 0, 0, 0, 0, 0, 0, 5, 0, 0, 1, 1, 0, -1, 1, 0, 2, 6, 0, 0, 0, 0, 0, 0, 19, 0, 0, 0, 0, 0, 0, 0, 0, 0, 0, 0, 0, 0, 1, 0, 0, 2, 0, 0, 1, 0, 0, 1, 0, 0, 0, 1, 0, 0, 0, 0, 0, 0, 0, 0, 1, 0, 1, 0, 0, 2, 0, 0, 0, 0, 0, 1, 0, 0, 0, 0, 8, 1, 7, 0, 0, 1, 0, 1, 0, 0, 0, 1, 4, 0, 3, 8, 1, 10, 0, 0, 0, 0, 0, 0, 0, 86, 0, 3, 1, 6, 1, 1, 3, 1, 0, 0, 0, 0, 1, 2, 0, 0, 0, 0, 0, 0, 0, 1, 0, 16, 36, 10, 0, 0, 1, 0, 1, 1, 1, 0, 0, 0, 1, 1, 1, 0, 0, 0, 0, 1, 0, 1, 6, 0, 1, 0, 0, 0, 0, 2, 0, 0, 0, 2, 0, 0, 0, 0, 0, 0, 0, 1, 0, 0, 1, 0, 0, 0, 0, 2, 1, 0, 5, 0, 0, 6, 0, 0, 13, 0, 0, 1, 1, 1, 0, 1, 0, 0, 0, 0, 0, 0, 0, 1, 0, 0, 0, 0, 1, 0, 0, 2, 0, 0, 1, 0, 0, 0, 0, 0, 1, 0, 0, 0, 1, 0, 3, 1, 1, 0, 0, 0, 0, 0, 0, 0, 0, 0, 0, 0, 5, 1, 1, 0, 0, 0, 0, 0, 1, 0, 0, 0, 0, 0, 1, 1, 1, 0, 2, 0, 0, 0, 1, 0, 1, 0, 0, 0, 0, 0, 0, -1, 0, 0, 0, 0, 1, 0, 1, 1, 1, 0, 0, 0, 1, 0, 0, 3, 0, 1, 0, 1, 0, 1, 0, 0, 0, 1, 0, 0, 0, 0, 0, 0, 0, 0, 1, 1, 0, 0, 0, 0, 0, 0, 0, 0, 0, 0, 0, 0, 0, 0, 1, 0, 0, 1, 0, 0, 0, 0, 7, 0, 0, 0, 0, 0, 0, 0, 0, 0, 0, 1, 0, 0, 0, 0, 0, -4, 6, 1, 1, 4, 0, 0, 1, 6, 0, 116, 0, 0, 0, 2, 0, 0, 1, 0, 0, 0, 0, 0, 0, 0, 0, 1, 0, 1, 0, 1, 2, 0, 1, 0, 0, 0, 0, 1, 3, 1, 12, 94, 0, 1, 2, 1, 0, 6, 0, 1, 0, 0, 1, 2, 2, 0, 0, 0, 0, 2, 1, 0, 0, 1, 0, 0, 0, 1, 1, 0, 0, 1, 2, 0, 1, 0, 0, 0, 0, 0, 0, 0, 0, 2, 0, 0, -1, 0, 0, 0, 0, 0, 19, 0, 0, 0, 0, 1, 0, 0, 0, 0, 1, 1, 1, 0, 0, 0, 1, 4, 1, 1, 1, 0, 60, 0, 1, 0, 1, 0, 0, 0, 0, 0, 0, 1, 0, 1, 0, 0, 1, 0, 0, 1, 0, 0, 0, 0, 0, 1, 1, 4, 0, 14, 0, 0, 0, 0, 1, 0, 0, 0, 0, 1, 0, 0, 0, 2, 0, 0, 0, 0, 9, 2, 0, 0, 0, 0, 0, 0, 0, 0, 0, 0, 0, 0, 5, 0, 0, 0, 0, 0, 0, 0, 1, 0, 0, 1, 2, 2, 3, 31, 0, 0, 0, 0, 0, 2, 1, 0, 0, 1, 0, 0, 0, 0, 0, 1, 0, 0, 1, 0, 0, 0, 1, 1, 0, 0, 0, 0, 1, 1, 2, 0, 1, 1, 0, 0, 1, 1, 0, 0, 0, 1, 0, 0, 1, 2, 1, 0, 0, 0, 0, 0, 0, 0, 1, 0, 0, 0, 0, 0, 0, 1, 1, 0, 1, 0, 0, 1, 0, 0, 0, 0, 0, 0, 0, 0, 1, 0, 1, 5, 2, 0, 0, 0, 0, 1, 2, 0, 1, 1, 0, 1, 4, 0, 26, 0, 1, 0, 0, 0, 0, 0, 0, 0, 0, 5, 0, 0, 0, 0, 0, 1, 0, 0, 0, 0, 0, 0, 0, 1, 1, 1, 0, 0, 0, 3, 1, 2, 0, 2, 0, 0, 7, 4, 0, 0, 1, 0, 1, 0, 0, 0, 0, 0, 0, 1, 0, 0, 0, 0, 0, 1, 0, 0, 0, 0, 0, 0, 3, 0, 0, 1, 0, 0, 0, 0, 0, 0, 0, 0, 0, 0, 9, 0, 0, 2, 1, 0, 0, 0, 0, 0, 0, 0, 0, 0, 0, 0, 0, 1, 0, 0, 0, 0, 0, 0, 0, 0, 0, 0, 0, 0, 0, 0, 0, 0, 0, 0, 0, 0, 0, -1, 0, 1, 0, 0, 0, 1, 1, 0, 0, 0, 0, 1, 0, 0, 5, 2, 0, 0, 3, 0, 2, 1, 0, 0, 42, 0, 0, 0, 0, 0, 0, 0, -1, 0, 0, 10, 0, 0, 0, 0, 0, 0, 0, 0, 0, 0, 0, 0, 0, 0, 0, 0, 0, 0, 0, 0, 0, 0, 0, 0, 0, 4, 0, 0, 0, 0, 0, 0, 0, 0, 0, 2, 0, 0, 2, 0, 1, 0, 1, 0, 0, 0, 6, 0, 0, 0, 0, 0, 0, 0, 0, 0, 0, 1, 0, 1, 0, 0, 0, 3, 2, 0, 1, 1, 0, 2, 2, 0, -1, 0, 0, 0, 1, 0, 0, 0, 0, 0, 0, 0, 0, 1, 0, 0, 0, 1, 0, 4, 0, 0, 0, 0, 1, 1, 0, 0, 1, 0, 0, 0, 0, 26, 1, 0, -5, 0, 0, 0, 0, 5, 2, 0, 0, 0, 1, 0, 1, 0, 0, 0, 0, 0, 0, 0, 0, 0, 0, 0, 0, 0, 0, 0, 0, 0, 0, 0, 0, 1, 1, 0, 0, 0, 0, 0, 0, 0, 0, 0, 1, 0, 0, 1, 1, 0, 0, 0, 0, 0, 0, 0, 0, 2, 4, 0, 0, 3, 1, 3, 1, 1, 0, 0, 0, 2, 0, 2, 1, 2, 0, 2, 0, 1, 0, 0, 1, 1, 0, 0, 0, 0, 0, 1, 0, 1, 0, 0, 0, 0, 0, 3, 0, 2, 0, 0, 0, 0, 0, 0, 0, 0, 1, 0, 0, 0, 1, 0, 0, 2, 1, 0, 2, 0, 1, 2, 0, 0, 0, 2, 0, 0, 1, 0, 2, 0, 0, 3, 0, 0, 0, 2, 1, 1, 2, 3, 1, 0, 8, 1, 1, 0, 3, 18, 0, 142, 1, 0, 1, 4, 0, 1, 0, 0, 0, 0, 0, 2, 0, 1, 0, 1, 0, 0, 0, 0, 2, 0, 0, 0, 0, 0, 1, 0, 1, -1, 14, 87, 0, 0, 0, 0, 2, 0, 12, 0, 0, 0, 0, 0, -1, 0, 0, 0, 2, 0, 1, 0, 0, 0, 0, 0, 0, 0, -1, 6, 0, 1, 0, 4, 0, 4, 1, 0, 0, 1, 0, 0, 0, 0, 0, 0, 0, 0, 0, 0, 0, 0, 0, 6, 0, 0, 0, 0, 0, 0, 1, 0, 0, 0, 4, 1, 0, 0, 2, 1, 0, 1, 0, 0, 0, 0, 124, 0, 0, 0, 0, 0, 0, 0, 0, 0, 0, 0, 0, 0, 0, 3, 0, 0, 0, 0, 0, 0, 0, 0, 0, 0, 0, 0, 0, 24, 0, 0, 1, 1, 0, 0, 0, 1, 0, 0, 0, 0, 0, 1, 0, 8, 0, 0, 0, 0, 5, 1, 3, 0, 0, 0, 0, 0, 1, 4, 3, 0, 0, 0, 0, 1, 0, 0, 0, 0, 0, 1, 0, 0, 1, 0, 0, 0, 1, 2, 1, 1, 2, 51, 0, 0, 0, 1, 0, 11, 0, 1, 0, 1, 0, 0, 0, 0, 0, 0, 0, 0, 1, 0, 0, 0, 0, -1, 0, 1, 0, 1, 0, 1, 0, 0, 3, 6, 0, 0, 0, 0, 0, 0, 0, 0, 0, 0, 0, 0, 0, 0, 1, 3, 0, 1, 1, 0, 0, 0, 0, 0, 0, 0, 0, 1, 0, 0, 0, 0, 0, 0, 0, 1, 4, 1, 1, 0, 6, 0, 0, 0, 1, 0, 0, 0, 0, 0, 1, 0, 0, 0, 0, 0, 1, 0, 0, 0, 0, 0, 0, 1, 0, 2, 0, 25, 0, 0, 0, 0, 0, 0, 1, 0, 0, 1, 0, 1, 0, 0, 0, 0, 0, 3, 0, 0, 2, 0, 0, 0, 0, 1, 1, 0, 3, 0, 1, 7, 1, 1, 0, 9, 0, 1, 2, 7, 1, 2, 3, 1, 75, 1, 7, 1, 3, 0, 0, 1, 2, 2, 0, 0, 1, 0, 0, 0, 0, 1, 0, 0, 0, 2, 5, 0, 0, 2, 1, 0, 0, 19, 0, 0, 1, 0, 0, 0, 0, 0, 0, 0, 0, 0, 0, 7, 0, 0, 0, 0, 0, 0, 0, 0, 0, 0, 0, 0, 1, 0, 0, 0, 0, 0, 0, 1, 0, 0, 0, 1, 0, 0, 2, 0, 0, 0, 0, 0, 0, 0, 1, 1, 0, 0, 5, 1, 5, 1, 1, 1, 3, 12, 1, 2, 1, 0, 0, 1, 0, 2, 0, 1, 1, 0, 5, 2, 3, 9, 1, 4, 0, 1, 2, 1, 1, 1, 0, 141, 1, 1, 9, 0, 2, 1, 0, 0, 0, 0, 0, 3, 0, 0, 0, 0, 0, 0, 0, 0, 0, 0, 0, 0, 4, 3, 1, 0, 0, 1, 0, 0, 0, 0, 0, 0, 0, 5, 0, 0, 1, 6, 0, 0, 0, 0, 0, 0, 1, 2, 0, 0, 0, 0, 0, 1, 0, 0, 0, 10, 0, 0, 0, 0, 0, 0, 1, 0, 0, 0, 0, 1, 1, 1, 0, 2, 0, 3, 0, 0, 0, 3, 0, 1, 1, 3, 0, 0, 19, 0, 0, 0, 0, 0, 0, 0, 0, 0, 0, 1, 0, 0, 0, 0, 1, 0, 0, 0, 0, 0, 0, 0, 1, 0, 1, 0, 1, 1, 0, 0, 4, 0, 0, 0, 0, 0, 9, 1, 0, 0, 2, 15, 0, 0, 1, 0, 0, 0, 2, 0, 0, 0, 0, 0, 0, 1, 0, 0, 0, 0, 0, 0, 0, 0, 0, 0, 0, 0, 0, 1, 1, 0, -1, 0, 0, 0, 2, 0, 0, 0, 0, 0, 0, 0, 0, 0, 0, 3, 0, 0, 0, 0, 1, 0, 0, 0, 1, 2, 0, 0, 1, 2, 1, 3, 1, 1, 1, 1, 1, 16, 0, 0, -1, 2, 22, 1, 3, 1, 0, 4, 0, 10, 0, 2, 0, 3, -1, 1, 1, 0, 3, 11, 1, 1, 4, 1, 0, 0, 3, 0, 1, 0, 3, 0, 1, 0, 0, 1, 0, 1, 0, 1, 0, 1, 0, 0, 1, 1, 0, 10, 1, 0, 8, 1, 0, 0, 13, 0, 0, 0, 2, 1, 2, 0, 0, 2, 7, 0, 0, 5, 1, 1, 1, 1, 1, 0, 0, 0, 2, 24, 12, 1, 2, 4, 40, 11, 0, 0, 15, 13, 0, 504, 0, 1, 0, 4, 5, 1, 2, 0, 1, 1, 0, 0, 0, 0, 0, 0, 0, 0, 1, 1, 0, 6, 3, 0, 0, 0, 0, 0, 0, 6, 2, 0, 2, 152, 1, 0, 2, 2, 0, -1, 1, 1, 0, 48, 0, 8, 0, 0, 1, 1, 0, 0, 0, 0, 1, 0, 0, -1, 0, 0, 0, 0, 1, 2, 0, 0, 0, 1, 1, 0, 1, 0, 0, 4, 0, 4, 1, 0, 0, 0, 1, 0, 1, 0, 0, 0, 0, 0, 0, 0, 0, 0, 0, 0, 0, 23, 0, 0, 2, 0, 0, 0, 0, 1, 0, 8, 0, 4, 0, 0, 0, 0, 0, 0, 2, 0, 0, 1, 0, 185, 0, 0, 0, 1, 0, 3, 0, 1, 3, 1, 0, 0, 0, 0, 0, 0, 1, 0, 0, 1, 0, 0, 0, 0, 2, 0, 1, 0, 0, 3, 0, 6, 0, 0, 0, 0, 2, 3, 0, 0, 0, 0, 0, 0, 0, 0, 0, 12, 0, 0, 0, 1, 1, 15, 12, 1, 0, 1, 0, 0, 0, 0, 0, 1, 2, 1, 9, 1, 0, 1, 1, 0, 1, 0, 0, 0, 1, 1, 0, 0, 0, 1, 0, 0, 0, 0, 0, 1, 1, 0, 3, 1, 0, 0, 11, 25, 0, 1, 0, 1, 0, 0, 0, 24, 0, 1, 0, 0, 0, 0, 0, 0, 1, 0, 1, 0, 1, 0, 0, 1, 0, 1, 0, 0, -1, 0, 1, 1, 0, 0, 0, 0, 4, 0, 0, 0, 0, 0, 0, 0, 0, 0, 0, 0, 0, 1, 1, 1, 0, 1, 0, 0, 0, 0, 0, 0, 0, 0, 0, 0, 1, 0, 1, 0, 2, 4, 0, 0, 1, 2, 0, 0, 0, 0, 0, 0, 0, 0, 0, 0, 0, 5, 0, 0, 0, 0, -1, 7, 0, 1, 0, 0, 0, 0, 1, 2, 0, 1, 0, 1, 0, 0, 0, 0, 11, 0, 0, 0, 0, 0, 0, 0, 0, 0, 0, 0, 0, 0, 0, 1, 1, 0, 0, 10, 0, 0, 2, 0, 0, 0, 1, 0, 0, 2, 0, 3, 0, 0, 0, 0, 0, 0, 2, 0, 0, 0, 3, 0, 1, 0, 1, 0, 33, 2, 1, 0, 0, 0, 0, 0, 0, 7, 0, 1, 1, 0, 0, 0, 1, 1, 0, 1, 0, 0, 1, 0, 0, 0, 0, 0, 0, 11, 0, 2, 0, 0, 0, 0, 0, 0, 0, 0, 0, 1, 0, 0, 5, 1, 0, 2, 0, 0, 0, 0, 0, 1, 0, 0, 0, 1, 0, 1, 0, 0, 0, 1, 0, 1, 1, 0, 0, 0, 0, 0, 1, 0, 0, 0, 0, 1, 0, 0, 0, 0, 0, 0, 0, 0, 0, 4, 0, 2, 1, 0, 5, 0, 0, 0, 0, 0, 0, 0, 0, 0, 1, 2, 0, 1, 12, 0, 12, 0, 2, 0, 0, 0, 0, 0, 0, 1, 0, 198, 0, 0, 4, 0, 5, 0, 0, 0, 0, 0, 0, 0, 1, 0, 0, 0, 0, 0, 0, 0, 0, 0, 0, 0, 0, 0, 2, 0, 0, 0, 0, 0, 0, 0, 0, 0, 0, 1, 2, 0, 0, 0, 3, 0, 0, 0, 0, 0, 0, 1, 0, 0, 0, 0, 0, 0, 0, 0, 0, 0, 0, 1, 0, 0, 0, 0, 0, 0, 0, 0, 0, 0, 0, 0, 0, 1, 0, 0, 1, 0, 0, 0, 0, 0, 0, 0, 0, 0, 1, 0, 0, 7, 0, 0, 0, 0, 0, 6, 1, 0, 0, 0, 1, 0, 0, 0, 0, 5, 0, 0, 0, 0, 0, 0, 0, 0, 0, 1, 0, 0, 0, 0, 0, 0, 8, 0, 1, 3, 0, 1, 0, 4, 0, 0, 1, 9, 1, 0, 1, 0, 1, 0, 0, 0, 3, 0, 0, 0, 0, 0, 0, 4, 1, 0, 0, 0, 0, 1, 0, 0, 1, 0, 0, 0, 0, 0, 0, 0, 0, 0, 1, 0, 0, 1, 0, 0, 0, 1, 0, 0, 0, 0, 0, 0, 0, 2, 0, 0, 0, 1, 0, 0, 0, 0, 0, 0, 0, 4, 2, 0, 0, 1, 1, 3, 7, 1, 1, 1, 0, 0, 1, 0, 1, 0, 10, 0, 22, 0, 1, 0, 2, 0, 11, 0, 11, 0, 5, 1, 7, 1, 0, 7, 1, 2, 0, 45, 0, 0, 1, 0, 0, 0, 8, 0, 1, 0, 5, 0, 0, 0, 0, 0, 1, 0, 1, 0, 0, 1, 0, 4, 2, 0, 0, 0, 0, 0, 0, 4, 1, 1, 1, 3, 0, 0, 2, 0, 15, 1, 0, 0, 1, 0, 1, 2, 0, 0, 1, 1, 1, 0, 0, 3, 7, 0, 3, 1, 0, 0, -1, -1, 2, 15, 22, 1, 2, 0, 3, 18, 7, 0, 0, 8, 16, 0, 689, 0, 1, 0, 1, 9, 1, 0, 1, 0, 0, 0, 1, 0, 0, 0, 1, 0, 1, 2, 0, 0, 1, 0, 3, 0, 0, 0, 0, 0, 0, 0, 2, 0, 0, 4, 88, 0, 0, 0, 0, 0, 0, 1, 0, 0, 2, 0, 1, 0, 0, 0, 0, 0, 0, 0, 0, 0, 0, 0, 0, 0, 0, 0, 1, 0, 0, 0, 0, 0, 0, 6, 0, 0, 0, 0, 3, 6, 2, 0, 0, 1, 0, 1, 0, 0, 0, 0, 1, 0, 0, 0, 0, 0, 0, 0, 0, 0, 0, 0, 22, 0, 1, 0, 0, 0, 0, 0, 0, 4, 4, 0, 1, 0, 0, 0, 0, 0, 0, 0, 0, 2, 0, 0, 0, 0, 45, 0, 0, 1, 0, 0, 0, 0, 0, 0, 0, 0, 0, 0, 0, 0, 0, 2, 0, 0, 0, 0, 0, 0, 0, 0, 0, 0, 0, 0, 0, 0, 1, 14, 0, 0, 0, 0, 0, 2, 0, 2, 0, 0, 1, 0, 1, 0, 0, 11, 0, 1, 0, 0, 0, 5, 4, 1, 0, 0, 0, 0, 0, 0, 0, 0, 0, 1, 0, 17, 0, 0, 0, 0, 0, 0, 0, 0, 0, 0, 1, 0, 0, 0, 0, 0, 0, 0, 0, 0, 0, -1, 0, 1, 1, 0, 0, 1, 19, 0, 0, 0, 0, 0, 0, 0, 11, 0, -1, 0, 1, 0, 4, 0, 0, 0, 0, 0, 0, 0, 0, 0, 0, 3, 0, 0, 1, 0, 0, 0, 0, 1, 0, 1, 0, 0, 0, 1, 5, 0, 0, 0, 0, 0, 0, 0, 0, 1, 0, 1, 0, 0, 0, 1, 0, 0, 0, 0, 1, 0, 0, 0, 1, 0, 0, 0, 0, 0, 0, 0, 0, 0, 0, 3, 1, 0, 0, 1, 0, 0, 0, 0, 2, 0, 1, 1, 0, 0, 0, 0, 0, 0, 0, 0, 0, 0, 8, 0, 0, 0, 0, 0, 0, 4, 5, 0, 0, 0, 0, 0, 0, 0, 1, 3, 0, 0, 0, 0, 0, 0, 0, 0, 0, 0, 0, 0, 0, 0, 0, 2, 0, 0, 19, 0, 2, 1, 0, 0, 1, 1, 2, 0, 0, 4, 0, 7, 1, 2, 2, 1, 0, 1, 1, 1, 0, 0, 9, 1, 0, 1, 0, 0, 11, 1, 0, 0, 14, 1, 1, 86, 0, 5, 0, 0, 0, 0, 1, 0, 1, 1, 0, 0, 1, 2, 0, 0, 0, 0, 1, 1, 0, 1, 11, 0, 0, 0, 2, 0, 0, 32, 0, 2, 1, 0, 0, 1, 0, 0, 0, 0, 0, 0, 1, 0, 2, 0, 1, 0, 2, 0, 0, 0, 0, 0, -1, 1, 0, 0, 3, 0, 1, 0, 0, 0, 0, 0, 0, 0, 0, 0, 0, 0, 2, 2, 0, 0, 0, 0, 0, 0, 0, 0, 0, 0, 2, 0, 0, 0, 5, 1, 1, 0, 1, 0, 10, 0, 0, 5, 3, 0, 2, 0, 2, 0, 2, 10, 0, 2, 11, 6, 7, 1, 0, 2, 0, 0, 0, 0, 2, 1, 0, 0, 0, 184, 0, 1, 1, 5, 0, 6, 0, 0, 0, 0, 0, 0, 5, 0, 0, 0, 0, 0, 0, 0, 0, 0, 0, 0, 0, 0, 0, 0, 0, 0, 0, 0, 0, 0, 0, 0, 0, 0, 0, 2, 0, 0, 0, 11, 0, 0, 0, 0, 0, 0, 2, 0, 0, 1, 0, 2, 0, 0, 0, 1, 0, 0, 0, 2, 0, 0, 1, 0, 0, 0, 0, 1, 0, 1, 0, 0, 0, 0, 0, 3, 0, 0, 0, 2, 2, 0, 1, 0, 1, 0, 0, 0, 2, 0, 0, 24, 0, 0, 0, 0, 0, 0, 0, 0, 1, 0, 0, 2, 0, 0, 0, 2, 0, 0, 0, 0, 3, 0, 0, 0, 1, 0, 0, 0, 0, 1, 0, 1, 1, 24, 1, 1, 1, 0, 4, 2, 8, 5, 10, 0, 1, 0, 1, 7, 43, 0, 1, 0, 0, 2, 0, 1, 3, 0, 0, 8, 4, 0, 6, 1, 3, 0, 19, 3, 1, 0, 1, 1, 1, 1, 3, 0, -1, 0, 0, 0, 1, 0, 1, 1, 0, 1, 0, 1, 1, 3, 0, 0, 0, 5, 0, 3, 0, 0, 1, 0, 0, 3, 1, 1, 0, 0, 0, 0, 0, 0, 1, 0, 0, 0, 0, 0, 0, 0, 1, 1, 1, 1, 2, 2, 0, 1, 0, 1, 0, 2, 0, 0, 1, 6, 0, 0, 0, 0, 0, 11, 0, 5, 0, 1, 0, 0, 0, 9, 0, 1, 0, 0, 2, 0, 0, 1, 0, 0, 1, 0, 35, 0, 0, 3, 1, 0, 0, 0, 2, 0, 1, 2, 0, 4, 0, 0, 1, 1, 0, 1, 0, 1, 0, 0, 0, 0, 0, 0, 0, 0, 0, 0, 0, 0, 0, 0, 6, 1, 1, 2, 7, 0, 0, 0, 0, 8, -1, 2, 0, 0, 0, 0, 0, 0, 0, 0, 1, 2, 1, 0, 3, 0, 0, 0, 1, 0, 0, 0, 0, 2, 17, 21, 1, 4, 0, 8, 17, 2, 1, 0, 5, 4, 1, 2, 530, 0, 1, 1, 2, 8, 0, 0, 0, 0, 0, 0, 5, 0, 0, 0, 0, 0, 0, 0, 0, 0, 1, 0, 7, 7, 0, 0, 0, 1, 0, 0, 0, 0, 0, 14, 63, 0, 1, 0, 0, 0, 0, 0, 1, 1, 1, 0, 49, 0, 7, 0, 0, 0, 0, 0, 0, 0, 0, 0, 1, 0, 1, 1, 0, 0, 0, 1, 0, 0, 0, 0, 0, 0, 0, 2, 0, 0, 0, 0, 4, 0, 1, 0, 0, 0, 0, 0, 0, 0, 0, 0, 0, 1, 0, 0, 0, 0, 0, 0, 0, 0, 0, 0, 0, 1, 29, 1, 0, 0, 1, 2, 0, 0, 0, 0, 1, 0, 1, 0, 0, 0, 0, 0, 0, 0, 0, 5, 0, 1, 0, 0, 0, 83, 0, 0, 0, 0, 0, 0, 2, 0, 0, -1, 0, 0, 0, 0, 0, 0, 1, 0, 0, 0, 1, 0, 0, 0, 0, 0, 1, 2, 1, 0, 0, 1, 1, 0, 1, 1, 1, 0, 32, 0, 0, 0, 0, 0, 5, 0, 0, 0, 0, 0, 0, 0, 0, 1, 12, 0, 1, 0, 0, 0, 2, 13, 15, 0, 0, 1, 0, 0, 0, 0, 0, 0, 0, 0, 0, 7, 0, 0, 2, 0, 0, 0, 0, 0, 0, 0, 1, 1, 0, 0, 0, 0, 0, 0, 1, 0, 1, 0, 1, 1, 0, 0, 1, 4, 0, 0, 0, 1, 41, 0, 0, 1, 0, 0, 0, 0, 0, 20, 0, 0, 0, 0, 0, 0, 0, 0, 0, 0, 0, 0, 0, 2, 0, 0, 0, 0, 0, -1, 0, 1, 0, 0, 1, 0, 1, 0, 1, 0, 0, 0, 0, 2, 0, 0, 0, 0, 0, 0, 0, 0, 0, 0, 3, 0, 0, 0, 0, 1, 0, 1, 0, 0, 0, 0, 2, 0, 0, 0, 0, 0, 3, 0, 0, 0, 0, 1, 1, 1, 0, 5, 0, 0, 0, 0, 0, 0, 1, 1, 0, 0, 0, 0, 0, 0, 5, 1, 0, 1, 0, 0, 0, 2, 0, 0, 0, 0, 0, 0, 1, 0, 0, 0, 0, 0, 0, 0, 5, 1, 33, 0, 0, 1, 0, 0, 0, 0, 0, 0, 5, 3, 0, 0, 0, -1, 0, 0, 0, 5, 0, 1, 1, 0, 0, 0, 0, 0, 0, 1, 0, 1, 0, 4, 0, 0, 1, 0, 0, 0, 0, 0, 1, 1, 0, 16, 0, 1, 0, 0, 0, 12, 0, 0, 2, 11, 0, 0, 73, 1, 1, 1, 1, 0, 0, 0, 0, 0, 0, 1, 0, 0, 3, 1, 0, 4, 0, 0, 0, 0, 2, 0, 2, 4, 0, 0, 0, 0, 0, 0, 14, 0, -1, 0, 0, 1, 0, 0, 0, 0, 0, 0, 0, -1, 0, 0, 0, 0, 0, 0, 0, 1, 0, 0, 1, 0, 0, 0, 0, 0, 0, 0, 0, 0, 0, 0, 0, 0, 0, 0, 0, 0, 3, 0, 0, 0, 0, 0, 0, 0, 0, 0, 0, 0, 0, 0, 0, 0, 0, 3, 0, 0, 0, 3, 0, 1, 0, 0, 0, 14, 0, 0, 0, -2, 0, 1, 0, 0, 2, 1, 3, 4, 1, 1, 0, 0, 11, 1, 0, 0, 0, 4, 0, 1, 0, 1, 1, 1, 0, 2, 175, 0, 1, 0, 1, 4, 0, 2, 1, 1, 1, 0, 0, 0, 8, 0, 0, 0, 0, 0, 0, 0, 0, 0, 0, 0, 0, 0, 1, 2, 0, 0, 0, 0, 0, 0, 0, 0, 2, 0, 0, 0, 0, 2, 0, 0, 12, 0, 0, 0, 0, 0, 0, 0, 0, 0, 0, 0, 0, 0, 0, 0, 0, 2, 0, 0, 0, 0, 0, 0, 0, 0, 0, 0, 0, 0, 0, 0, 0, 0, 0, 0, -1, 0, 0, 0, 0, 0, 0, 0, 0, 0, 0, 0, 0, 1, 0, 0, 0, 0, 0, 1, 0, 0, 0, 0, 0, 0, 0, 0, 1, 0, 0, 0, 0, 0, 0, 0, 0, 0, 0, 0, 0, 0, 0, 0, 0, 0, 0, 1, 0, 0, 0, 3, 0, 0, 0, 0, 2, 0, 0, 1, 2, 0, 1, 0, 0, 0, 1, 0, 0, 0, 0, 0, 0, 0, 0, 0, 0, 2, 0, 0, 0, 0, 1, 0, 2, 0, 0, 0, 0, 0, 0, 1, 0, -1, 0, 0, 0, 0, 0, 0, 0, 0, 0, 0, 0, 0, 0, 0, 0, 0, 2, 0, 0, 1, 0, 0, 0, 0, 0, 0, 8, 0, 0, 0, 0, 1, 0, 0, 1, 0, 0, 0, 0, 0, 0, 2, 1, 2, 1, 0, 1, 1, 2, 0, 0, 0, 0, 2, 0, 1, 0, 0, 1, 0, 10, 0, 0, 1, 2, 17, 0, 4, 2, 0, 0, 7, 0, 2, 4, 0, 0, 6, 2, 7, 0, 3, 1, 0, 0, 0, 1, 24, 0, 0, 0, 0, 0, 0, 0, 4, 2, 0, 2, 0, 0, 0, 0, 0, 0, 0, 0, 0, 0, 0, 0, 0, 0, 0, 0, 1, 0, 1, 2, 0, 0, 2, 0, 4, 0, 0, 0, 13, 2, 0, 0, 0, 14, 1, 1, 1, 1, 0, 0, 0, 0, 0, 0, 0, 2, 2, 1, 0, 1, 0, 0, 0, 0, 0, 0, 0, 0, 1, 1, 0, 1, 9, 14, 0, 1, 0, 6, 10, 3, 2, 0, 0, 4, 0, 0, 1], \"y\": [1, 1, 1, 2, 2, 2, 2, 2, 3, 1, 6, 1, 1, 1, 6, 2, 1, 1, 1, 1, 12, 1, 2, 1, 1, 1, 2, 1, 15, 1, 2, 1, 1, 1, 2, 1, 15, 1, 2, 1, 1, 1, 2, 1, 1, 18, 1, 3, 2, 1, 1, 2, 1, 1, 1, 29, 1, 3, 2, 2, 1, 1, 1, 2, 1, 5, 1, 1, 13, 1, 1, 1, 2, 2, 1, 1, 44, 1, 2, 4, 3, 2, 2, 1, 1, 1, 2, 1, 5, 1, 1, 13, 1, 1, 1, 2, 2, 1, 1, 1, 44, 1, 2, 4, 3, 8, 3, 1, 1, 1, 1, 1, 2, 6, 1, 5, 1, 1, 13, 1, 1, 1, 2, 2, 1, 2, 1, 1, 1, 1, 62, 1, 2, 5, 4, 14, 3, 1, 1, 1, 1, 1, 2, 7, 1, 5, 1, 1, 22, 1, 1, 1, 2, 1, 2, 1, 2, 1, 1, 1, 1, 62, 1, 2, 5, 1, 4, 1, 8, 19, 2, 5, 2, 1, 1, 1, 2, 1, 4, 7, 1, 5, 1, 1, 23, 1, 1, 1, 6, 1, 3, 1, 2, 5, 1, 1, 1, 1, 1, 1, 1, 145, 3, 1, 2, 5, 3, 1, 5, 1, 9, 19, 2, 5, 3, 5, 1, 1, 1, 2, 1, 1, 1, 1, 6, 1, 2, 13, 1, 2, 7, 1, 1, 1, 1, 23, 1, 1, 1, 6, 1, 3, 1, 2, 5, 1, 1, 1, 1, 1, 1, 1, 1, 156, 3, 1, 2, 5, 4, 1, 17, 1, 17, 1, 34, 2, 1, 5, 1, 3, 10, 1, 1, 1, 2, 1, 1, 1, 1, 7, 1, 1, 1, 1, 14, 1, 2, 8, 1, 1, 1, 1, 1, 1, 6, 55, 1, 1, 2, 15, 1, 2, 2, 5, 1, 2, 2, 5, 1, 1, 1, 1, 1, 1, 1, 1, 1, 1, 1, 6, 3, 6, 1, 1, 214, 1, 4, 4, 3, 5, 1, 2, 4, 1, 18, 1, 17, 1, 42, 1, 7, 5, 2, 1, 7, 1, 3, 18, 1, 1, 1, 2, 2, 1, 1, 2, 8, 1, 1, 1, 1, 1, 14, 3, 1, 2, 17, 1, 1, 1, 1, 1, 1, 1, 7, 56, 1, 1, 2, 2, 2, 1, 1, 20, 1, 1, 4, 4, 6, 2, 2, 1, 2, 5, 1, 1, 1, 2, 2, 1, 1, 1, 1, 1, 1, 2, 1, 3, 1, 1, 1, 259, 1, 1, 1, 7, 6, 7, 1, 1, 6, 1, 3, 4, 1, 18, 1, 63, 1, 1, 1, 87, 1, 1, 1, 7, 6, 2, 2, 9, 1, 3, 1, 20, 1, 1, 1, 5, 1, 4, 1, 1, 1, 1, 1, 11, 1, 1, 2, 1, 1, 1, 14, 4, 1, 2, 27, 1, 1, 3, 1, 1, 1, 1, 1, 7, 56, 5, 1, 1, 1, 2, 0, 2, 2, 3, 1, 2, 25, 2, 2, 1, 4, 4, 1, 3, 10, 2, 1, 3, 1, 1, 2, 1, 6, 5, 2, 1, 1, 2, 2, 1, 1, 1, 1, 1, 1, 1, 2, 3, 1, 4, 4, 1, 1, 306, 1, 1, 1, 11, 7, 11, 1, 1, 6, 1, 3, 5, 2, 23, 4, 76, 1, 1, 1, 108, 1, 1, 2, 11, 11, 2, 2, 9, 1, 3, 2, 30, 2, 1, 1, 4, 1, 4, 1, 1, 1, 3, 3, 14, 1, 1, 1, 2, 1, 1, 3, 25, 4, 1, 2, 31, 1, 1, 3, 1, 1, 1, 1, 1, 1, 1, 1, 10, 3, 99, 1, 6, 2, 1, 2, 2, 2, 3, 2, 2, 2, 1, 2, 1, 1, 1, 3, 1, 1, 2, 1, 35, 2, 2, 1, 1, 2, 1, 6, 6, 2, 6, 10, 1, 2, 6, 1, 1, 4, 1, 1, 2, 2, 6, 7, 1, 2, 1, 1, 2, 2, 1, 1, 1, 1, 1, 1, 1, 2, 3, 1, 4, 4, 1, 1, 306, 1, 1, 2, 11, 7, 25, 1, 1, 1, 1, 1, 6, 1, 3, 7, 2, 33, 5, 116, 1, 1, 1, 117, 1, 1, 2, 11, 11, 2, 1, 1, 11, 1, 5, 2, 30, 2, 1, 1, 4, 1, 4, 1, 1, 1, 3, 3, 19, 1, 1, 1, 4, 1, 1, 3, 1, 28, 6, 1, 4, 1, 31, 4, 1, 3, 1, 1, 2, 1, 0, 1, 1, 1, 10, 3, 168, 1, 9, 3, 1, 2, 2, 2, 3, 2, 2, 3, 1, 2, 1, 1, 1, 3, 1, 1, 1, 2, 2, 38, 2, 1, 1, 2, 1, 1, 2, 1, 6, 6, 7, 2, 7, 10, 1, 2, 7, 1, 1, 4, 1, 1, 1, 2, 3, 6, 7, 1, 2, 1, 1, 2, 2, 1, 1, 1, 1, 1, 1, 1, 2, 3, 1, 4, 4, 1, 1, 306, 1, 1, 5, 17, 8, 31, 1, 1, 1, 1, 1, 1, 6, 1, 1, 1, 3, 8, 2, 37, 6, 151, 1, 1, 3, 138, 1, 1, 2, 1, 1, 13, 14, 2, 2, 1, 12, 1, 5, 8, 60, 1, 1, 1, 2, 1, 1, 1, 8, 1, 2, 7, 1, 1, 2, 1, 3, 6, 19, 1, 1, 5, 1, 4, 1, 1, 1, 1, 1, 3, 2, 1, 30, 6, 1, 1, 6, 1, 34, 4, 1, 3, 1, 1, 2, 1, 0, 1, 1, 1, 10, 3, 212, 3, 1, 9, 3, 1, 2, 2, 2, 7, 2, 2, 5, 1, 1, 2, 1, 1, 1, 1, 3, 1, 1, 1, 2, 3, 1, 41, 1, 3, 2, 1, 1, 1, 2, 1, 1, 3, 1, 6, 7, 9, 2, 9, 15, 1, 2, 2, 7, 1, 1, 2, 4, 1, 1, 1, 2, 2, 4, 7, 7, 1, 2, 1, 1, 2, 2, 1, 1, 1, 1, 1, 1, 1, 2, 3, 1, 4, 4, 1, 1, 306, 1, 1, 7, 21, 10, 45, 2, 1, 1, 1, 1, 1, 1, 8, 1, 1, 2, 3, 8, 2, 45, 1, 6, 170, 1, 1, 1, 4, 161, 1, 1, 3, 1, 1, 17, 15, 3, 2, 1, 15, 1, 5, 2, 8, 87, 1, 1, 1, 2, 1, 1, 1, 8, 1, 2, 7, 1, 1, 2, 1, 3, 7, 22, 1, 1, 5, 1, 1, 4, 1, 1, 2, 1, 1, 3, 2, 1, 30, 8, 1, 2, 6, 1, 40, 4, 1, 3, 1, 1, 1, 2, 1, 1, 0, 1, 1, 1, 1, 1, 12, 3, 276, 3, 4, 1, 9, 4, 1, 4, 7, 1, 2, 1, 7, 2, 1, 2, 6, 2, 1, 2, 1, 1, 1, 1, 3, 1, 1, 1, 1, 2, 5, 1, 1, 47, 1, 3, 2, 1, 1, 1, 3, 1, 1, 4, 1, 9, 7, 9, 3, 9, 20, 1, 2, 4, 10, 1, 2, 2, 4, 1, 1, 3, 1, 2, 2, 6, 1, 9, 12, 1, 2, 1, 1, 2, 2, 1, 1, 1, 1, 1, 1, 1, 2, 3, 1, 4, 4, 1, 1, 306, 1, 1, 7, 23, 10, 1, 52, 2, 2, 1, 1, 1, 1, 1, 1, 8, 1, 1, 1, 2, 3, 8, 2, 54, 1, 1, 6, 196, 1, 1, 1, 4, 195, 1, 1, 3, 1, 1, 17, 15, 3, 2, 1, 15, 1, 1, 6, 1, 2, 8, 90, 1, 1, 1, 2, 1, 1, 1, 8, 1, 2, 7, 1, 1, 2, 1, 3, 7, 22, 1, 1, 6, 1, 2, 2, 4, 1, 1, 4, 1, 1, 3, 3, 2, 31, 9, 1, 1, 2, 6, 2, 60, 1, 5, 1, 3, 2, 1, 1, 3, 3, 1, 0, 1, 1, 2, 1, 1, 19, 3, 1, 331, 3, 1, 6, 1, 9, 4, 1, 4, 7, 1, 2, 2, 7, 2, 0, 2, 6, 2, 1, 3, 1, 1, 1, 1, 1, 1, 3, 1, 1, 1, 1, 1, 2, 5, 1, 1, 1, 87, 2, 4, 2, 1, 1, 2, 3, 1, 1, 6, 1, 1, 7, 9, 9, 2, 1, 2, 11, 16, 1, 3, 4, 12, 1, 2, 2, 5, 1, 1, 3, 1, 2, 2, 5, 1, 1, 1, 8, 13, 1, 2, 1, 1, 4, 2, 6, 1, 1, 5, 2, 1, 1, 1, 2, 4, 3, 1, 1, 1, 4, 17, 1, 13, 16, 1, 2, 722, 2, 1, 1, 1, 0, 7, 23, 10, 1, 1, 63, 2, 1, 2, 1, 1, 1, 1, 1, 1, 1, 9, 1, 2, 1, 2, 5, 10, 2, 60, 1, 1, 6, 224, 1, 1, 1, 4, 171, 1, 1, 1, 3, 1, 3, 20, 17, 3, 2, 1, 21, 1, 1, 6, 1, 2, 10, 96, 3, 1, 1, 1, 2, 1, 2, 1, 1, 8, 2, 2, 11, 1, 1, 2, 1, 1, 3, 7, 23, 1, 1, 8, 1, 2, 4, 6, 1, 1, 1, 1, 5, 1, 1, 3, 3, 2, 33, 9, 1, 1, 2, 6, 2, 66, 1, 5, 1, 3, 3, 1, 2, 3, 3, 1, 1, 1, 1, 1, 2, 1, 1, 31, 3, 1, 368, 3, 1, 7, 2, 13, 4, 1, 5, 9, 1, 2, 2, 9, 2, 0, 2, 7, 2, 1, 6, 1, 1, 1, 1, 1, 1, 3, 1, 2, 1, 1, 1, 2, 5, 1, 1, 1, 1, 1, 2, 1, 103, 2, 1, 4, 2, 1, 1, 1, 3, 1, 1, 6, 1, 1, 8, 12, 9, 4, 1, 4, 12, 20, 1, 3, 5, 16, 1, 1, 2, 2, 7, 1, 0, 3, 1, 3, 2, 2, 8, 1, 1, 1, 1, 8, 13, 1, 2, 1, 3, 2, 4, 2, 5, 1, 1, 9, 1, 1, 1, 2, 2, 1, 2, 7, 3, 1, 1, 1, 1, 6, 16, 2, 13, 17, 1, 2, 899, 2, 2, 1, 1, 1, 1, 8, 25, 11, 1, 1, 2, 75, 2, 1, 3, 1, 1, 1, 1, 1, 1, 1, 9, 2, 1, 2, 1, 2, 7, 10, 2, 78, 1, 1, 6, 268, 1, 1, 1, 1, 4, 211, 1, 1, 1, 4, 1, 5, 1, 21, 18, 3, 2, 1, 26, 1, 1, 1, 6, 1, 2, 13, 118, 4, 1, 1, 1, 1, 1, 3, 1, 5, 1, 1, 1, 11, 2, 2, 13, 1, 1, 1, 2, 1, 1, 3, 7, 1, 24, 1, 1, 1, 8, 1, 2, 4, 9, 1, 1, 1, 1, 1, 7, 1, 1, 1, 1, 1, 1, 4, 3, 2, 38, 1, 9, 1, 2, 5, 7, 2, 71, 1, 5, 1, 2, 1, 3, 7, 1, 2, 3, 3, 1, 1, 1, 1, 1, 1, 1, 3, 1, 1, 1, 36, 3, 0, 431, 4, 1, 9, 5, 19, 4, 1, 5, 9, 3, 2, 2, 9, 2, 1, 0, 2, 7, 2, 1, 6, 1, 1, 1, 1, 1, 1, 3, 1, 2, 1, 1, 1, 2, 5, 1, 1, 1, 1, 1, 2, 1, 107, 2, 1, 4, 2, 1, 1, 1, 1, 3, 2, 1, 6, 1, 1, 1, 9, 12, 9, 4, 1, 4, 12, 27, 1, 3, 5, 18, 1, 1, 2, 2, 8, 1, 1, 3, 1, 3, 2, 2, 8, 1, 1, 1, 1, 1, 8, 13, 1, 2, 1, 3, 2, 5, 2, 6, 1, 1, 2, 13, 1, 1, 1, 3, 1, 2, 2, 8, 4, 1, 1, 3, 1, 6, 17, 1, 1, 15, 16, 1, 4, 1044, 2, 2, 1, 1, 1, 2, 1, 8, 25, 13, 1, 1, 2, 105, 2, 1, 4, 1, 1, 1, 1, 1, 1, 1, 9, 2, 0, 2, 1, 1, 2, 7, 10, 3, 81, 1, 1, 7, 1, 304, 1, 1, 1, 1, 2, 4, 225, 1, 1, 1, 1, 1, 4, 1, 5, 1, 24, 20, 4, 2, 1, 1, 33, 1, 2, 1, 7, 1, 2, 1, 15, 129, 4, 1, 1, 1, 1, 1, 4, 1, 5, 1, 1, 1, 11, 2, 2, 16, 1, 1, 3, 2, 2, 1, 3, 7, 1, 25, 2, 1, 1, 1, 8, 1, 2, 4, 10, 1, 1, 1, 1, 2, 1, 10, 1, 1, 1, 1, 1, 1, 5, 4, 2, 46, 1, 1, 1, 9, 2, 2, 7, 7, 1, 74, 1, 7, 1, 2, 1, 5, 7, 1, 2, 2, 3, 3, 1, 1, 1, 1, 1, 1, 1, 1, 3, 1, 2, 1, 1, 37, 1, 3, 1, 489, 4, 1, 11, 1, 1, 1, 1, 16, 34, 9, 1, 1, 1, 1, 1, 5, 13, 3, 2, 2, 9, 2, 1, 0, 2, 1, 7, 2, 1, 6, 1, 1, 1, 1, 1, 1, 3, 1, 2, 1, 1, 1, 3, 5, 1, 1, 1, 1, 1, 2, 1, 107, 2, 1, 4, 2, 1, 1, 1, 1, 3, 3, 1, 6, 1, 1, 1, 9, 12, 12, 2, 7, 1, 5, 13, 30, 2, 3, 5, 18, 1, 1, 2, 2, 9, 1, 1, 3, 2, 1, 4, 2, 2, 1, 9, 1, 1, 1, 1, 1, 8, 1, 13, 1, 2, 1, 3, 2, 5, 2, 6, 1, 1, 2, 13, 1, 1, 1, 3, 1, 2, 2, 8, 4, 1, 1, 3, 1, 6, 17, 1, 1, 15, 16, 1, 4, 1044, 2, 2, 1, 1, 1, 2, 1, 8, 2, 1, 31, 12, 1, 1, 1, 2, 2, 131, 2, 1, 8, 1, 1, 1, 1, 1, 1, 1, 9, 2, 0, 2, 1, 1, 1, 1, 2, 11, 1, 10, 3, 103, 1, 1, 7, 1, 338, 1, 1, 1, 1, 1, 1, 2, 5, 270, 1, 2, 1, 1, 1, 4, 1, 9, 1, 1, 28, 21, 4, 2, 1, 1, 33, 1, 2, 1, 7, 1, 2, 1, 21, 143, 5, 1, 1, 1, 1, 1, 4, 1, 7, 1, 2, 1, 1, 11, 2, 2, 1, 19, 1, 2, 3, 1, 1, 2, 2, 1, 3, 7, 2, 29, 2, 1, 1, 1, 8, 1, 2, 4, 12, 1, 1, 1, 1, 2, 1, 10, 1, 1, 1, 1, 1, 1, 6, 4, 2, 50, 1, 1, 1, 14, 2, 2, 8, 1, 7, 1, 1, 73, 1, 10, 1, 2, 1, 7, 1, 8, 1, 1, 2, 2, 1, 3, 3, 1, 1, 1, 1, 1, 2, 1, 1, 2, 1, 5, 1, 3, 1, 1, 1, 39, 3, 4, 1, 2, 516, 1, 6, 1, 11, 1, 1, 1, 1, 16, 34, 9, 1, 1, 1, 1, 1, 5, 13, 3, 2, 2, 9, 2, 1, 0, 2, 1, 7, 2, 1, 6, 1, 1, 1, 1, 1, 1, 3, 1, 2, 1, 1, 1, 3, 5, 1, 1, 1, 1, 1, 1, 2, 1, 135, 2, 1, 4, 2, 1, 1, 1, 1, 3, 3, 1, 7, 1, 1, 1, 9, 12, 12, 2, 7, 1, 5, 13, 40, 2, 3, 5, 1, 18, 1, 1, 2, 2, 9, 1, 1, 3, 2, 1, 4, 2, 2, 1, 10, 1, 1, 1, 1, 1, 9, 1, 13, 1, 2, 1, 3, 2, 5, 2, 6, 1, 1, 2, 13, 1, 1, 1, 3, 1, 2, 2, 8, 4, 1, 1, 3, 1, 6, 17, 1, 1, 15, 16, 1, 4, 1044, 2, 2, 1, 1, 1, 2, 1, 9, 6, 1, 34, 12, 1, 1, 1, 2, 2, 140, 1, 3, 1, 8, 1, 1, 1, 1, 1, 1, 1, 1, 12, 2, 0, 2, 1, 1, 1, 1, 2, 12, 1, 1, 10, 3, 117, 1, 1, 14, 1, 1, 353, 1, 1, 1, 1, 1, 1, 2, 5, 285, 1, 3, 1, 1, 1, 4, 1, 13, 1, 1, 31, 26, 4, 2, 1, 1, 35, 1, 2, 2, 1, 7, 1, 2, 1, 30, 163, 5, 1, 1, 1, 1, 1, 5, 1, 9, 1, 2, 1, 1, 13, 2, 1, 2, 1, 19, 1, 2, 3, 1, 1, 2, 2, 1, 3, 10, 1, 3, 36, 2, 1, 1, 1, 12, 1, 3, 2, 5, 17, 1, 1, 1, 1, 2, 1, 12, 1, 1, 1, 1, 1, 1, 1, 6, 5, 1, 2, 52, 1, 1, 1, 16, 2, 3, 2, 8, 1, 7, 0, 1, 77, 1, 10, 1, 2, 1, 7, 1, 8, 1, 1, 1, 2, 2, 1, 3, 3, 1, 1, 1, 1, 1, 1, 2, 1, 1, 1, 2, 1, 5, 1, 3, 1, 1, 1, 47, 7, 4, 1, 2, 2, 2, 553, 1, 7, 1, 1, 1, 11, 1, 1, 2, 1, 1, 1, 1, 16, 36, 10, 1, 2, 1, 1, 1, 1, 6, 13, 3, 2, 2, 15, 2, 1, 0, 2, 1, 8, 2, 1, 13, 1, 1, 1, 1, 1, 1, 3, 1, 2, 1, 1, 1, 3, 5, 1, 1, 2, 1, 1, 1, 2, 1, 143, 2, 1, 4, 2, 1, 1, 1, 1, 3, 3, 1, 1, 7, 1, 1, 1, 9, 14, 12, 2, 7, 1, 5, 15, 50, 2, 3, 5, 1, 18, 2, 1, 2, 3, 14, 1, 1, 3, 2, 1, 1, 4, 2, 2, 1, 10, 1, 1, 1, 1, 1, 9, 1, 15, 1, 2, 1, 6, 1, 3, 1, 11, 3, 6, 2, 3, 3, 14, 1, 1, 1, 1, 1, 1, 3, 1, 2, 2, 9, 15, 1, 1, 3, 1, 1, 1, 5, 1, 7, 40, 1, 3, 1, 33, 27, 3, 5, 1233, 1, 2, 3, 1, 1, 1, 2, 2, 9, 7, 1, 34, 13, 1, 1, 1, 1, 4, 4, 159, 1, 3, 1, 10, 3, 1, 1, 4, 2, 1, 1, 1, 1, 1, 1, 1, 18, 6, 0, 4, 1, 3, 1, 1, 1, 2, 12, 1, 1, 1, 10, 3, 132, 1, 1, 14, 1, 1, 371, 1, 1, 1, 1, 1, 1, 2, 1, 5, 305, 1, 1, 5, 1, 2, 1, 4, 1, 14, 1, 1, 1, 35, 28, 4, 2, 1, 1, 39, 0, 2, 2, 1, 1, 7, 1, 3, 1, 51, 1, 163, 5, 1, 1, 1, 1, 1, 5, 1, 9, 1, 2, 1, 1, 23, 2, 1, 2, 1, 20, 1, 2, 3, 1, 1, 2, 2, 1, 3, 10, 1, 1, 3, 37, 2, 2, 1, 1, 1, 18, 1, 4, 2, 1, 6, 21, 1, 1, 1, 1, 1, 1, 2, 1, 13, 1, 1, 1, 1, 1, 2, 1, 1, 6, 5, 1, 2, 58, 3, 1, 1, 16, 2, 3, 3, 10, 1, 7, 0, 1, 87, 1, 10, 1, 1, 2, 1, 1, 9, 1, 9, 1, 1, 1, 2, 2, 1, 4, 3, 1, 1, 1, 1, 3, 2, 1, 2, 1, 1, 1, 2, 2, 1, 5, 1, 3, 1, 1, 2, 1, 57, 7, 5, 1, 2, 2, 2, 586, 1, 9, 1, 1, 1, 1, 12, 1, 1, 1, 1, 1, 1, 1, 17, 42, 10, 1, 1, 1, 1, 1, 1, 7, 13, 3, 2, 2, 15, 2, 1, 1, 0, 2, 1, 8, 2, 1, 1, 13, 1, 1, 1, 1, 1, 1, 3, 1, 2, 1, 1, 1, 3, 5, 1, 1, 2, 1, 1, 1, 2, 1, 190, 2, 1, 4, 2, 1, 1, 1, 1, 3, 1, 4, 1, 1, 7, 1, 1, 1, 9, 19, 12, 3, 7, 1, 5, 17, 58, 2, 3, 5, 1, 18, 2, 1, 2, 3, 14, 1, 1, 3, 2, 1, 1, 4, 2, 2, 1, 10, 1, 1, 1, 1, 1, 9, 1, 16, 1, 2, 2, 1, 2, 20, 1, 1, 1, 9, 1, 15, 6, 12, 5, 7, 5, 3, 1, 21, 1, 1, 3, 6, 1, 1, 1, 2, 3, 1, 1, 2, 1, 3, 1, 10, 1, 33, 1, 1, 5, 1, 0, 1, 1, 6, 1, 1, 1, 17, 48, 14, 3, 1, 44, 30, 1, 6, 9, 1885, 1, 2, 1, 12, 1, 1, 1, 2, 1, 1, 1, 3, 9, 8, 1, 34, 13, 1, 1, 1, 1, 4, 6, 179, 1, 3, 4, 11, 3, 1, 1, 1, 5, 4, 1, 1, 0, 1, 1, 1, 1, 19, 7, 1, 4, 1, 3, 1, 1, 1, 2, 12, 1, 1, 1, 10, 3, 153, 1, 2, 1, 14, 1, 1, 1, 413, 1, 1, 1, 1, 1, 1, 2, 1, 5, 1, 329, 1, 0, 1, 1, 7, 2, 2, 1, 7, 1, 22, 3, 1, 1, 36, 34, 4, 2, 1, 1, 1, 1, 1, 42, 0, 2, 2, 1, 1, 7, 1, 1, 4, 1, 1, 1, 68, 1, 1, 188, 5, 1, 1, 1, 1, 1, 1, 7, 1, 13, 1, 2, 1, 1, 24, 4, 1, 1, 2, 1, 19, 1, 1, 2, 4, 1, 1, 2, 2, 1, 3, 14, 1, 1, 3, 38, 3, 2, 1, 1, 1, 1, 19, 1, 5, 1, 2, 1, 7, 1, 25, 1, 1, 1, 1, 1, 1, 1, 1, 2, 1, 15, 1, 1, 1, 1, 2, 1, 2, 1, 1, 6, 5, 1, 2, 64, 3, 1, 1, 17, 3, 2, 1, 1, 1, 4, 4, 10, 1, 8, 0, 1, 97, 1, 1, 12, 1, 1, 1, 2, 1, 1, 1, 26, 1, 10, 1, 1, 1, 2, 2, 1, 5, 3, 2, 1, 1, 1, 4, 2, 1, 2, 1, 1, 1, 1, 2, 3, 1, 6, 1, 4, 1, 1, 2, 1, 62, 7, 5, 1, 2, 2, 3, 697, 1, 11, 2, 1, 1, 1, 12, 1, 1, 0, 1, 1, 1, 1, 1, 20, 48, 11, 1, 1, 1, 1, 1, 1, 7, 23, 3, 1, 2, 2, 15, 2, 1, 1, 0, 2, 1, 8, 2, 1, 1, 13, 1, 1, 1, 1, 1, 1, 3, 1, 2, 1, 1, 4, 3, 5, 2, 1, 3, 1, 1, 1, 2, 1, 190, 2, 1, 5, 2, 1, 1, 1, 1, 3, 1, 4, 2, 1, 1, 7, 3, 1, 1, 10, 22, 12, 3, 7, 1, 5, 21, 60, 2, 3, 5, 1, 18, 2, 1, 2, 4, 14, 1, 1, 3, 2, 1, 1, 4, 2, 2, 1, 10, 1, 1, 1, 1, 1, 10, 1, 19, 1, 2, 2, 2, 2, 21, 2, 1, 1, 11, 1, 22, 7, 21, 8, 8, 9, 4, 1, 25, 1, 2, 1, 2, 4, 6, 3, 1, 1, 2, 5, 1, 2, 1, 2, 1, 3, 1, 11, 1, 43, 1, 1, 5, 1, 1, 1, 1, 1, 8, 1, 1, 1, 18, 51, 23, 3, 4, 52, 32, 1, 7, 12, 2418, 1, 3, 2, 22, 1, 1, 1, 2, 1, 1, 1, 3, 9, 8, 1, 36, 13, 1, 1, 1, 1, 4, 6, 205, 1, 3, 4, 3, 12, 3, 1, 1, 1, 1, 5, 4, 1, 1, 0, 1, 1, 1, 1, 22, 8, 1, 4, 1, 3, 1, 1, 1, 2, 12, 1, 1, 1, 10, 3, 167, 2, 1, 2, 1, 13, 1, 1, 1, 526, 1, 2, 1, 1, 1, 1, 1, 2, 2, 1, 2, 1, 5, 2, 373, 1, 0, 1, 1, 11, 2, 1, 3, 1, 7, 1, 23, 2, 3, 1, 1, 44, 36, 4, 2, 0, 1, 1, 1, 1, 43, 0, 2, 2, 1, 1, 7, 1, 1, 4, 1, 1, 1, 78, 1, 1, 1, 1, 210, 5, 1, 1, 1, 1, 1, 1, 9, 1, 9, 1, 2, 1, 1, 30, 5, 1, 1, 3, 3, 22, 3, 3, 2, 2, 4, 1, 1, 2, 1, 2, 3, 1, 1, 4, 22, 1, 1, 4, 38, 4, 2, 1, 1, 1, 1, 25, 1, 1, 5, 3, 2, 4, 1, 9, 1, 28, 1, 1, 1, 1, 1, 4, 1, 1, 2, 1, 23, 1, 1, 1, 1, 2, 1, 2, 1, 1, 7, 5, 1, 2, 74, 3, 1, 1, 17, 3, 2, 1, 1, 1, 5, 8, 13, 1, 11, 0, 1, 1, 99, 1, 1, 12, 1, 1, 1, 2, 1, 1, 1, 1, 27, 1, 2, 13, 1, 1, 1, 1, 1, 3, 2, 1, 5, 4, 2, 1, 1, 1, 4, 1, 3, 1, 1, 2, 1, 1, 1, 1, 2, 3, 1, 9, 1, 6, 1, 1, 3, 1, 3, 1, 1, 63, 8, 13, 1, 2, 2, 3, 798, 1, 10, 3, 1, 1, 1, 43, 1, 1, 1, 1, 2, 1, 1, 1, 21, 56, 13, 1, 1, 1, 1, 1, 1, 8, 24, 3, 3, 1, 3, 2, 16, 4, 1, 2, 0, 2, 1, 8, 2, 1, 1, 13, 1, 1, 1, 2, 1, 1, 3, 1, 3, 1, 1, 9, 1, 4, 6, 3, 1, 4, 1, 1, 2, 2, 1, 232, 2, 1, 5, 2, 1, 1, 1, 1, 1, 3, 1, 1, 8, 2, 1, 1, 7, 1, 1, 4, 1, 8, 1, 10, 1, 22, 12, 3, 7, 1, 5, 23, 71, 2, 3, 5, 1, 19, 2, 1, 2, 4, 1, 16, 1, 1, 4, 2, 1, 1, 1, 4, 2, 2, 1, 12, 1, 2, 1, 1, 1, 14, 1, 20, 1, 1, 2, 1, 2, 1, 2, 4, 1, 26, 0, 1, 1, 15, 1, 23, 11, 23, 0, 1, 14, 12, 1, 3, 6, 3, 35, 1, 2, 1, 2, 4, 6, 5, 1, 1, 1, 1, 2, 1, 5, 1, 2, 1, 3, 2, 7, 1, 13, 1, 51, 1, 1, 6, 1, 1, 2, 1, 2, 11, 0, 1, 1, 20, 59, 37, 3, 5, 59, 33, 1, 7, 14, 2815, 0, 3, 3, 29, 1, 1, 3, 3, 1, 2, 1, 1, 3, 9, 9, 1, 36, 17, 1, 1, 1, 1, 1, 4, 10, 232, 1, 3, 4, 3, 19, 3, 1, 1, 1, 1, 5, 4, 1, 1, 0, 1, 1, 1, 1, 22, 8, 1, 5, 1, 3, 1, 4, 1, 2, 12, 1, 1, 1, 10, 4, 183, 2, 1, 3, 1, 1, 15, 1, 1, 4, 1, 1, 600, 1, 2, 1, 1, 1, 1, 1, 1, 2, 2, 1, 2, 1, 5, 1, 382, 1, 0, 2, 1, 14, 2, 1, 1, 3, 1, 7, 1, 27, 2, 3, 1, 1, 46, 39, 4, 4, 1, 0, 1, 1, 1, 1, 50, 0, 2, 2, 1, 1, 1, 7, 1, 1, 1, 1, 5, 1, 1, 1, 1, 2, 82, 1, 1, 1, 1, 225, 5, 1, 1, 1, 1, 1, 1, 10, 1, 12, 1, 1, 2, 1, 1, 1, 30, 5, 1, 1, 3, 3, 30, 3, 3, 2, 1, 4, 1, 1, 2, 1, 2, 3, 1, 1, 4, 24, 1, 1, 4, 43, 6, 2, 1, 1, 1, 1, 25, 1, 1, 6, 3, 4, 4, 1, 1, 9, 1, 42, 1, 2, 1, 3, 2, 1, 1, 1, 2, 5, 1, 1, 1, 2, 1, 24, 1, 1, 1, 1, 1, 1, 2, 4, 1, 5, 1, 1, 8, 6, 1, 3, 2, 92, 3, 1, 1, 1, 19, 3, 2, 1, 2, 1, 2, 1, 5, 1, 9, 15, 1, 11, 1, 1, 1, 114, 1, 1, 22, 1, 1, 1, 2, 1, 1, 1, 1, 30, 1, 2, 15, 1, 1, 3, 1, 2, 3, 2, 1, 6, 1, 4, 2, 1, 1, 1, 1, 6, 1, 4, 1, 1, 2, 2, 1, 1, 1, 1, 3, 2, 3, 1, 9, 1, 1, 6, 2, 2, 4, 1, 5, 0, 1, 1, 65, 11, 13, 1, 2, 2, 2, 3, 867, 1, 10, 3, 1, 1, 1, 1, 44, 1, 6, 1, 0, 1, 1, 3, 5, 1, 1, 1, 43, 77, 17, 1, 1, 9, 1, 1, 1, 1, 8, 31, 3, 3, 1, 3, 2, 18, 9, 1, 2, 0, 3, 1, 8, 2, 1, 1, 13, 1, 1, 1, 2, 1, 1, 3, 1, 3, 2, 1, 9, 1, 4, 6, 3, 1, 14, 1, 1, 3, 3, 1, 233, 2, 1, 5, 2, 2, 1, 1, 1, 1, 3, 1, 1, 8, 2, 1, 1, 8, 1, 1, 4, 1, 8, 1, 1, 10, 1, 24, 12, 3, 7, 1, 5, 23, 78, 2, 1, 3, 6, 1, 1, 19, 2, 1, 2, 5, 1, 17, 1, 1, 1, 1, 4, 1, 2, 1, 1, 1, 4, 2, 2, 1, 12, 1, 3, 1, 1, 1, 15, 1, 23, 1, 1, 2, 1, 1, 2, 2, 2, 4, 1, 2, 28, 2, 1, 1, 19, 1, 24, 11, 27, 1, 20, 1, 18, 14, 2, 7, 6, 3, 52, 1, 2, 1, 2, 6, 6, 9, 1, 1, 1, 3, 1, 2, 1, 6, 1, 2, 1, 3, 1, 2, 10, 1, 16, 0, 57, 1, 1, 5, 1, 1, 3, 2, 1, 4, 15, 1, 1, 1, 22, 70, 55, 8, 6, 70, 36, 1, 7, 20, 3202, 0, 3, 4, 34, 1, 1, 3, 4, 1, 2, 1, 1, 3, 10, 9, 1, 36, 17, 1, 1, 1, 1, 1, 4, 10, 283, 1, 3, 4, 3, 28, 1, 1, 4, 1, 1, 1, 1, 5, 1, 5, 1, 1, 0, 1, 1, 1, 1, 23, 1, 10, 1, 6, 2, 3, 1, 1, 4, 1, 2, 12, 1, 1, 1, 10, 4, 215, 2, 1, 1, 3, 1, 1, 2, 15, 1, 1, 4, 1, 1, 681, 1, 4, 2, 1, 1, 1, 1, 1, 1, 2, 2, 1, 2, 1, 5, 1, 418, 1, 0, 4, 1, 14, 2, 1, 1, 3, 1, 8, 1, 28, 2, 4, 1, 1, 50, 43, 6, 1, 1, 0, 1, 1, 1, 1, 65, 0, 2, 2, 1, 1, 1, 7, 1, 1, 1, 1, 5, 1, 1, 1, 2, 3, 86, 2, 1, 1, 1, 1, 237, 5, 1, 1, 1, 1, 1, 1, 1, 11, 1, 14, 1, 1, 2, 1, 1, 1, 30, 5, 2, 1, 3, 3, 2, 32, 1, 3, 3, 2, 1, 4, 1, 1, 2, 1, 2, 3, 1, 1, 4, 26, 1, 3, 1, 5, 43, 6, 3, 1, 1, 1, 1, 1, 1, 38, 1, 1, 1, 6, 3, 4, 4, 1, 1, 10, 3, 45, 1, 2, 1, 3, 2, 2, 1, 1, 2, 5, 1, 1, 1, 2, 1, 26, 1, 1, 1, 1, 1, 1, 4, 6, 2, 7, 1, 1, 11, 8, 1, 3, 2, 119, 3, 1, 1, 1, 21, 3, 2, 2, 2, 2, 2, 2, 8, 1, 11, 29, 2, 1, 11, 4, 1, 1, 153, 1, 2, 24, 1, 1, 2, 1, 2, 1, 1, 1, 2, 1, 37, 1, 2, 19, 1, 2, 3, 1, 2, 4, 3, 3, 1, 6, 1, 1, 5, 2, 0, 1, 1, 1, 2, 7, 1, 4, 1, 1, 2, 2, 1, 2, 1, 1, 3, 2, 7, 1, 13, 2, 1, 13, 2, 6, 5, 2, 7, 1, 1, 1, 79, 1, 19, 2, 13, 1, 2, 2, 2, 3, 982, 1, 10, 4, 1, 4, 1, 2, 45, 1, 6, 1, 0, 1, 1, 3, 5, 1, 1, 1, 43, 77, 17, 1, 1, 9, 1, 1, 1, 1, 9, 36, 3, 3, 1, 3, 2, 18, 9, 1, 2, 0, 3, 1, 8, 2, 1, 1, 13, 1, 1, 1, 2, 1, 1, 3, 1, 3, 2, 1, 9, 1, 4, 6, 3, 1, 14, 1, 1, 3, 3, 1, 241, 2, 1, 5, 2, 2, 1, 1, 1, 1, 3, 1, 1, 8, 2, 1, 1, 8, 1, 1, 4, 1, 8, 2, 1, 12, 1, 1, 26, 15, 6, 7, 1, 5, 27, 91, 2, 1, 4, 6, 1, 1, 20, 3, 1, 1, 2, 6, 1, 20, 3, 2, 1, 1, 4, 3, 2, 1, 1, 1, 1, 4, 2, 3, 2, 2, 15, 1, 3, 1, 1, 1, 18, 2, 27, 1, 1, 1, 2, 1, 1, 3, 2, 4, 5, 1, 3, 29, 2, 7, 1, 1, 19, 1, 26, 11, 1, 28, 2, 23, 1, 19, 15, 2, 8, 7, 2, 3, 62, 1, 2, 1, 2, 9, 7, 1, 10, 1, 1, 1, 3, 1, 2, 1, 1, 6, 1, 2, 1, 4, 1, 2, 15, 1, 17, 1, 1, 62, 1, 2, 1, 6, 1, 0, 3, 4, 1, 4, 24, 2, 1, 2, 1, 24, 76, 66, 8, 8, 77, 38, 1, 9, 24, 1, 3496, 0, 3, 5, 39, 1, 1, 3, 4, 1, 2, 1, 1, 4, 1, 11, 9, 1, 38, 20, 2, 1, 1, 1, 1, 2, 5, 16, 379, 1, 3, 5, 3, 29, 1, 2, 1, 5, 1, 1, 1, 1, 5, 1, 7, 1, 1, 0, 1, 1, 1, 1, 30, 1, 2, 12, 6, 7, 2, 3, 1, 1, 1, 4, 1, 3, 17, 1, 1, 1, 1, 1, 1, 10, 4, 244, 4, 1, 1, 1, 3, 2, 1, 4, 19, 0, 1, 1, 0, 9, 1, 1, 869, 1, 6, 2, 2, 1, 1, 1, 1, 1, 2, 3, 1, 14, 1, 1, 2, 1, 1, 1, 4, 1, 1, 7, 1, 428, 1, 0, 4, 1, 16, 2, 2, 1, 3, 1, 8, 1, 31, 2, 4, 1, 1, 53, 62, 8, 1, 1, 0, 1, 1, 1, 1, 73, 0, 2, 3, 1, 1, 1, 8, 1, 1, 1, 1, 5, 1, 1, 1, 2, 5, 121, 2, 1, 2, 1, 1, 262, 5, 1, 1, 1, 1, 1, 1, 1, 13, 1, 15, 1, 1, 2, 1, 1, 1, 1, 37, 5, 2, 1, 3, 4, 2, 37, 1, 1, 3, 3, 4, 2, 1, 4, 1, 1, 2, 1, 1, 3, 3, 3, 1, 11, 34, 1, 3, 1, 5, 43, 1, 6, 3, 1, 1, 1, 3, 1, 1, 38, 1, 1, 1, 6, 3, 4, 4, 1, 1, 10, 3, 49, 1, 2, 1, 3, 2, 2, 1, 1, 2, 5, 1, 1, 1, 3, 1, 26, 1, 1, 1, 1, 1, 1, 5, 6, 2, 7, 1, 1, 12, 9, 1, 5, 2, 139, 3, 1, 1, 1, 21, 3, 7, 2, 2, 3, 1, 2, 1, 9, 1, 13, 35, 2, 1, 11, 4, 1, 1, 172, 1, 2, 24, 1, 1, 2, 1, 2, 1, 1, 1, 2, 1, 38, 1, 2, 21, 1, 2, 4, 1, 2, 5, 3, 3, 1, 7, 1, 1, 5, 2, 0, 1, 1, 1, 1, 2, 1, 7, 1, 6, 1, 1, 2, 2, 1, 3, 1, 1, 3, 2, 15, 2, 20, 2, 1, 14, 2, 1, 6, 5, 2, 8, 5, 1, 4, 87, 2, 29, 2, 13, 1, 2, 2, 2, 3, 1068, 1, 13, 1, 10, 2, 1, 7, 1, 1, 2, 45, 1, 1, 8, 1, 0, 1, 1, 3, 5, 1, 2, 1, 59, 113, 27, 1, 1, 10, 1, 1, 1, 1, 1, 1, 1, 10, 1, 1, 36, 3, 3, 1, 4, 2, 1, 24, 9, 2, 2, 0, 3, 1, 10, 2, 1, 1, 15, 1, 1, 1, 2, 1, 1, 3, 1, 1, 3, 3, 1, 9, 1, 4, 8, 4, 1, 19, 1, 1, 9, 3, 1, 254, 2, 1, 1, 6, 1, 2, 3, 1, 1, 1, 1, 3, 1, 1, 1, 8, 2, 1, 1, 9, 1, 1, 6, 1, 8, 3, 1, 12, 1, 1, 26, 16, 6, 7, 1, 6, 27, 94, 3, 2, 4, 6, 1, 1, 20, 3, 1, 1, 2, 6, 1, 25, 4, 3, 1, 1, 4, 3, 2, 2, 1, 1, 1, 4, 2, 4, 3, 1, 2, 17, 1, 3, 1, 2, 1, 19, 2, 27, 1, 1, 1, 2, 0, 1, 3, 2, 4, 6, 1, 4, 30, 3, 7, 1, 1, 20, 1, 26, 14, 1, 29, 2, 24, 1, 20, 15, 2, 8, 8, 2, 3, 62, 1, 2, 1, 2, 9, 1, 8, 1, 10, 1, 1, 1, 3, 1, 2, 1, 1, 6, 1, 2, 1, 5, 1, 2, 16, 1, 17, 1, 1, 69, 1, 2, 1, 6, 1, 0, 3, 4, 1, 4, 25, 2, 1, 2, 1, 24, 72, 72, 9, 9, 81, 38, 1, 10, 30, 1, 3612, 0, 3, 5, 41, 1, 1, 1, 3, 4, 1, 2, 1, 1, 4, 1, 12, 9, 1, 1, 39, 22, 2, 1, 1, 1, 1, 1, 3, 8, 1, 28, 473, 1, 4, 7, 1, 3, 35, 1, 3, 1, 5, 2, 2, 3, 1, 1, 5, 1, 9, 1, 1, 1, 1, 1, 1, 1, 2, 31, 1, 2, 1, 14, 6, 8, 2, 3, 1, 1, 1, 4, 1, 3, 19, 1, 1, 0, 1, 1, 1, 10, 4, 263, 4, 1, 1, 1, 1, 3, 2, 1, 4, 1, 20, 1, 1, 1, 0, 1, 13, 1, 1, 2, 1, 929, 1, 1, 6, 3, 2, 1, 1, 1, 1, 1, 3, 3, 1, 1, 14, 2, 1, 2, 2, 1, 1, 4, 1, 1, 1, 1, 11, 1, 442, 1, 0, 4, 1, 17, 2, 2, 1, 3, 1, 1, 8, 1, 33, 2, 4, 1, 1, 62, 64, 8, 1, 1, 0, 1, 1, 1, 1, 73, 0, 2, 3, 6, 1, 1, 8, 1, 1, 1, 1, 6, 1, 1, 1, 3, 4, 8, 152, 2, 1, 2, 1, 1, 264, 6, 1, 1, 1, 1, 1, 1, 1, 1, 1, 13, 1, 1, 15, 1, 1, 1, 1, 2, 1, 1, 1, 2, 1, 39, 5, 3, 1, 1, 3, 1, 1, 4, 2, 37, 1, 1, 1, 4, 5, 5, 2, 1, 4, 1, 1, 2, 1, 1, 1, 3, 3, 3, 1, 11, 35, 1, 1, 4, 1, 5, 44, 1, 6, 3, 1, 1, 1, 3, 1, 1, 1, 1, 43, 2, 1, 1, 1, 6, 4, 2, 4, 1, 5, 1, 2, 14, 3, 75, 1, 1, 2, 1, 3, 2, 2, 1, 1, 2, 10, 1, 1, 1, 3, 1, 27, 1, 1, 1, 1, 1, 1, 5, 1, 7, 3, 7, 1, 1, 15, 1, 11, 1, 2, 5, 2, 146, 7, 1, 1, 1, 1, 22, 3, 7, 2, 2, 3, 1, 1, 2, 1, 9, 1, 13, 36, 2, 1, 11, 4, 1, 1, 175, 1, 2, 25, 1, 1, 2, 1, 2, 1, 1, 1, 2, 1, 47, 1, 2, 23, 2, 2, 4, 1, 2, 5, 3, 3, 1, 7, 1, 1, 5, 1, 2, 0, 1, 1, 1, 1, 2, 1, 7, 1, 6, 1, 1, 2, 2, 1, 3, 1, 1, 3, 2, 14, 2, 21, 2, 1, 14, 3, 2, 6, 5, 2, 8, 6, 1, 4, 92, 4, 29, 2, 16, 1, 4, 3, 2, 3, 1110, 1, 13, 1, 10, 2, 1, 7, 0, 1, 2, 55, 1, 1, 8, 1, 0, 1, 1, 3, 5, 1, 2, 1, 59, 113, 27, 1, 1, 10, 1, 1, 1, 1, 1, 1, 1, 14, 1, 1, 36, 3, 3, 1, 4, 2, 1, 26, 9, 2, 4, 0, 4, 1, 11, 2, 1, 1, 21, 1, 1, 1, 2, 1, 1, 3, 1, 1, 3, 4, 1, 10, 1, 4, 8, 7, 2, 1, 20, 2, 1, 11, 5, 1, 253, 2, 1, 1, 7, 1, 2, 3, 1, 1, 1, 1, 3, 2, 1, 1, 8, 1, 2, 4, 1, 1, 9, 1, 2, 7, 1, 8, 4, 1, 12, 1, 1, 52, 1, 16, 1, 7, 1, 6, 27, 99, 5, 2, 4, 6, 2, 1, 21, 3, 1, 1, 2, 6, 1, 25, 4, 3, 1, 1, 4, 3, 2, 2, 1, 1, 1, 4, 2, 1, 5, 3, 1, 2, 17, 1, 3, 1, 2, 1, 1, 19, 2, 1, 1, 27, 1, 1, 1, 2, 0, 1, 3, 4, 8, 6, 1, 7, 31, 6, 1, 1, 7, 1, 1, 22, 1, 28, 1, 16, 1, 31, 2, 25, 1, 20, 1, 16, 2, 8, 8, 2, 3, 63, 1, 1, 2, 1, 2, 9, 1, 11, 1, 12, 1, 1, 1, 3, 1, 2, 1, 1, 7, 1, 2, 1, 6, 1, 2, 18, 1, 1, 19, 1, 2, 71, 1, 2, 1, 8, 1, 0, 4, 4, 2, 1, 4, 28, 2, 1, 2, 2, 2, 25, 74, 75, 10, 9, 89, 39, 1, 1, 13, 48, 1, 3754, 1, 3, 6, 45, 1, 2, 1, 3, 4, 1, 2, 3, 1, 5, 1, 13, 9, 1, 1, 39, 24, 2, 1, 1, 1, 1, 2, 3, 9, 0, 42, 560, 1, 4, 7, 1, 2, 3, 47, 1, 3, 1, 5, 2, 1, 3, 1, 1, 7, 1, 10, 1, 1, 1, 1, 1, 1, 1, 1, 37, 1, 3, 1, 18, 6, 12, 3, 3, 1, 2, 1, 4, 1, 3, 19, 1, 1, 0, 1, 1, 1, 10, 4, 269, 4, 1, 1, 1, 1, 3, 3, 1, 4, 1, 24, 2, 1, 1, 2, 1, 1, 14, 1, 1, 2, 1, 1053, 1, 1, 6, 3, 2, 1, 1, 1, 1, 1, 3, 3, 1, 1, 17, 2, 1, 2, 2, 1, 1, 4, 1, 1, 1, 1, 11, 1, 466, 1, 0, 5, 1, 1, 17, 2, 3, 1, 3, 1, 1, 8, 1, 1, 41, 2, 4, 1, 1, 67, 65, 11, 1, 1, 0, 1, 1, 2, 5, 76, 0, 2, 3, 6, 1, 1, 1, 8, 1, 1, 2, 1, 6, 1, 1, 1, 1, 4, 6, 1, 1, 10, 203, 2, 1, 2, 2, 1, 275, 6, 2, 1, 1, 1, 1, 1, 1, 1, 1, 1, 13, 2, 1, 15, 1, 1, 0, 1, 3, 1, 2, 1, 1, 2, 1, 42, 11, 3, 1, 1, 3, 1, 1, 4, 2, 37, 1, 1, 1, 4, 5, 1, 8, 2, 2, 5, 1, 1, 2, 1, 1, 1, 3, 3, 4, 1, 11, 35, 1, 1, 4, 1, 6, 48, 2, 1, 6, 9, 1, 1, 1, 1, 3, 1, 1, 1, 1, 1, 43, 2, 1, 1, 1, 1, 6, 4, 2, 4, 1, 5, 2, 2, 16, 3, 100, 1, 1, 2, 1, 3, 2, 3, 1, 1, 3, 10, 1, 1, 1, 1, 3, 1, 30, 1, 1, 2, 1, 1, 1, 1, 1, 6, 1, 10, 3, 1, 14, 2, 1, 1, 24, 1, 1, 2, 18, 2, 4, 8, 3, 221, 1, 14, 1, 3, 1, 1, 2, 3, 24, 3, 7, 3, 2, 3, 1, 1, 3, 1, 9, 1, 15, 41, 2, 1, 13, 5, 1, 1, 194, 1, 2, 26, 1, 1, 2, 1, 2, 1, 1, 1, 2, 1, 54, 1, 2, 23, 2, 2, 4, 1, 2, 5, 3, 3, 1, 8, 1, 1, 5, 1, 2, 0, 1, 1, 1, 1, 2, 2, 1, 9, 1, 6, 1, 1, 2, 2, 1, 1, 4, 1, 1, 8, 3, 19, 1, 1, 3, 3, 33, 3, 3, 15, 3, 2, 1, 6, 7, 2, 9, 7, 1, 9, 94, 7, 38, 3, 20, 1, 1, 2, 5, 4, 3, 3, 1251, 1, 2, 22, 1, 12, 3, 1, 7, 0, 1, 2, 58, 1, 1, 8, 1, 0, 1, 1, 3, 5, 1, 2, 1, 63, 116, 28, 1, 1, 11, 1, 1, 1, 1, 1, 1, 1, 19, 1, 1, 1, 42, 3, 3, 1, 4, 2, 1, 27, 11, 2, 4, 0, 4, 1, 12, 2, 1, 1, 31, 1, 1, 1, 2, 1, 1, 1, 3, 1, 1, 3, 5, 2, 11, 1, 2, 4, 11, 7, 2, 1, 23, 2, 2, 1, 14, 5, 1, 272, 2, 1, 1, 7, 1, 2, 3, 1, 1, 1, 2, 3, 2, 1, 1, 9, 1, 2, 4, 1, 1, 9, 1, 1, 2, 8, 1, 1, 9, 4, 1, 16, 1, 1, 52, 1, 16, 10, 8, 1, 6, 29, 114, 5, 2, 5, 6, 2, 1, 23, 3, 1, 1, 2, 6, 1, 26, 4, 3, 1, 1, 4, 3, 2, 2, 1, 1, 1, 4, 2, 1, 1, 1, 4, 3, 1, 2, 19, 1, 3, 1, 2, 1, 1, 19, 2, 1, 1, 30, 1, 1, 1, 2, 1, 0, 1, 3, 5, 2, 8, 6, 2, 9, 1, 34, 7, 1, 2, 2, 8, 16, 1, 1, 21, 3, 50, 2, 19, 1, 1, 35, 2, 35, 1, 22, 1, 19, 1, 9, 9, 2, 6, 74, 2, 1, 5, 3, 1, 2, 12, 1, 12, 1, 15, 1, 1, 1, 1, 4, 1, 3, 1, 2, 7, 2, 2, 1, 7, 2, 2, 28, 2, 1, 27, 1, 1, 2, 84, 1, 2, 1, 2, 1, 10, 1, 0, 6, 11, 2, 1, 9, 29, 3, 1, 1, 2, 2, 2, 2, 27, 98, 87, 11, 2, 13, 129, 50, 1, 1, 28, 61, 1, 4258, 1, 1, 3, 10, 50, 2, 4, 1, 4, 5, 1, 2, 3, 1, 5, 1, 13, 9, 1, 2, 1, 45, 27, 2, 1, 1, 1, 1, 2, 9, 11, 0, 44, 712, 1, 1, 6, 2, 7, 0, 3, 1, 3, 95, 1, 11, 1, 5, 1, 1, 2, 1, 3, 1, 2, 7, 1, 9, 1, 1, 1, 1, 2, 2, 1, 1, 1, 1, 38, 1, 1, 3, 1, 22, 6, 16, 1, 3, 3, 1, 3, 1, 1, 4, 1, 3, 19, 1, 1, 0, 1, 1, 1, 10, 4, 292, 4, 1, 2, 1, 1, 1, 3, 4, 1, 12, 1, 28, 2, 1, 1, 2, 1, 1, 16, 1, 1, 3, 1, 1238, 1, 1, 6, 1, 3, 5, 1, 2, 4, 1, 1, 1, 3, 3, 1, 1, 18, 2, 1, 1, 2, 2, 1, 1, 6, 1, 2, 1, 1, 14, 1, 472, 1, 0, 5, 1, 3, 20, 2, 3, 1, 3, 1, 1, 8, 1, 1, 53, 2, 4, 1, 1, 2, 82, 77, 12, 1, 1, 1, 0, 1, 1, 2, 1, 7, 1, 85, 1, 0, 3, 4, 6, 1, 1, 1, 1, 1, 9, 1, 1, 2, 2, 6, 1, 1, 1, 1, 1, 1, 4, 9, 1, 1, 1, 21, 228, 2, 1, 1, 1, 2, 2, 1, 299, 6, 3, 1, 1, 1, 1, 1, 1, 1, 1, 2, 1, 14, 2, 1, 16, 1, 2, 0, 1, 2, 1, 1, 3, 1, 1, 2, 1, 46, 11, 3, 1, 1, 3, 1, 1, 4, 2, 37, 1, 1, 2, 5, 6, 1, 9, 2, 2, 5, 1, 1, 2, 1, 1, 1, 3, 1, 3, 5, 1, 13, 39, 1, 1, 5, 2, 1, 6, 48, 2, 1, 6, 9, 1, 1, 1, 1, 8, 1, 1, 1, 1, 0, 50, 2, 1, 1, 1, 1, 1, 7, 6, 2, 5, 1, 6, 2, 2, 16, 3, 111, 1, 1, 2, 1, 3, 2, 3, 1, 1, 3, 10, 1, 1, 1, 1, 2, 3, 1, 40, 1, 1, 4, 1, 1, 1, 1, 1, 1, 8, 1, 13, 3, 1, 14, 2, 1, 1, 26, 1, 1, 2, 21, 2, 1, 4, 9, 3, 254, 3, 15, 1, 3, 1, 1, 2, 3, 31, 3, 8, 4, 2, 3, 1, 2, 4, 1, 10, 1, 15, 42, 2, 1, 13, 5, 1, 1, 205, 1, 4, 26, 1, 1, 2, 1, 2, 1, 1, 1, 1, 2, 1, 59, 2, 2, 25, 2, 2, 4, 1, 2, 6, 3, 3, 1, 9, 1, 2, 5, 1, 2, 1, 1, 2, 2, 1, 2, 2, 1, 9, 1, 1, 6, 1, 1, 1, 2, 2, 1, 1, 4, 1, 1, 8, 3, 23, 1, 3, 4, 3, 38, 3, 3, 15, 3, 2, 1, 6, 7, 2, 10, 9, 1, 10, 106, 7, 50, 3, 22, 1, 1, 2, 5, 4, 3, 1, 3, 1449, 1, 2, 26, 1, 17, 3, 1, 7, 0, 1, 2, 58, 2, 1, 8, 1, 0, 1, 1, 3, 5, 1, 2, 1, 63, 116, 30, 1, 1, 11, 1, 1, 1, 1, 1, 1, 1, 1, 21, 1, 1, 1, 45, 3, 3, 1, 4, 2, 1, 1, 27, 11, 2, 4, 0, 4, 1, 12, 2, 1, 1, 32, 1, 1, 1, 2, 1, 1, 1, 3, 1, 1, 3, 5, 2, 1, 11, 1, 3, 4, 11, 7, 2, 1, 23, 2, 2, 1, 15, 5, 1, 279, 2, 1, 1, 7, 1, 8, 4, 1, 1, 1, 3, 3, 2, 1, 1, 14, 1, 2, 4, 1, 1, 9, 1, 1, 2, 1, 8, 1, 1, 9, 4, 1, 24, 1, 2, 55, 1, 17, 10, 12, 1, 6, 30, 123, 1, 5, 3, 5, 1, 6, 2, 1, 26, 3, 1, 1, 2, 6, 1, 30, 5, 3, 1, 1, 4, 4, 2, 2, 2, 1, 1, 4, 2, 1, 1, 1, 4, 3, 1, 1, 2, 20, 1, 3, 1, 1, 2, 1, 1, 19, 2, 1, 1, 32, 1, 1, 1, 1, 2, 1, 0, 1, 3, 5, 2, 12, 8, 2, 9, 1, 1, 4, 41, 1, 8, 2, 2, 2, 9, 16, 2, 1, 31, 3, 72, 2, 20, 1, 2, 1, 46, 2, 46, 1, 27, 2, 26, 2, 9, 16, 3, 2, 6, 119, 2, 1, 6, 3, 1, 2, 20, 1, 13, 1, 20, 1, 1, 1, 1, 4, 1, 1, 1, 3, 1, 1, 2, 11, 2, 2, 2, 1, 7, 2, 2, 32, 3, 1, 2, 30, 1, 1, 2, 2, 99, 2, 2, 1, 3, 1, 1, 12, 1, 0, 7, 12, 1, 2, 1, 12, 36, 3, 4, 2, 2, 2, 1, 1, 29, 113, 109, 1, 13, 2, 16, 147, 57, 1, 1, 36, 77, 1, 4947, 1, 2, 3, 11, 59, 1, 2, 5, 1, 4, 5, 2, 2, 3, 1, 6, 1, 1, 15, 9, 1, 3, 1, 48, 27, 2, 1, 1, 1, 1, 2, 11, 11, 0, 48, 800, 1, 1, 6, 2, 7, 0, 4, 1, 3, 97, 1, 12, 1, 5, 1, 1, 2, 1, 3, 1, 2, 7, 1, 9, 1, 1, 1, 2, 2, 2, 1, 1, 1, 1, 44, 1, 1, 3, 1, 25, 12, 18, 1, 3, 4, 1, 1, 3, 1, 1, 4, 1, 1, 3, 19, 1, 1, 0, 1, 1, 1, 10, 4, 314, 4, 1, 1, 2, 1, 1, 1, 3, 4, 8, 1, 13, 1, 28, 2, 1, 1, 2, 1, 1, 18, 1, 1, 3, 1, 1283, 1, 1, 7, 1, 3, 5, 1, 2, 4, 1, 1, 1, 3, 3, 1, 1, 20, 2, 1, 1, 2, 2, 1, 1, 6, 1, 2, 1, 1, 14, 1, 1, 486, 1, 0, 5, 1, 3, 22, 2, 5, 1, 3, 2, 1, 9, 1, 1, 64, 2, 5, 1, 1, 2, 87, 81, 1, 12, 1, 1, 1, 0, 1, 1, 2, 1, 8, 1, 102, 1, 0, 3, 4, 6, 1, 1, 1, 1, 1, 10, 1, 1, 2, 2, 6, 1, 1, 1, 1, 1, 0, 4, 10, 2, 1, 1, 22, 247, 2, 1, 1, 1, 2, 2, 1, 310, 6, 2, 1, 1, 1, 5, 1, 1, 1, 1, 1, 2, 1, 14, 2, 1, 19, 1, 2, 1, 1, 2, 1, 1, 4, 1, 1, 1, 2, 1, 1, 51, 11, 3, 1, 1, 3, 1, 1, 4, 1, 2, 38, 1, 1, 2, 1, 5, 6, 1, 9, 3, 2, 5, 1, 1, 1, 2, 1, 1, 1, 3, 1, 3, 5, 1, 16, 40, 1, 1, 6, 2, 1, 6, 48, 4, 1, 7, 10, 1, 1, 1, 1, 8, 1, 1, 1, 1, 0, 58, 2, 1, 1, 1, 1, 1, 11, 11, 2, 5, 1, 6, 2, 2, 16, 4, 114, 1, 1, 2, 1, 3, 2, 3, 1, 1, 3, 10, 1, 1, 1, 1, 4, 3, 1, 59, 1, 3, 5, 1, 1, 1, 2, 3, 1, 1, 12, 1, 20, 1, 2, 5, 2, 14, 1, 1, 3, 1, 1, 35, 1, 1, 1, 1, 2, 32, 3, 1, 4, 23, 4, 1, 340, 3, 20, 1, 3, 1, 1, 3, 3, 32, 4, 8, 4, 3, 5, 1, 2, 4, 1, 1, 11, 1, 16, 53, 2, 1, 13, 7, 1, 1, 237, 1, 6, 27, 1, 1, 3, 1, 2, 1, 1, 1, 1, 3, 1, 61, 2, 1, 2, 27, 2, 2, 4, 1, 2, 5, 4, 3, 1, 12, 1, 3, 5, 1, 2, 1, 1, 2, 2, 1, 2, 2, 1, 11, 3, 1, 6, 1, 1, 1, 2, 2, 1, 1, 4, 3, 1, 8, 3, 28, 2, 4, 4, 1, 3, 48, 3, 3, 20, 6, 2, 3, 6, 9, 2, 12, 19, 1, 12, 117, 13, 57, 1, 3, 2, 22, 1, 1, 2, 7, 5, 3, 1, 3, 1633, 1, 3, 1, 31, 1, 23, 3, 1, 7, 0, 1, 2, 63, 2, 1, 8, 1, 0, 1, 1, 3, 5, 1, 2, 1, 63, 116, 30, 1, 1, 11, 1, 1, 1, 1, 1, 1, 1, 1, 23, 1, 1, 1, 56, 3, 3, 1, 4, 2, 1, 3, 27, 11, 1, 2, 6, 0, 4, 1, 13, 2, 1, 1, 34, 1, 1, 1, 1, 2, 1, 1, 2, 3, 2, 1, 3, 5, 2, 1, 14, 1, 3, 4, 13, 9, 2, 1, 1, 24, 2, 2, 1, 17, 5, 1, 303, 2, 1, 1, 7, 1, 8, 4, 1, 2, 1, 3, 5, 2, 1, 1, 16, 1, 2, 4, 1, 4, 9, 1, 1, 3, 1, 8, 1, 1, 10, 4, 1, 2, 48, 2, 1, 1, 2, 59, 3, 25, 15, 22, 1, 1, 6, 1, 37, 166, 1, 1, 5, 3, 7, 1, 1, 9, 2, 1, 34, 7, 1, 7, 3, 9, 1, 49, 8, 4, 1, 1, 2, 5, 1, 7, 2, 1, 2, 1, 1, 5, 2, 1, 1, 1, 2, 1, 1, 5, 6, 1, 1, 2, 25, 1, 6, 1, 1, 3, 1, 1, 22, 3, 1, 1, 1, 32, 1, 1, 1, 2, 2, 1, 0, 1, 3, 5, 2, 13, 1, 9, 3, 11, 3, 1, 1, 4, 42, 1, 10, 2, 2, 3, 15, 16, 2, 1, 31, 3, 83, 2, 25, 1, 3, 1, 46, 2, 55, 1, 1, 27, 2, 28, 2, 9, 17, 3, 2, 1, 6, 154, 2, 1, 9, 1, 3, 1, 2, 22, 1, 1, 15, 1, 24, 1, 1, 1, 2, 1, 5, 1, 1, 1, 1, 3, 1, 1, 2, 11, 2, 2, 2, 1, 7, 2, 2, 38, 4, 2, 4, 37, 1, 1, 2, 2, 107, 1, 4, 1, 3, 1, 1, 12, 1, 0, 7, 13, 3, 3, 1, 15, 36, 3, 4, 3, 2, 2, 1, 1, 31, 130, 130, 2, 17, 2, 24, 164, 59, 2, 1, 41, 81, 1, 3, 5477, 1, 3, 4, 13, 67, 1, 2, 5, 1, 4, 5, 7, 2, 3, 1, 6, 1, 1, 15, 9, 1, 4, 1, 55, 34, 2, 1, 1, 2, 1, 2, 11, 11, 0, 62, 863, 1, 1, 1, 6, 2, 7, 0, 5, 2, 1, 3, 146, 1, 19, 1, 5, 1, 1, 2, 1, 3, 1, 2, 8, 1, 1, 10, 1, 1, 1, 1, 2, 2, 2, 1, 1, 1, 1, 46, 1, 1, 3, 1, 29, 12, 19, 1, 3, 4, 1, 1, 3, 1, 1, 4, 1, 1, 1, 3, 19, 1, 1, 0, 1, 1, 1, 10, 4, 1, 343, 5, 1, 1, 3, 3, 1, 1, 3, 4, 9, 1, 14, 1, 28, 2, 1, 1, 2, 1, 1, 23, 1, 1, 1, 3, 1, 1366, 1, 1, 7, 1, 3, 5, 2, 1, 2, 3, 1, 1, 1, 3, 3, 1, 2, 20, 2, 1, 2, 2, 2, 1, 1, 6, 2, 2, 1, 2, 1, 2, 1, 14, 1, 1, 2, 1, 518, 1, 0, 5, 1, 3, 27, 2, 5, 1, 3, 2, 1, 9, 1, 2, 76, 2, 1, 5, 1, 1, 4, 100, 96, 1, 12, 2, 1, 1, 0, 1, 1, 2, 1, 8, 1, 109, 1, 0, 5, 4, 6, 1, 1, 1, 1, 1, 1, 11, 1, 1, 2, 2, 6, 1, 2, 1, 1, 1, 1, 1, 1, 0, 5, 14, 2, 1, 1, 23, 288, 2, 1, 1, 1, 1, 2, 2, 1, 330, 6, 2, 1, 1, 1, 5, 1, 1, 1, 1, 1, 2, 1, 16, 2, 1, 19, 1, 2, 0, 1, 3, 1, 1, 5, 1, 1, 1, 1, 1, 2, 1, 1, 53, 11, 3, 1, 1, 3, 1, 1, 4, 1, 2, 41, 1, 1, 2, 1, 6, 6, 1, 1, 9, 3, 2, 7, 1, 1, 1, 2, 1, 4, 1, 3, 1, 3, 1, 6, 2, 16, 45, 1, 1, 6, 2, 1, 6, 49, 5, 1, 7, 10, 1, 1, 1, 6, 9, 1, 2, 1, 1, 0, 60, 2, 1, 1, 1, 1, 1, 12, 11, 2, 5, 1, 6, 2, 2, 21, 5, 147, 1, 1, 3, 1, 3, 2, 3, 1, 1, 8, 13, 1, 1, 1, 0, 4, 3, 1, 64, 1, 4, 6, 1, 1, 1, 2, 3, 1, 1, 1, 13, 1, 24, 1, 2, 6, 2, 14, 1, 1, 3, 2, 1, 1, 51, 1, 2, 1, 1, 2, 44, 3, 1, 6, 34, 4, 1, 413, 4, 1, 1, 21, 1, 3, 1, 1, 3, 3, 33, 4, 8, 7, 4, 5, 5, 2, 4, 1, 1, 13, 1, 18, 57, 2, 1, 13, 7, 1, 1, 251, 1, 5, 27, 1, 2, 3, 1, 2, 1, 1, 1, 1, 2, 1, 61, 2, 1, 2, 27, 2, 1, 2, 4, 1, 1, 2, 5, 4, 3, 1, 12, 1, 3, 5, 1, 2, 1, 1, 2, 2, 1, 5, 2, 1, 11, 3, 1, 6, 1, 1, 1, 2, 2, 1, 1, 4, 3, 1, 11, 3, 28, 2, 3, 4, 1, 4, 1, 3, 62, 3, 3, 20, 4, 2, 1, 3, 6, 11, 3, 15, 23, 2, 13, 117, 13, 68, 1, 1, 3, 2, 26, 1, 2, 2, 8, 6, 4, 1, 5, 1808, 1, 4, 1, 1, 35, 1, 25, 4, 2, 8, 0, 1, 2, 71, 2, 1, 8, 1, 0, 1, 1, 3, 5, 1, 2, 1, 63, 117, 32, 1, 1, 11, 1, 1, 1, 1, 1, 2, 1, 1, 1, 23, 3, 1, 1, 68, 3, 3, 1, 4, 2, 1, 3, 27, 11, 1, 2, 6, 0, 4, 1, 13, 4, 1, 1, 34, 1, 1, 1, 1, 2, 1, 1, 2, 3, 2, 1, 3, 5, 2, 1, 13, 1, 3, 4, 13, 9, 2, 1, 1, 24, 2, 2, 1, 18, 5, 1, 303, 2, 1, 2, 7, 1, 8, 4, 1, 2, 1, 3, 1, 5, 2, 1, 1, 16, 1, 2, 4, 1, 4, 9, 1, 1, 3, 1, 8, 1, 1, 11, 4, 1, 2, 51, 2, 1, 1, 2, 61, 3, 25, 16, 24, 1, 2, 6, 1, 37, 167, 1, 1, 5, 3, 7, 1, 1, 9, 2, 1, 36, 7, 1, 7, 3, 10, 1, 51, 8, 4, 1, 1, 2, 5, 1, 1, 6, 2, 1, 2, 1, 1, 5, 2, 1, 1, 1, 2, 1, 1, 5, 6, 1, 3, 2, 25, 2, 6, 1, 1, 3, 1, 1, 30, 3, 1, 1, 1, 33, 1, 1, 2, 2, 2, 1, 0, 1, 3, 7, 3, 15, 1, 1, 10, 4, 13, 3, 1, 1, 4, 44, 1, 11, 2, 2, 4, 15, 26, 2, 1, 32, 5, 100, 2, 29, 3, 3, 1, 53, 2, 2, 59, 1, 1, 33, 4, 35, 2, 12, 18, 3, 2, 1, 7, 178, 2, 1, 9, 1, 3, 1, 2, 26, 3, 1, 17, 1, 24, 1, 1, 1, 2, 1, 5, 1, 1, 1, 1, 3, 1, 1, 2, 12, 2, 3, 4, 1, 7, 4, 2, 42, 4, 2, 4, 50, 3, 1, 2, 2, 121, 1, 2, 5, 1, 1, 3, 1, 1, 12, 1, 0, 2, 9, 14, 3, 4, 1, 15, 36, 3, 4, 3, 2, 2, 1, 2, 1, 32, 139, 144, 2, 18, 2, 30, 174, 62, 4, 1, 41, 85, 1, 3, 1]}],\n",
              "                        {\"template\": {\"data\": {\"bar\": [{\"error_x\": {\"color\": \"#2a3f5f\"}, \"error_y\": {\"color\": \"#2a3f5f\"}, \"marker\": {\"line\": {\"color\": \"#E5ECF6\", \"width\": 0.5}}, \"type\": \"bar\"}], \"barpolar\": [{\"marker\": {\"line\": {\"color\": \"#E5ECF6\", \"width\": 0.5}}, \"type\": \"barpolar\"}], \"carpet\": [{\"aaxis\": {\"endlinecolor\": \"#2a3f5f\", \"gridcolor\": \"white\", \"linecolor\": \"white\", \"minorgridcolor\": \"white\", \"startlinecolor\": \"#2a3f5f\"}, \"baxis\": {\"endlinecolor\": \"#2a3f5f\", \"gridcolor\": \"white\", \"linecolor\": \"white\", \"minorgridcolor\": \"white\", \"startlinecolor\": \"#2a3f5f\"}, \"type\": \"carpet\"}], \"choropleth\": [{\"colorbar\": {\"outlinewidth\": 0, \"ticks\": \"\"}, \"type\": \"choropleth\"}], \"contour\": [{\"colorbar\": {\"outlinewidth\": 0, \"ticks\": \"\"}, \"colorscale\": [[0.0, \"#0d0887\"], [0.1111111111111111, \"#46039f\"], [0.2222222222222222, \"#7201a8\"], [0.3333333333333333, \"#9c179e\"], [0.4444444444444444, \"#bd3786\"], [0.5555555555555556, \"#d8576b\"], [0.6666666666666666, \"#ed7953\"], [0.7777777777777778, \"#fb9f3a\"], [0.8888888888888888, \"#fdca26\"], [1.0, \"#f0f921\"]], \"type\": \"contour\"}], \"contourcarpet\": [{\"colorbar\": {\"outlinewidth\": 0, \"ticks\": \"\"}, \"type\": \"contourcarpet\"}], \"heatmap\": [{\"colorbar\": {\"outlinewidth\": 0, \"ticks\": \"\"}, \"colorscale\": [[0.0, \"#0d0887\"], [0.1111111111111111, \"#46039f\"], [0.2222222222222222, \"#7201a8\"], [0.3333333333333333, \"#9c179e\"], [0.4444444444444444, \"#bd3786\"], [0.5555555555555556, \"#d8576b\"], [0.6666666666666666, \"#ed7953\"], [0.7777777777777778, \"#fb9f3a\"], [0.8888888888888888, \"#fdca26\"], [1.0, \"#f0f921\"]], \"type\": \"heatmap\"}], \"heatmapgl\": [{\"colorbar\": {\"outlinewidth\": 0, \"ticks\": \"\"}, \"colorscale\": [[0.0, \"#0d0887\"], [0.1111111111111111, \"#46039f\"], [0.2222222222222222, \"#7201a8\"], [0.3333333333333333, \"#9c179e\"], [0.4444444444444444, \"#bd3786\"], [0.5555555555555556, \"#d8576b\"], [0.6666666666666666, \"#ed7953\"], [0.7777777777777778, \"#fb9f3a\"], [0.8888888888888888, \"#fdca26\"], [1.0, \"#f0f921\"]], \"type\": \"heatmapgl\"}], \"histogram\": [{\"marker\": {\"colorbar\": {\"outlinewidth\": 0, \"ticks\": \"\"}}, \"type\": \"histogram\"}], \"histogram2d\": [{\"colorbar\": {\"outlinewidth\": 0, \"ticks\": \"\"}, \"colorscale\": [[0.0, \"#0d0887\"], [0.1111111111111111, \"#46039f\"], [0.2222222222222222, \"#7201a8\"], [0.3333333333333333, \"#9c179e\"], [0.4444444444444444, \"#bd3786\"], [0.5555555555555556, \"#d8576b\"], [0.6666666666666666, \"#ed7953\"], [0.7777777777777778, \"#fb9f3a\"], [0.8888888888888888, \"#fdca26\"], [1.0, \"#f0f921\"]], \"type\": \"histogram2d\"}], \"histogram2dcontour\": [{\"colorbar\": {\"outlinewidth\": 0, \"ticks\": \"\"}, \"colorscale\": [[0.0, \"#0d0887\"], [0.1111111111111111, \"#46039f\"], [0.2222222222222222, \"#7201a8\"], [0.3333333333333333, \"#9c179e\"], [0.4444444444444444, \"#bd3786\"], [0.5555555555555556, \"#d8576b\"], [0.6666666666666666, \"#ed7953\"], [0.7777777777777778, \"#fb9f3a\"], [0.8888888888888888, \"#fdca26\"], [1.0, \"#f0f921\"]], \"type\": \"histogram2dcontour\"}], \"mesh3d\": [{\"colorbar\": {\"outlinewidth\": 0, \"ticks\": \"\"}, \"type\": \"mesh3d\"}], \"parcoords\": [{\"line\": {\"colorbar\": {\"outlinewidth\": 0, \"ticks\": \"\"}}, \"type\": \"parcoords\"}], \"pie\": [{\"automargin\": true, \"type\": \"pie\"}], \"scatter\": [{\"marker\": {\"colorbar\": {\"outlinewidth\": 0, \"ticks\": \"\"}}, \"type\": \"scatter\"}], \"scatter3d\": [{\"line\": {\"colorbar\": {\"outlinewidth\": 0, \"ticks\": \"\"}}, \"marker\": {\"colorbar\": {\"outlinewidth\": 0, \"ticks\": \"\"}}, \"type\": \"scatter3d\"}], \"scattercarpet\": [{\"marker\": {\"colorbar\": {\"outlinewidth\": 0, \"ticks\": \"\"}}, \"type\": \"scattercarpet\"}], \"scattergeo\": [{\"marker\": {\"colorbar\": {\"outlinewidth\": 0, \"ticks\": \"\"}}, \"type\": \"scattergeo\"}], \"scattergl\": [{\"marker\": {\"colorbar\": {\"outlinewidth\": 0, \"ticks\": \"\"}}, \"type\": \"scattergl\"}], \"scattermapbox\": [{\"marker\": {\"colorbar\": {\"outlinewidth\": 0, \"ticks\": \"\"}}, \"type\": \"scattermapbox\"}], \"scatterpolar\": [{\"marker\": {\"colorbar\": {\"outlinewidth\": 0, \"ticks\": \"\"}}, \"type\": \"scatterpolar\"}], \"scatterpolargl\": [{\"marker\": {\"colorbar\": {\"outlinewidth\": 0, \"ticks\": \"\"}}, \"type\": \"scatterpolargl\"}], \"scatterternary\": [{\"marker\": {\"colorbar\": {\"outlinewidth\": 0, \"ticks\": \"\"}}, \"type\": \"scatterternary\"}], \"surface\": [{\"colorbar\": {\"outlinewidth\": 0, \"ticks\": \"\"}, \"colorscale\": [[0.0, \"#0d0887\"], [0.1111111111111111, \"#46039f\"], [0.2222222222222222, \"#7201a8\"], [0.3333333333333333, \"#9c179e\"], [0.4444444444444444, \"#bd3786\"], [0.5555555555555556, \"#d8576b\"], [0.6666666666666666, \"#ed7953\"], [0.7777777777777778, \"#fb9f3a\"], [0.8888888888888888, \"#fdca26\"], [1.0, \"#f0f921\"]], \"type\": \"surface\"}], \"table\": [{\"cells\": {\"fill\": {\"color\": \"#EBF0F8\"}, \"line\": {\"color\": \"white\"}}, \"header\": {\"fill\": {\"color\": \"#C8D4E3\"}, \"line\": {\"color\": \"white\"}}, \"type\": \"table\"}]}, \"layout\": {\"annotationdefaults\": {\"arrowcolor\": \"#2a3f5f\", \"arrowhead\": 0, \"arrowwidth\": 1}, \"coloraxis\": {\"colorbar\": {\"outlinewidth\": 0, \"ticks\": \"\"}}, \"colorscale\": {\"diverging\": [[0, \"#8e0152\"], [0.1, \"#c51b7d\"], [0.2, \"#de77ae\"], [0.3, \"#f1b6da\"], [0.4, \"#fde0ef\"], [0.5, \"#f7f7f7\"], [0.6, \"#e6f5d0\"], [0.7, \"#b8e186\"], [0.8, \"#7fbc41\"], [0.9, \"#4d9221\"], [1, \"#276419\"]], \"sequential\": [[0.0, \"#0d0887\"], [0.1111111111111111, \"#46039f\"], [0.2222222222222222, \"#7201a8\"], [0.3333333333333333, \"#9c179e\"], [0.4444444444444444, \"#bd3786\"], [0.5555555555555556, \"#d8576b\"], [0.6666666666666666, \"#ed7953\"], [0.7777777777777778, \"#fb9f3a\"], [0.8888888888888888, \"#fdca26\"], [1.0, \"#f0f921\"]], \"sequentialminus\": [[0.0, \"#0d0887\"], [0.1111111111111111, \"#46039f\"], [0.2222222222222222, \"#7201a8\"], [0.3333333333333333, \"#9c179e\"], [0.4444444444444444, \"#bd3786\"], [0.5555555555555556, \"#d8576b\"], [0.6666666666666666, \"#ed7953\"], [0.7777777777777778, \"#fb9f3a\"], [0.8888888888888888, \"#fdca26\"], [1.0, \"#f0f921\"]]}, \"colorway\": [\"#636efa\", \"#EF553B\", \"#00cc96\", \"#ab63fa\", \"#FFA15A\", \"#19d3f3\", \"#FF6692\", \"#B6E880\", \"#FF97FF\", \"#FECB52\"], \"font\": {\"color\": \"#2a3f5f\"}, \"geo\": {\"bgcolor\": \"white\", \"lakecolor\": \"white\", \"landcolor\": \"#E5ECF6\", \"showlakes\": true, \"showland\": true, \"subunitcolor\": \"white\"}, \"hoverlabel\": {\"align\": \"left\"}, \"hovermode\": \"closest\", \"mapbox\": {\"style\": \"light\"}, \"paper_bgcolor\": \"white\", \"plot_bgcolor\": \"#E5ECF6\", \"polar\": {\"angularaxis\": {\"gridcolor\": \"white\", \"linecolor\": \"white\", \"ticks\": \"\"}, \"bgcolor\": \"#E5ECF6\", \"radialaxis\": {\"gridcolor\": \"white\", \"linecolor\": \"white\", \"ticks\": \"\"}}, \"scene\": {\"xaxis\": {\"backgroundcolor\": \"#E5ECF6\", \"gridcolor\": \"white\", \"gridwidth\": 2, \"linecolor\": \"white\", \"showbackground\": true, \"ticks\": \"\", \"zerolinecolor\": \"white\"}, \"yaxis\": {\"backgroundcolor\": \"#E5ECF6\", \"gridcolor\": \"white\", \"gridwidth\": 2, \"linecolor\": \"white\", \"showbackground\": true, \"ticks\": \"\", \"zerolinecolor\": \"white\"}, \"zaxis\": {\"backgroundcolor\": \"#E5ECF6\", \"gridcolor\": \"white\", \"gridwidth\": 2, \"linecolor\": \"white\", \"showbackground\": true, \"ticks\": \"\", \"zerolinecolor\": \"white\"}}, \"shapedefaults\": {\"line\": {\"color\": \"#2a3f5f\"}}, \"ternary\": {\"aaxis\": {\"gridcolor\": \"white\", \"linecolor\": \"white\", \"ticks\": \"\"}, \"baxis\": {\"gridcolor\": \"white\", \"linecolor\": \"white\", \"ticks\": \"\"}, \"bgcolor\": \"#E5ECF6\", \"caxis\": {\"gridcolor\": \"white\", \"linecolor\": \"white\", \"ticks\": \"\"}}, \"title\": {\"x\": 0.05}, \"xaxis\": {\"automargin\": true, \"gridcolor\": \"white\", \"linecolor\": \"white\", \"ticks\": \"\", \"title\": {\"standoff\": 15}, \"zerolinecolor\": \"white\", \"zerolinewidth\": 2}, \"yaxis\": {\"automargin\": true, \"gridcolor\": \"white\", \"linecolor\": \"white\", \"ticks\": \"\", \"title\": {\"standoff\": 15}, \"zerolinecolor\": \"white\", \"zerolinewidth\": 2}}}},\n",
              "                        {\"responsive\": true}\n",
              "                    ).then(function(){\n",
              "                            \n",
              "var gd = document.getElementById('b1c7e1a7-de9a-44f6-be28-c02d5561ba97');\n",
              "var x = new MutationObserver(function (mutations, observer) {{\n",
              "        var display = window.getComputedStyle(gd).display;\n",
              "        if (!display || display === 'none') {{\n",
              "            console.log([gd, 'removed!']);\n",
              "            Plotly.purge(gd);\n",
              "            observer.disconnect();\n",
              "        }}\n",
              "}});\n",
              "\n",
              "// Listen for the removal of the full notebook cells\n",
              "var notebookContainer = gd.closest('#notebook-container');\n",
              "if (notebookContainer) {{\n",
              "    x.observe(notebookContainer, {childList: true});\n",
              "}}\n",
              "\n",
              "// Listen for the clearing of the current output cell\n",
              "var outputEl = gd.closest('.output');\n",
              "if (outputEl) {{\n",
              "    x.observe(outputEl, {childList: true});\n",
              "}}\n",
              "\n",
              "                        })\n",
              "                };\n",
              "                \n",
              "            </script>\n",
              "        </div>\n",
              "</body>\n",
              "</html>"
            ]
          },
          "metadata": {
            "tags": []
          }
        }
      ]
    },
    {
      "cell_type": "code",
      "metadata": {
        "colab": {
          "base_uri": "https://localhost:8080/"
        },
        "id": "-9jgio7z-fp_",
        "outputId": "c3c426fc-5d74-4de1-c695-f5e8891c6edc"
      },
      "source": [
        "\n",
        "# last_available_confirmed_per_100k_inhabitants last_available_confirmed\n",
        "#   não estão correlacionados\n",
        "df_02 = df[['last_available_confirmed_per_100k_inhabitants', 'last_available_confirmed']]\n",
        "print(df_02.corr(method='pearson'))\n",
        "print('\\n')\n",
        "\n",
        "# last_available_deaths last_available_confirmed\n",
        "#   estão correlacionado positivamente\n",
        "df_03 = df[['last_available_deaths', 'last_available_confirmed']]\n",
        "print(df_03.corr(method='pearson'))\n",
        "print('\\n')\n",
        "\n",
        "\n",
        "# new_deaths new_confirmed\n",
        "#   estão correlacionado positivamente\n",
        "df_04 = df[['new_deaths', 'new_confirmed']]\n",
        "print(df_04.corr(method='pearson'))"
      ],
      "execution_count": null,
      "outputs": [
        {
          "output_type": "stream",
          "text": [
            "                                               last_available_confirmed_per_100k_inhabitants  last_available_confirmed\n",
            "last_available_confirmed_per_100k_inhabitants                                        1.00000                   0.15009\n",
            "last_available_confirmed                                                             0.15009                   1.00000\n",
            "\n",
            "\n",
            "                          last_available_deaths  last_available_confirmed\n",
            "last_available_deaths                  1.000000                  0.882276\n",
            "last_available_confirmed               0.882276                  1.000000\n",
            "\n",
            "\n",
            "               new_deaths  new_confirmed\n",
            "new_deaths       1.000000       0.678077\n",
            "new_confirmed    0.678077       1.000000\n"
          ],
          "name": "stdout"
        }
      ]
    },
    {
      "cell_type": "markdown",
      "metadata": {
        "id": "cd8KJ99ZkEJZ"
      },
      "source": [
        "Retirada de atributos que não serão necessários para nossa análise"
      ]
    },
    {
      "cell_type": "code",
      "metadata": {
        "id": "_2EgGgzj-45v"
      },
      "source": [
        "# Atributos reduntantes ou que fazem referência a índices\n",
        "df.drop(['city_ibge_code', 'order_for_place', 'place_type'], inplace=True, axis=1)"
      ],
      "execution_count": null,
      "outputs": []
    },
    {
      "cell_type": "markdown",
      "metadata": {
        "id": "5bkgMtET_T5a"
      },
      "source": [
        "### Importancia das Features - Cinthia"
      ]
    },
    {
      "cell_type": "code",
      "metadata": {
        "id": "uwxIwDKt_WlR",
        "colab": {
          "base_uri": "https://localhost:8080/",
          "height": 284
        },
        "outputId": "f38c336c-0ea0-4f23-9894-976eb5dd9858"
      },
      "source": [
        "#Função para importance features \n",
        "df_features = df[['epidemiological_week',\t'estimated_population',\t'estimated_population_2019', 'last_available_confirmed',\t'last_available_confirmed_per_100k_inhabitants', 'last_available_death_rate',\t'last_available_deaths',\t'new_confirmed',\t'new_deaths']][:1000]\n",
        "\n",
        "#Função para importance features \n",
        "def importance_features_tree(name, model, X, Y):\n",
        "  model.fit(X,Y)\n",
        "  \n",
        "  print(f'# {name}')\n",
        "  print('Features sorted by their score:')  \n",
        "  print(sorted(zip(map(lambda x: round(x, 4), model.feature_importances_), df_features.columns), reverse=True))\n",
        "\n",
        "  # Plot feature importance\n",
        "  feature_importance = model.feature_importances_\n",
        "  # Make importances relative to max importance\n",
        "  feature_importance = 100.0  * (feature_importance / feature_importance.max())\n",
        "  sorted_idx = np.argsort(feature_importance)\n",
        "  pos = np.arange(sorted_idx.shape[0]) + .5\n",
        "  plt.subplot(1,2,2)\n",
        "  plt.barh(pos,feature_importance[sorted_idx], align='center')\n",
        "\n",
        "  m_name = np.array(df_features.columns)\n",
        "  plt.yticks(pos, m_name[sorted_idx])\n",
        "  plt.xlabel('Importancia Relativa')\n",
        "  plt.show()\n",
        "\n",
        "\n",
        "def importance_feature_filter(name,func, X, Y, n):\n",
        "  test = SelectKBest(score_func=func, k=n)\n",
        "  fit = test.fit(X, Y)\n",
        "\n",
        "  # Sumarize scores\n",
        "  np.set_printoptions(precision=3)\n",
        "  # print(fit.scores_)\n",
        "\n",
        "  features = fit.transform(X)\n",
        "  # Sumarize selected features\n",
        "  # print(f'\\nfeatures {feature[0:5,:]}')\n",
        "\n",
        "  print(f'# {name}')\n",
        "  print('\\nFeatures sorted by their score:')\n",
        "  print(sorted(zip(map(lambda x: round(x, 4), fit.scores_), df_features.columns), reverse=True))\n",
        "\n",
        "\n",
        "  # Plot feature importance\n",
        "  feature_importance = fit.scores_\n",
        "  # Make importances relative to max importance\n",
        "  feature_importance = 100.0  * (feature_importance / feature_importance.max())\n",
        "  sorted_idx = np.argsort(feature_importance)\n",
        "  pos = np.arange(sorted_idx.shape[0]) + .5\n",
        "  plt.subplot(1,2,2)\n",
        "  plt.barh(pos,feature_importance[sorted_idx], align='center')\n",
        "\n",
        "  m_name = np.array(df_features.columns)\n",
        "  plt.yticks(pos, m_name[sorted_idx])\n",
        "  plt.xlabel('Importancia Relativa')\n",
        "  plt.show()\n",
        "\n",
        "def importance_feature_wrapper(name, model, X, Y, n, columns):\n",
        "  rfe = RFE(model, n)\n",
        "  fit = rfe.fit(X, Y)\n",
        "\n",
        "  print(f'# {name}')\n",
        "  print(f'Num features: {fit.n_features_}')\n",
        "  print(f'Features ranking labels: {[columns[i] for i in np.where(fit.ranking_ == 1)[0]]}')\n",
        "\n",
        "def importance_feature_wrapper(name, model, X, Y, n, columns):\n",
        "  rfe = RFE(model, n)\n",
        "  fit = rfe.fit(X, Y)\n",
        "\n",
        "  print(f'# {name}')\n",
        "  print(f'Num features: {fit.n_features_}')\n",
        "  print(f'Features ranking labels: {[columns[i] for i in np.where(fit.ranking_ == 1)[0]]}')\n",
        "\n",
        "def class_(value, Q1, Q2, Q3):\n",
        "  if value < Q1:\n",
        "    return 1\n",
        "  elif Q1 <= value < Q2:\n",
        "    return 2\n",
        "  elif Q2 <= value < Q3:\n",
        "    return 3\n",
        "  else:\n",
        "    return 4"
      ],
      "execution_count": null,
      "outputs": [
        {
          "output_type": "error",
          "ename": "NameError",
          "evalue": "ignored",
          "traceback": [
            "\u001b[0;31m---------------------------------------------------------------------------\u001b[0m",
            "\u001b[0;31mNameError\u001b[0m                                 Traceback (most recent call last)",
            "\u001b[0;32m<ipython-input-1-60a76f1cf688>\u001b[0m in \u001b[0;36m<module>\u001b[0;34m()\u001b[0m\n\u001b[1;32m      1\u001b[0m \u001b[0;31m#Função para importance features\u001b[0m\u001b[0;34m\u001b[0m\u001b[0;34m\u001b[0m\u001b[0;34m\u001b[0m\u001b[0m\n\u001b[0;32m----> 2\u001b[0;31m \u001b[0mdf_features\u001b[0m \u001b[0;34m=\u001b[0m \u001b[0mdf\u001b[0m\u001b[0;34m[\u001b[0m\u001b[0;34m[\u001b[0m\u001b[0;34m'epidemiological_week'\u001b[0m\u001b[0;34m,\u001b[0m       \u001b[0;34m'estimated_population'\u001b[0m\u001b[0;34m,\u001b[0m \u001b[0;34m'estimated_population_2019'\u001b[0m\u001b[0;34m,\u001b[0m \u001b[0;34m'last_available_confirmed'\u001b[0m\u001b[0;34m,\u001b[0m        \u001b[0;34m'last_available_confirmed_per_100k_inhabitants'\u001b[0m\u001b[0;34m,\u001b[0m \u001b[0;34m'last_available_death_rate'\u001b[0m\u001b[0;34m,\u001b[0m   \u001b[0;34m'last_available_deaths'\u001b[0m\u001b[0;34m,\u001b[0m        \u001b[0;34m'new_confirmed'\u001b[0m\u001b[0;34m,\u001b[0m        \u001b[0;34m'new_deaths'\u001b[0m\u001b[0;34m]\u001b[0m\u001b[0;34m]\u001b[0m\u001b[0;34m[\u001b[0m\u001b[0;34m:\u001b[0m\u001b[0;36m1000\u001b[0m\u001b[0;34m]\u001b[0m\u001b[0;34m\u001b[0m\u001b[0;34m\u001b[0m\u001b[0m\n\u001b[0m\u001b[1;32m      3\u001b[0m \u001b[0;34m\u001b[0m\u001b[0m\n\u001b[1;32m      4\u001b[0m \u001b[0;31m#Função para importance features\u001b[0m\u001b[0;34m\u001b[0m\u001b[0;34m\u001b[0m\u001b[0;34m\u001b[0m\u001b[0m\n\u001b[1;32m      5\u001b[0m \u001b[0;32mdef\u001b[0m \u001b[0mimportance_features_tree\u001b[0m\u001b[0;34m(\u001b[0m\u001b[0mname\u001b[0m\u001b[0;34m,\u001b[0m \u001b[0mmodel\u001b[0m\u001b[0;34m,\u001b[0m \u001b[0mX\u001b[0m\u001b[0;34m,\u001b[0m \u001b[0mY\u001b[0m\u001b[0;34m)\u001b[0m\u001b[0;34m:\u001b[0m\u001b[0;34m\u001b[0m\u001b[0;34m\u001b[0m\u001b[0m\n",
            "\u001b[0;31mNameError\u001b[0m: name 'df' is not defined"
          ]
        }
      ]
    },
    {
      "cell_type": "markdown",
      "metadata": {
        "id": "KFn4iYBvNYzR"
      },
      "source": [
        "Atributos sem normalização - 10k de dados"
      ]
    },
    {
      "cell_type": "code",
      "metadata": {
        "colab": {
          "base_uri": "https://localhost:8080/",
          "height": 1000
        },
        "id": "KnGQzh-3CYI6",
        "outputId": "0f7efccc-def9-42c7-ab29-2f3fbfc6b7e4"
      },
      "source": [
        "# Importancia dos atributos\n",
        "array_n = df_features.values\n",
        "X = array_n[:,0:8]\n",
        "Y = array_n[:,8]\n",
        "\n",
        "# Usando Arvores\n",
        "# RandomForest\n",
        "print('Usando Árvores')\n",
        "importance_features_tree('RandomForest', RandomForestRegressor(), X, Y)\n",
        "\n",
        "# GradientBoosting\n",
        "importance_features_tree('Gradiente Boosting', GradientBoostingRegressor(), X, Y)\n",
        "\n",
        "print('\\nUsando Método de Filtragem')\n",
        "# Usando Método de Filtragem\n",
        "# Chi2\n",
        "# Não pode conter valores negativos\n",
        "# importance_feature_filter('chi2', chi2, X, Y, 4)\n",
        "\n",
        "# f_regression\n",
        "importance_feature_filter('f Regression', f_regression, X, Y, 4)\n",
        "\n",
        "# print('\\nUsando Método Wrapper')\n",
        "# Usando Metodo Wrapper\n",
        "# importance_feature_wrapper('Regreção Logística', LogisticRegression(), X, Y, 4, df_features.columns[:8])\n",
        "# importance_feature_wrapper('Árvore: ExtreTreeClassifier', ExtraTreeClassifier(), X, Y, 4, df_features.columns[:8])"
      ],
      "execution_count": null,
      "outputs": [
        {
          "output_type": "stream",
          "text": [
            "Usando Árvores\n",
            "# RandomForest\n",
            "Features sorted by their score:\n",
            "[(0.4361, 'new_confirmed'), (0.2677, 'last_available_confirmed'), (0.1311, 'last_available_death_rate'), (0.0947, 'last_available_deaths'), (0.0399, 'last_available_confirmed_per_100k_inhabitants'), (0.0165, 'epidemiological_week'), (0.0075, 'estimated_population_2019'), (0.0065, 'estimated_population')]\n"
          ],
          "name": "stdout"
        },
        {
          "output_type": "display_data",
          "data": {
            "image/png": "[encoded data removed]",
            "text/plain": [
              "<Figure size 432x288 with 1 Axes>"
            ]
          },
          "metadata": {
            "tags": [],
            "needs_background": "light"
          }
        },
        {
          "output_type": "stream",
          "text": [
            "# Gradiente Boosting\n",
            "Features sorted by their score:\n",
            "[(0.4352, 'new_confirmed'), (0.4068, 'last_available_confirmed'), (0.065, 'last_available_death_rate'), (0.0489, 'last_available_deaths'), (0.0281, 'last_available_confirmed_per_100k_inhabitants'), (0.0114, 'epidemiological_week'), (0.003, 'estimated_population_2019'), (0.0017, 'estimated_population')]\n"
          ],
          "name": "stdout"
        },
        {
          "output_type": "display_data",
          "data": {
            "image/png": "[encoded data removed]",
            "text/plain": [
              "<Figure size 432x288 with 1 Axes>"
            ]
          },
          "metadata": {
            "tags": [],
            "needs_background": "light"
          }
        },
        {
          "output_type": "stream",
          "text": [
            "\n",
            "Usando Método de Filtragem\n",
            "# f Regression\n",
            "\n",
            "Features sorted by their score:\n",
            "[(419.5412, 'last_available_deaths'), (381.1267, 'last_available_confirmed'), (218.2174, 'new_confirmed'), (82.4981, 'estimated_population_2019'), (82.4618, 'estimated_population'), (26.2704, 'last_available_death_rate'), (0.0155, 'epidemiological_week'), (0.0014, 'last_available_confirmed_per_100k_inhabitants')]\n"
          ],
          "name": "stdout"
        },
        {
          "output_type": "display_data",
          "data": {
            "image/png": "[encoded data removed]",
            "text/plain": [
              "<Figure size 432x288 with 1 Axes>"
            ]
          },
          "metadata": {
            "tags": [],
            "needs_background": "light"
          }
        }
      ]
    },
    {
      "cell_type": "markdown",
      "metadata": {
        "id": "mce_cDgeVHwu"
      },
      "source": [
        "Atributos com normalização - 10k de dados"
      ]
    },
    {
      "cell_type": "code",
      "metadata": {
        "id": "bZz2Bbj-VacJ",
        "colab": {
          "base_uri": "https://localhost:8080/",
          "height": 468
        },
        "outputId": "3e10ad7f-49da-47ed-d7b1-e2a60b6d1d0e"
      },
      "source": [
        "df_features['epidemiological_week'] = df_features.epidemiological_week.apply(lambda value: (value - df_features.epidemiological_week.min()) / (df_features.epidemiological_week.max() - df_features.epidemiological_week.min()))\n",
        "df_features['estimated_population'] = df_features.estimated_population.apply(lambda value: (value - df_features.estimated_population.min()) / (df_features.estimated_population.max() - df_features.estimated_population.min()))\n",
        "df_features['estimated_population_2019'] = df_features.estimated_population_2019.apply(lambda value: (value - df_features.estimated_population_2019.min()) / (df_features.estimated_population_2019.max() - df_features.estimated_population_2019.min()))\n",
        "df_features['last_available_confirmed'] = df_features.last_available_confirmed.apply(lambda value: (value - df_features.last_available_confirmed.min()) / (df_features.last_available_confirmed.max() - df_features.last_available_confirmed.min()))\n",
        "df_features['last_available_confirmed_per_100k_inhabitants'] = df_features.last_available_confirmed_per_100k_inhabitants.apply(lambda value: (value - df_features.last_available_confirmed_per_100k_inhabitants.min()) / (df_features.last_available_confirmed_per_100k_inhabitants.max() - df_features.last_available_confirmed_per_100k_inhabitants.min()))\n",
        "df_features['last_available_death_rate'] = df_features.last_available_death_rate.apply(lambda value: (value - df_features.last_available_death_rate.min()) / (df_features.last_available_death_rate.max() - df_features.last_available_death_rate.min()))\n",
        "df_features['last_available_deaths'] = df_features.last_available_deaths.apply(lambda value: (value - df_features.last_available_deaths.min()) / (df_features.last_available_deaths.max() - df_features.last_available_deaths.min()))\n",
        "df_features['new_confirmed'] = df_features.new_confirmed.apply(lambda value: (value - df_features.new_confirmed.min()) / (df_features.new_confirmed.max() - df_features.new_confirmed.min()))"
      ],
      "execution_count": null,
      "outputs": [
        {
          "output_type": "error",
          "ename": "NameError",
          "evalue": "ignored",
          "traceback": [
            "\u001b[0;31m---------------------------------------------------------------------------\u001b[0m",
            "\u001b[0;31mNameError\u001b[0m                                 Traceback (most recent call last)",
            "\u001b[0;32m<ipython-input-8-a1b3bc0f463e>\u001b[0m in \u001b[0;36m<module>\u001b[0;34m()\u001b[0m\n\u001b[0;32m----> 1\u001b[0;31m \u001b[0mdf_features\u001b[0m\u001b[0;34m[\u001b[0m\u001b[0;34m'epidemiological_week'\u001b[0m\u001b[0;34m]\u001b[0m \u001b[0;34m=\u001b[0m \u001b[0mdf_features\u001b[0m\u001b[0;34m.\u001b[0m\u001b[0mepidemiological_week\u001b[0m\u001b[0;34m.\u001b[0m\u001b[0mapply\u001b[0m\u001b[0;34m(\u001b[0m\u001b[0;32mlambda\u001b[0m \u001b[0mvalue\u001b[0m\u001b[0;34m:\u001b[0m \u001b[0;34m(\u001b[0m\u001b[0mvalue\u001b[0m \u001b[0;34m-\u001b[0m \u001b[0mdf_features\u001b[0m\u001b[0;34m.\u001b[0m\u001b[0mepidemiological_week\u001b[0m\u001b[0;34m.\u001b[0m\u001b[0mmin\u001b[0m\u001b[0;34m(\u001b[0m\u001b[0;34m)\u001b[0m\u001b[0;34m)\u001b[0m \u001b[0;34m/\u001b[0m \u001b[0;34m(\u001b[0m\u001b[0mdf_features\u001b[0m\u001b[0;34m.\u001b[0m\u001b[0mepidemiological_week\u001b[0m\u001b[0;34m.\u001b[0m\u001b[0mmax\u001b[0m\u001b[0;34m(\u001b[0m\u001b[0;34m)\u001b[0m \u001b[0;34m-\u001b[0m \u001b[0mdf_features\u001b[0m\u001b[0;34m.\u001b[0m\u001b[0mepidemiological_week\u001b[0m\u001b[0;34m.\u001b[0m\u001b[0mmin\u001b[0m\u001b[0;34m(\u001b[0m\u001b[0;34m)\u001b[0m\u001b[0;34m)\u001b[0m\u001b[0;34m)\u001b[0m\u001b[0;34m\u001b[0m\u001b[0;34m\u001b[0m\u001b[0m\n\u001b[0m\u001b[1;32m      2\u001b[0m \u001b[0mdf_features\u001b[0m\u001b[0;34m[\u001b[0m\u001b[0;34m'estimated_population'\u001b[0m\u001b[0;34m]\u001b[0m \u001b[0;34m=\u001b[0m \u001b[0mdf_features\u001b[0m\u001b[0;34m.\u001b[0m\u001b[0mestimated_population\u001b[0m\u001b[0;34m.\u001b[0m\u001b[0mapply\u001b[0m\u001b[0;34m(\u001b[0m\u001b[0;32mlambda\u001b[0m \u001b[0mvalue\u001b[0m\u001b[0;34m:\u001b[0m \u001b[0;34m(\u001b[0m\u001b[0mvalue\u001b[0m \u001b[0;34m-\u001b[0m \u001b[0mdf_features\u001b[0m\u001b[0;34m.\u001b[0m\u001b[0mestimated_population\u001b[0m\u001b[0;34m.\u001b[0m\u001b[0mmin\u001b[0m\u001b[0;34m(\u001b[0m\u001b[0;34m)\u001b[0m\u001b[0;34m)\u001b[0m \u001b[0;34m/\u001b[0m \u001b[0;34m(\u001b[0m\u001b[0mdf_features\u001b[0m\u001b[0;34m.\u001b[0m\u001b[0mestimated_population\u001b[0m\u001b[0;34m.\u001b[0m\u001b[0mmax\u001b[0m\u001b[0;34m(\u001b[0m\u001b[0;34m)\u001b[0m \u001b[0;34m-\u001b[0m \u001b[0mdf_features\u001b[0m\u001b[0;34m.\u001b[0m\u001b[0mestimated_population\u001b[0m\u001b[0;34m.\u001b[0m\u001b[0mmin\u001b[0m\u001b[0;34m(\u001b[0m\u001b[0;34m)\u001b[0m\u001b[0;34m)\u001b[0m\u001b[0;34m)\u001b[0m\u001b[0;34m\u001b[0m\u001b[0;34m\u001b[0m\u001b[0m\n\u001b[1;32m      3\u001b[0m \u001b[0mdf_features\u001b[0m\u001b[0;34m[\u001b[0m\u001b[0;34m'estimated_population_2019'\u001b[0m\u001b[0;34m]\u001b[0m \u001b[0;34m=\u001b[0m \u001b[0mdf_features\u001b[0m\u001b[0;34m.\u001b[0m\u001b[0mestimated_population_2019\u001b[0m\u001b[0;34m.\u001b[0m\u001b[0mapply\u001b[0m\u001b[0;34m(\u001b[0m\u001b[0;32mlambda\u001b[0m \u001b[0mvalue\u001b[0m\u001b[0;34m:\u001b[0m \u001b[0;34m(\u001b[0m\u001b[0mvalue\u001b[0m \u001b[0;34m-\u001b[0m \u001b[0mdf_features\u001b[0m\u001b[0;34m.\u001b[0m\u001b[0mestimated_population_2019\u001b[0m\u001b[0;34m.\u001b[0m\u001b[0mmin\u001b[0m\u001b[0;34m(\u001b[0m\u001b[0;34m)\u001b[0m\u001b[0;34m)\u001b[0m \u001b[0;34m/\u001b[0m \u001b[0;34m(\u001b[0m\u001b[0mdf_features\u001b[0m\u001b[0;34m.\u001b[0m\u001b[0mestimated_population_2019\u001b[0m\u001b[0;34m.\u001b[0m\u001b[0mmax\u001b[0m\u001b[0;34m(\u001b[0m\u001b[0;34m)\u001b[0m \u001b[0;34m-\u001b[0m \u001b[0mdf_features\u001b[0m\u001b[0;34m.\u001b[0m\u001b[0mestimated_population_2019\u001b[0m\u001b[0;34m.\u001b[0m\u001b[0mmin\u001b[0m\u001b[0;34m(\u001b[0m\u001b[0;34m)\u001b[0m\u001b[0;34m)\u001b[0m\u001b[0;34m)\u001b[0m\u001b[0;34m\u001b[0m\u001b[0;34m\u001b[0m\u001b[0m\n\u001b[1;32m      4\u001b[0m \u001b[0mdf_features\u001b[0m\u001b[0;34m[\u001b[0m\u001b[0;34m'last_available_confirmed'\u001b[0m\u001b[0;34m]\u001b[0m \u001b[0;34m=\u001b[0m \u001b[0mdf_features\u001b[0m\u001b[0;34m.\u001b[0m\u001b[0mlast_available_confirmed\u001b[0m\u001b[0;34m.\u001b[0m\u001b[0mapply\u001b[0m\u001b[0;34m(\u001b[0m\u001b[0;32mlambda\u001b[0m \u001b[0mvalue\u001b[0m\u001b[0;34m:\u001b[0m \u001b[0;34m(\u001b[0m\u001b[0mvalue\u001b[0m \u001b[0;34m-\u001b[0m \u001b[0mdf_features\u001b[0m\u001b[0;34m.\u001b[0m\u001b[0mlast_available_confirmed\u001b[0m\u001b[0;34m.\u001b[0m\u001b[0mmin\u001b[0m\u001b[0;34m(\u001b[0m\u001b[0;34m)\u001b[0m\u001b[0;34m)\u001b[0m \u001b[0;34m/\u001b[0m \u001b[0;34m(\u001b[0m\u001b[0mdf_features\u001b[0m\u001b[0;34m.\u001b[0m\u001b[0mlast_available_confirmed\u001b[0m\u001b[0;34m.\u001b[0m\u001b[0mmax\u001b[0m\u001b[0;34m(\u001b[0m\u001b[0;34m)\u001b[0m \u001b[0;34m-\u001b[0m \u001b[0mdf_features\u001b[0m\u001b[0;34m.\u001b[0m\u001b[0mlast_available_confirmed\u001b[0m\u001b[0;34m.\u001b[0m\u001b[0mmin\u001b[0m\u001b[0;34m(\u001b[0m\u001b[0;34m)\u001b[0m\u001b[0;34m)\u001b[0m\u001b[0;34m)\u001b[0m\u001b[0;34m\u001b[0m\u001b[0;34m\u001b[0m\u001b[0m\n\u001b[1;32m      5\u001b[0m \u001b[0mdf_features\u001b[0m\u001b[0;34m[\u001b[0m\u001b[0;34m'last_available_confirmed_per_100k_inhabitants'\u001b[0m\u001b[0;34m]\u001b[0m \u001b[0;34m=\u001b[0m \u001b[0mdf_features\u001b[0m\u001b[0;34m.\u001b[0m\u001b[0mlast_available_confirmed_per_100k_inhabitants\u001b[0m\u001b[0;34m.\u001b[0m\u001b[0mapply\u001b[0m\u001b[0;34m(\u001b[0m\u001b[0;32mlambda\u001b[0m \u001b[0mvalue\u001b[0m\u001b[0;34m:\u001b[0m \u001b[0;34m(\u001b[0m\u001b[0mvalue\u001b[0m \u001b[0;34m-\u001b[0m \u001b[0mdf_features\u001b[0m\u001b[0;34m.\u001b[0m\u001b[0mlast_available_confirmed_per_100k_inhabitants\u001b[0m\u001b[0;34m.\u001b[0m\u001b[0mmin\u001b[0m\u001b[0;34m(\u001b[0m\u001b[0;34m)\u001b[0m\u001b[0;34m)\u001b[0m \u001b[0;34m/\u001b[0m \u001b[0;34m(\u001b[0m\u001b[0mdf_features\u001b[0m\u001b[0;34m.\u001b[0m\u001b[0mlast_available_confirmed_per_100k_inhabitants\u001b[0m\u001b[0;34m.\u001b[0m\u001b[0mmax\u001b[0m\u001b[0;34m(\u001b[0m\u001b[0;34m)\u001b[0m \u001b[0;34m-\u001b[0m \u001b[0mdf_features\u001b[0m\u001b[0;34m.\u001b[0m\u001b[0mlast_available_confirmed_per_100k_inhabitants\u001b[0m\u001b[0;34m.\u001b[0m\u001b[0mmin\u001b[0m\u001b[0;34m(\u001b[0m\u001b[0;34m)\u001b[0m\u001b[0;34m)\u001b[0m\u001b[0;34m)\u001b[0m\u001b[0;34m\u001b[0m\u001b[0;34m\u001b[0m\u001b[0m\n",
            "\u001b[0;31mNameError\u001b[0m: name 'df_features' is not defined"
          ]
        }
      ]
    },
    {
      "cell_type": "code",
      "metadata": {
        "colab": {
          "base_uri": "https://localhost:8080/",
          "height": 1000
        },
        "id": "lp2F5zM0RX_Y",
        "outputId": "b6d3eae7-4cf9-47d7-fe35-aa103bb2bd60"
      },
      "source": [
        "# Importancia dos atributos\n",
        "array_n = df_features.values\n",
        "X = array_n[:,0:8]\n",
        "Y = array_n[:,8]\n",
        "\n",
        "# Usando Arvores\n",
        "# RandomForest\n",
        "print('Usando Árvores')\n",
        "importance_features_tree('RandomForest', RandomForestRegressor(), X, Y)\n",
        "\n",
        "# GradientBoosting\n",
        "importance_features_tree('Gradiente Boosting', GradientBoostingRegressor(), X, Y)\n",
        "\n",
        "print('\\nUsando Método de Filtragem')\n",
        "# Usando Método de Filtragem\n",
        "# Chi2\n",
        "# Não pode conter valores negativos\n",
        "# importance_feature_filter('chi2', chi2, X, Y, 4)\n",
        "\n",
        "# f_regression\n",
        "importance_feature_filter('f Regression', f_regression, X, Y, 4)\n",
        "\n",
        "# print('\\nUsando Método Wrapper')\n",
        "# Usando Metodo Wrapper\n",
        "# importance_feature_wrapper('Regreção Logística', LogisticRegression(), X, Y, 4, df_features.columns[:8])\n",
        "# importance_feature_wrapper('Árvore: ExtreTreeClassifier', ExtraTreeClassifier(), X, Y, 4, df_features.columns[:8])"
      ],
      "execution_count": null,
      "outputs": [
        {
          "output_type": "stream",
          "text": [
            "Usando Árvores\n",
            "# RandomForest\n",
            "Features sorted by their score:\n",
            "[(0.4654, 'new_confirmed'), (0.1764, 'last_available_confirmed'), (0.1746, 'last_available_deaths'), (0.1305, 'last_available_death_rate'), (0.0296, 'last_available_confirmed_per_100k_inhabitants'), (0.0128, 'epidemiological_week'), (0.006, 'estimated_population'), (0.0047, 'estimated_population_2019')]\n"
          ],
          "name": "stdout"
        },
        {
          "output_type": "display_data",
          "data": {
            "image/png": "[encoded data removed]",
            "text/plain": [
              "<Figure size 432x288 with 1 Axes>"
            ]
          },
          "metadata": {
            "tags": [],
            "needs_background": "light"
          }
        },
        {
          "output_type": "stream",
          "text": [
            "# Gradiente Boosting\n",
            "Features sorted by their score:\n",
            "[(0.4251, 'new_confirmed'), (0.415, 'last_available_confirmed'), (0.0598, 'last_available_death_rate'), (0.0413, 'last_available_deaths'), (0.0378, 'last_available_confirmed_per_100k_inhabitants'), (0.0111, 'epidemiological_week'), (0.0067, 'estimated_population'), (0.0032, 'estimated_population_2019')]\n"
          ],
          "name": "stdout"
        },
        {
          "output_type": "display_data",
          "data": {
            "image/png": "[encoded data removed]",
            "text/plain": [
              "<Figure size 432x288 with 1 Axes>"
            ]
          },
          "metadata": {
            "tags": [],
            "needs_background": "light"
          }
        },
        {
          "output_type": "stream",
          "text": [
            "\n",
            "Usando Método de Filtragem\n",
            "# f Regression\n",
            "\n",
            "Features sorted by their score:\n",
            "[(419.5412, 'last_available_deaths'), (381.1267, 'last_available_confirmed'), (218.2174, 'new_confirmed'), (82.4981, 'estimated_population_2019'), (82.4618, 'estimated_population'), (26.2704, 'last_available_death_rate'), (0.0155, 'epidemiological_week'), (0.0014, 'last_available_confirmed_per_100k_inhabitants')]\n"
          ],
          "name": "stdout"
        },
        {
          "output_type": "display_data",
          "data": {
            "image/png": "[encoded data removed]",
            "text/plain": [
              "<Figure size 432x288 with 1 Axes>"
            ]
          },
          "metadata": {
            "tags": [],
            "needs_background": "light"
          }
        }
      ]
    },
    {
      "cell_type": "markdown",
      "metadata": {
        "id": "_l_yjHtKYL5V"
      },
      "source": [
        "Atributos com Discretização nos Quartis - 10k de dados"
      ]
    },
    {
      "cell_type": "code",
      "metadata": {
        "id": "YMvt9ExrYLrM"
      },
      "source": [
        "df_features['epidemiological_week'] = df_features.epidemiological_week.apply(class_, args=(df_features.epidemiological_week.quantile([.25,.5,.75]).values.tolist()))\n",
        "df_features['estimated_population'] = df_features.estimated_population.apply(class_, args=(df_features.estimated_population.quantile([.25,.5,.75]).values.tolist()))\n",
        "df_features['estimated_population_2019'] = df_features.estimated_population_2019.apply(class_, args=(df_features.estimated_population_2019.quantile([.25,.5,.75]).values.tolist()))\n",
        "df_features['last_available_confirmed'] = df_features.last_available_confirmed.apply(class_, args=(df_features.last_available_confirmed.quantile([.25,.5,.75]).values.tolist()))\n",
        "df_features['last_available_confirmed_per_100k_inhabitants'] = df_features.last_available_confirmed_per_100k_inhabitants.apply(class_, args=(df_features.last_available_confirmed_per_100k_inhabitants.quantile([.25,.5,.75]).values.tolist()))\n",
        "df_features['last_available_death_rate'] = df_features.last_available_death_rate.apply(class_, args=(df_features.last_available_death_rate.quantile([.25,.5,.75]).values.tolist()))\n",
        "df_features['last_available_deaths'] = df_features.last_available_deaths.apply(class_, args=(df_features.last_available_deaths.quantile([.25,.5,.75]).values.tolist()))\n",
        "df_features['new_confirmed'] = df_features.new_confirmed.apply(class_, args=(df_features.new_confirmed.quantile([.25,.5,.75]).values.tolist()))"
      ],
      "execution_count": null,
      "outputs": []
    },
    {
      "cell_type": "code",
      "metadata": {
        "colab": {
          "base_uri": "https://localhost:8080/",
          "height": 1000
        },
        "id": "7EcyxUFLY5Ke",
        "outputId": "fbb2b273-e494-4c15-c81c-e73c379af6eb"
      },
      "source": [
        "# Importancia dos atributos\n",
        "array_n = df_features.values\n",
        "X = array_n[:,0:8]\n",
        "Y = array_n[:,8]\n",
        "\n",
        "# Usando Arvores\n",
        "# RandomForest\n",
        "print('Usando Árvores')\n",
        "importance_features_tree('RandomForest', RandomForestRegressor(), X, Y)\n",
        "\n",
        "# GradientBoosting\n",
        "importance_features_tree('Gradiente Boosting', GradientBoostingRegressor(), X, Y)\n",
        "\n",
        "print('\\nUsando Método de Filtragem')\n",
        "# Usando Método de Filtragem\n",
        "# Chi2\n",
        "# Não pode conter valores negativos\n",
        "# importance_feature_filter('chi2', chi2, X, Y, 4)\n",
        "\n",
        "# f_regression\n",
        "importance_feature_filter('f Regression', f_regression, X, Y, 4)\n",
        "\n",
        "print('\\nUsando Método Wrapper')\n",
        "# Usando Metodo Wrapper\n",
        "# importance_feature_wrapper('Regreção Logística', LogisticRegression(), X, Y, 4, df_features.columns[:8])\n",
        "# importance_feature_wrapper('Árvore: ExtreTreeClassifier', ExtraTreeClassifier(), X, Y, 4, df_features.columns[:8])"
      ],
      "execution_count": null,
      "outputs": [
        {
          "output_type": "stream",
          "text": [
            "Usando Árvores\n",
            "# RandomForest\n",
            "Features sorted by their score:\n",
            "[(0.437, 'new_confirmed'), (0.2071, 'last_available_confirmed'), (0.1664, 'last_available_deaths'), (0.1213, 'last_available_death_rate'), (0.0387, 'last_available_confirmed_per_100k_inhabitants'), (0.0175, 'epidemiological_week'), (0.0063, 'estimated_population'), (0.0056, 'estimated_population_2019')]\n"
          ],
          "name": "stdout"
        },
        {
          "output_type": "display_data",
          "data": {
            "image/png": "[encoded data removed]",
            "text/plain": [
              "<Figure size 432x288 with 1 Axes>"
            ]
          },
          "metadata": {
            "tags": [],
            "needs_background": "light"
          }
        },
        {
          "output_type": "stream",
          "text": [
            "# Gradiente Boosting\n",
            "Features sorted by their score:\n",
            "[(0.4247, 'new_confirmed'), (0.4202, 'last_available_confirmed'), (0.0675, 'last_available_deaths'), (0.0546, 'last_available_death_rate'), (0.0118, 'last_available_confirmed_per_100k_inhabitants'), (0.0113, 'epidemiological_week'), (0.005, 'estimated_population'), (0.0048, 'estimated_population_2019')]\n"
          ],
          "name": "stdout"
        },
        {
          "output_type": "display_data",
          "data": {
            "image/png": "[encoded data removed]",
            "text/plain": [
              "<Figure size 432x288 with 1 Axes>"
            ]
          },
          "metadata": {
            "tags": [],
            "needs_background": "light"
          }
        },
        {
          "output_type": "stream",
          "text": [
            "\n",
            "Usando Método de Filtragem\n",
            "# f Regression\n",
            "\n",
            "Features sorted by their score:\n",
            "[(419.5412, 'last_available_deaths'), (381.1267, 'last_available_confirmed'), (218.2174, 'new_confirmed'), (82.4981, 'estimated_population_2019'), (82.4618, 'estimated_population'), (26.2704, 'last_available_death_rate'), (0.0155, 'epidemiological_week'), (0.0014, 'last_available_confirmed_per_100k_inhabitants')]\n"
          ],
          "name": "stdout"
        },
        {
          "output_type": "display_data",
          "data": {
            "image/png": "[encoded data removed]",
            "text/plain": [
              "<Figure size 432x288 with 1 Axes>"
            ]
          },
          "metadata": {
            "tags": [],
            "needs_background": "light"
          }
        },
        {
          "output_type": "stream",
          "text": [
            "\n",
            "Usando Método Wrapper\n"
          ],
          "name": "stdout"
        }
      ]
    },
    {
      "cell_type": "markdown",
      "metadata": {
        "id": "KTn7-z7gZrYX"
      },
      "source": [
        "### Análise Gráfica"
      ]
    },
    {
      "cell_type": "markdown",
      "metadata": {
        "id": "b-qK-Irdhc5n"
      },
      "source": [
        "Quantidade de mortos por estado - proporcionalmente"
      ]
    },
    {
      "cell_type": "code",
      "metadata": {
        "colab": {
          "base_uri": "https://localhost:8080/",
          "height": 428
        },
        "id": "_xL1ufaTZxzx",
        "outputId": "fa43cbc8-f7be-4981-808e-4ac955ba8150"
      },
      "source": [
        "df_group01 = df[['new_deaths']].groupby(df['state'])\n",
        "\n",
        "fig, ax = plt.subplots(figsize=(15,7))\n",
        "x = df_group01.sum().index.values\n",
        "y = [value / df[df.state == stt]['estimated_population'].max() for value, stt in zip(df_group01.sum().values.reshape(-1), df_group01.sum().index.values)]\n",
        "ax.bar(x,y)\n",
        "plt.grid()\n",
        "plt.show()"
      ],
      "execution_count": null,
      "outputs": [
        {
          "output_type": "display_data",
          "data": {
            "image/png": "[encoded data removed]",
            "text/plain": [
              "<Figure size 1080x504 with 1 Axes>"
            ]
          },
          "metadata": {
            "tags": [],
            "needs_background": "light"
          }
        }
      ]
    },
    {
      "cell_type": "markdown",
      "metadata": {
        "id": "YuDpXC0NhaBR"
      },
      "source": [
        "Quantidade de casos por estado - proporcionalmente"
      ]
    },
    {
      "cell_type": "code",
      "metadata": {
        "colab": {
          "base_uri": "https://localhost:8080/",
          "height": 429
        },
        "id": "0bHMpF0-hffJ",
        "outputId": "721395c0-ab36-4298-9572-a18fb0c1a3b6"
      },
      "source": [
        "df_group02 = df[['new_confirmed']].groupby(df['state'])\n",
        "\n",
        "fig, ax = plt.subplots(figsize=(15,7))\n",
        "x = df_group02.sum().index.values\n",
        "y = [value / df[df.state == stt]['estimated_population'].max() for value, stt in zip(df_group02.sum().values.reshape(-1), df_group02.sum().index.values)]\n",
        "ax.bar(x,y)\n",
        "plt.grid()\n",
        "plt.show()"
      ],
      "execution_count": null,
      "outputs": [
        {
          "output_type": "display_data",
          "data": {
            "image/png": "[encoded data removed]",
            "text/plain": [
              "<Figure size 1080x504 with 1 Axes>"
            ]
          },
          "metadata": {
            "tags": [],
            "needs_background": "light"
          }
        }
      ]
    },
    {
      "cell_type": "markdown",
      "metadata": {
        "id": "plx1J-HhiE6z"
      },
      "source": [
        "Quantidade de mortes ao longos das semanas"
      ]
    },
    {
      "cell_type": "code",
      "metadata": {
        "colab": {
          "base_uri": "https://localhost:8080/",
          "height": 428
        },
        "id": "iFwSsyJXiFOZ",
        "outputId": "e0ea3c16-bef2-467a-c5ae-dd6906520968"
      },
      "source": [
        "df_group03 = df[['new_deaths']].groupby(df['epidemiological_week'])\n",
        "\n",
        "fig, ax = plt.subplots(figsize=(15,7))\n",
        "x = df_group03.sum().index.values\n",
        "y = df_group03.sum().values.reshape(-1)\n",
        "ax.bar(x, y)\n",
        "plt.grid()\n",
        "plt.show()"
      ],
      "execution_count": null,
      "outputs": [
        {
          "output_type": "display_data",
          "data": {
            "image/png": "[encoded data removed]",
            "text/plain": [
              "<Figure size 1080x504 with 1 Axes>"
            ]
          },
          "metadata": {
            "tags": [],
            "needs_background": "light"
          }
        }
      ]
    },
    {
      "cell_type": "markdown",
      "metadata": {
        "id": "UW8zwgNRu-g7"
      },
      "source": [
        "Distribuição de infectados aos longo das semanas"
      ]
    },
    {
      "cell_type": "code",
      "metadata": {
        "colab": {
          "base_uri": "https://localhost:8080/",
          "height": 428
        },
        "id": "DjHgvS7Au-6k",
        "outputId": "22537aad-62e3-4534-85ef-9db6ca90a595"
      },
      "source": [
        "df_group03 = df[['new_confirmed']].groupby(df['epidemiological_week'])\n",
        "\n",
        "fig, ax = plt.subplots(figsize=(15,7))\n",
        "x = df_group03.sum().index.values\n",
        "y = df_group03.sum().values.reshape(-1)\n",
        "ax.bar(x, y)\n",
        "plt.grid()\n",
        "plt.show()"
      ],
      "execution_count": null,
      "outputs": [
        {
          "output_type": "display_data",
          "data": {
            "image/png": "[encoded data removed]",
            "text/plain": [
              "<Figure size 1080x504 with 1 Axes>"
            ]
          },
          "metadata": {
            "tags": [],
            "needs_background": "light"
          }
        }
      ]
    },
    {
      "cell_type": "markdown",
      "metadata": {
        "id": "3l-g1b2_gz1d"
      },
      "source": [
        "\n",
        "Distribuição de mortes por covid"
      ]
    },
    {
      "cell_type": "code",
      "metadata": {
        "colab": {
          "base_uri": "https://localhost:8080/",
          "height": 534
        },
        "id": "yOprSEmhgzJp",
        "outputId": "37ee1013-7afe-43a5-b434-8889686ded2f"
      },
      "source": [
        "df_group04 = df[['new_deaths']].groupby(df['epidemiological_week'])\n",
        "df_group05 = df[['new_deaths']].groupby(df['date'])\n",
        "data1 = df_group04.sum().values.reshape(-1)\n",
        "data2 = df_group05.sum().values.reshape(-1)\n",
        "data = [data1, data2]\n",
        "\n",
        "fig, ax = plt.subplots(figsize=(15,7))\n",
        "\n",
        "# Remove top and right border\n",
        "ax.spines['top'].set_visible(False)\n",
        "ax.spines['right'].set_visible(False)\n",
        "ax.spines['left'].set_visible(False)\n",
        "# Remove y-axis tick marks\n",
        "ax.yaxis.set_ticks_position('none')\n",
        "# Add major gridlines in the y-axis\n",
        "ax.grid(color='grey', axis='y', linestyle='-', alpha=0.5)\n",
        "# Set plot title\n",
        "ax.set_title('Distribuição de mortes por data')\n",
        "# Set names as labels for the boxplot\n",
        "labels = ['Semanal', 'Diário']\n",
        "plt.boxplot(data, labels=labels)\n",
        "plt.show()"
      ],
      "execution_count": null,
      "outputs": [
        {
          "output_type": "stream",
          "text": [
            "/usr/local/lib/python3.6/dist-packages/numpy/core/_asarray.py:83: VisibleDeprecationWarning:\n",
            "\n",
            "Creating an ndarray from ragged nested sequences (which is a list-or-tuple of lists-or-tuples-or ndarrays with different lengths or shapes) is deprecated. If you meant to do this, you must specify 'dtype=object' when creating the ndarray\n",
            "\n"
          ],
          "name": "stderr"
        },
        {
          "output_type": "display_data",
          "data": {
            "image/png": "[encoded data removed]",
            "text/plain": [
              "<Figure size 1080x504 with 1 Axes>"
            ]
          },
          "metadata": {
            "tags": [],
            "needs_background": "light"
          }
        }
      ]
    },
    {
      "cell_type": "markdown",
      "metadata": {
        "id": "47tkVZgTkSmz"
      },
      "source": [
        "Distrobuição de infectados por covid"
      ]
    },
    {
      "cell_type": "code",
      "metadata": {
        "colab": {
          "base_uri": "https://localhost:8080/",
          "height": 414
        },
        "id": "ifJz7MnfkWIM",
        "outputId": "53ec62c8-5862-467d-b3c3-e6e0b61a45fd"
      },
      "source": [
        "df_group06 = df[['new_confirmed']].groupby(df['epidemiological_week'])\n",
        "df_group07 = df[['new_confirmed']].groupby(df['date'])\n",
        "data1 = df_group06.sum().values.reshape(-1)\n",
        "data2 = df_group07.sum().values.reshape(-1)\n",
        "data = [data1, data2]\n",
        "\n",
        "fig, ax = plt.subplots(figsize=(15,7))\n",
        "\n",
        "# Remove top and right border\n",
        "ax.spines['top'].set_visible(False)\n",
        "ax.spines['right'].set_visible(False)\n",
        "ax.spines['left'].set_visible(False)\n",
        "# Remove y-axis tick marks\n",
        "ax.yaxis.set_ticks_position('none')\n",
        "# Add major gridlines in the y-axis\n",
        "ax.grid(color='grey', axis='y', linestyle='-', alpha=0.5)\n",
        "# Set plot title\n",
        "ax.set_title('Distribuição de infectados por data')\n",
        "# Set names as labels for the boxplot\n",
        "labels = ['Semanal', 'Diário']\n",
        "plt.boxplot(data, labels=labels)\n",
        "plt.show()"
      ],
      "execution_count": null,
      "outputs": [
        {
          "output_type": "stream",
          "text": [
            "/usr/local/lib/python3.6/dist-packages/numpy/core/_asarray.py:83: VisibleDeprecationWarning:\n",
            "\n",
            "Creating an ndarray from ragged nested sequences (which is a list-or-tuple of lists-or-tuples-or ndarrays with different lengths or shapes) is deprecated. If you meant to do this, you must specify 'dtype=object' when creating the ndarray\n",
            "\n"
          ],
          "name": "stderr"
        },
        {
          "output_type": "display_data",
          "data": {
            "image/png": "[encoded data removed]",
            "text/plain": [
              "<Figure size 1080x504 with 1 Axes>"
            ]
          },
          "metadata": {
            "tags": [],
            "needs_background": "light"
          }
        }
      ]
    },
    {
      "cell_type": "markdown",
      "metadata": {
        "id": "MpI4PLYIwF4n"
      },
      "source": [
        " A partir daqui esquece"
      ]
    },
    {
      "cell_type": "markdown",
      "metadata": {
        "id": "-z-xqH2rk04n"
      },
      "source": [
        "Distribuição Geográfica"
      ]
    },
    {
      "cell_type": "code",
      "metadata": {
        "id": "IyynNe4Hk5MK"
      },
      "source": [
        "data = {\n",
        "    'AC': [ -8.77, -70.55]\n",
        "  , 'AL': [ -9.71, -35.73]\n",
        "  , 'AM': [ -3.07, -61.66]\n",
        "  , 'AP': [  1.41, -51.77]\n",
        "  , 'BA': [-12.96, -38.51]\n",
        "  , 'CE': [ -3.71, -38.54]\n",
        "  , 'DF': [-15.83, -47.86]\n",
        "  , 'ES': [-19.19, -40.34]\n",
        "  , 'GO': [-16.64, -49.31]\n",
        "  , 'MA': [ -2.55, -44.30]\n",
        "  , 'MT': [-12.64, -55.42]\n",
        "  , 'MS': [-20.51, -54.54]\n",
        "  , 'MG': [-18.10, -44.38]\n",
        "  , 'PA': [ -5.53, -52.29]\n",
        "  , 'PB': [ -7.06, -35.55]\n",
        "  , 'PR': [-24.89, -51.55]\n",
        "  , 'PE': [ -8.28, -35.07]\n",
        "  , 'PI': [ -8.28, -43.68]\n",
        "  , 'RJ': [-22.84, -43.15]\n",
        "  , 'RN': [ -5.22, -36.52]\n",
        "  , 'RO': [-11.22, -62.80]\n",
        "  , 'RS': [-30.01, -51.22]\n",
        "  , 'RR': [  1.89, -61.22]\n",
        "  , 'SC': [-27.33, -49.44]\n",
        "  , 'SE': [-10.90, -37.07]\n",
        "  , 'SP': [-23.55, -46.64]\n",
        "  , 'TO': [-10.25, -48.25]\n",
        "}\n",
        "city = list(data.keys())\n",
        "longitude = [value[0] for value in data.values()]\n",
        "latitude = [value[1] for value in data.values()]\n",
        "\n",
        "df_states = pd.DataFrame({'state':city, 'latitude':latitude, 'longitude':longitude})\n",
        "df = df.merge(df_states, on='state', how='left')"
      ],
      "execution_count": null,
      "outputs": []
    },
    {
      "cell_type": "code",
      "metadata": {
        "id": "cSSGrxc5oF3q"
      },
      "source": [
        "gdf = geopandas.GeoDataFrame(\n",
        "    df, geometry=geopandas.points_from_xy(df.latitude, df.longitude))\n",
        "\n",
        "world = geopandas.read_file(geopandas.datasets.get_path('naturalearth_lowres'))\n",
        "\n",
        "# We restrict to South America.\n",
        "ax = world[world.name == 'Brazil'].plot(\n",
        "    color='white', edgecolor='black')\n",
        "\n",
        "# We can now plot our ``GeoDataFrame``.\n",
        "gdf.plot(ax=ax, color='red')\n",
        "\n",
        "plt.show()"
      ],
      "execution_count": null,
      "outputs": []
    },
    {
      "cell_type": "code",
      "metadata": {
        "id": "Qy2dWgTOpcSk"
      },
      "source": [
        "#g = geopandas.GeoDataFrame(\n",
        " #   df[:100], geometry=geopandas.points_from_xy(df[:100].latitude, df[:100].longitude))\n",
        "\n",
        "world = geopandas.read_file('/content/drive/My Drive/Datasets/bcim_2016_21_11_2018.gpkg', layer='lim_unidade_federacao_a')\n",
        "\n",
        "#agg = df[:100].groupby(df.state).count()[['new_deaths']].reset_index()\n",
        "#agg['sigla'] = agg['state']\n",
        "\n",
        "#world = world.merge(agg, on='sigla', how='left')\n"
      ],
      "execution_count": null,
      "outputs": []
    },
    {
      "cell_type": "code",
      "metadata": {
        "id": "Uw6BMJBSpmhp"
      },
      "source": [
        "df.groupby(df.state).count()[['new_deaths']]"
      ],
      "execution_count": null,
      "outputs": []
    }
  ]
}